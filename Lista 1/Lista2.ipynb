{
 "cells": [
  {
   "cell_type": "code",
   "execution_count": 60,
   "metadata": {},
   "outputs": [
    {
     "name": "stderr",
     "output_type": "stream",
     "text": [
      "\u001b[32m\u001b[1m   Resolving\u001b[22m\u001b[39m package versions...\n",
      "\u001b[32m\u001b[1m  No Changes\u001b[22m\u001b[39m to `~/.julia/environments/v1.8/Project.toml`\n",
      "\u001b[32m\u001b[1m  No Changes\u001b[22m\u001b[39m to `~/.julia/environments/v1.8/Manifest.toml`\n"
     ]
    },
    {
     "name": "stderr",
     "output_type": "stream",
     "text": [
      "\u001b[32m\u001b[1m   Resolving\u001b[22m\u001b[39m package versions...\n",
      "\u001b[32m\u001b[1m  No Changes\u001b[22m\u001b[39m to `~/.julia/environments/v1.8/Project.toml`\n",
      "\u001b[32m\u001b[1m  No Changes\u001b[22m\u001b[39m to `~/.julia/environments/v1.8/Manifest.toml`\n"
     ]
    },
    {
     "name": "stderr",
     "output_type": "stream",
     "text": [
      "\u001b[32m\u001b[1m   Resolving\u001b[22m\u001b[39m package versions...\n",
      "\u001b[32m\u001b[1m  No Changes\u001b[22m\u001b[39m to `~/.julia/environments/v1.8/Project.toml`\n",
      "\u001b[32m\u001b[1m  No Changes\u001b[22m\u001b[39m to `~/.julia/environments/v1.8/Manifest.toml`\n"
     ]
    },
    {
     "name": "stderr",
     "output_type": "stream",
     "text": [
      "\u001b[32m\u001b[1m   Resolving\u001b[22m\u001b[39m package versions...\n",
      "\u001b[32m\u001b[1m  No Changes\u001b[22m\u001b[39m to `~/.julia/environments/v1.8/Project.toml`\n",
      "\u001b[32m\u001b[1m  No Changes\u001b[22m\u001b[39m to `~/.julia/environments/v1.8/Manifest.toml`\n"
     ]
    },
    {
     "name": "stderr",
     "output_type": "stream",
     "text": [
      "\u001b[32m\u001b[1m   Resolving\u001b[22m\u001b[39m package versions...\n"
     ]
    },
    {
     "name": "stderr",
     "output_type": "stream",
     "text": [
      "┌ Error: curl_easy_setopt: 48\n",
      "└ @ Downloads.Curl /builddir/build/BUILD/julia-1.8.0/build/usr/share/julia/stdlib/v1.8/Downloads/src/Curl/utils.jl:29\n",
      "┌ Error: curl_easy_setopt: 48\n",
      "└ @ Downloads.Curl /builddir/build/BUILD/julia-1.8.0/build/usr/share/julia/stdlib/v1.8/Downloads/src/Curl/utils.jl:29\n",
      "┌ Error: curl_easy_setopt: 48\n",
      "└ @ Downloads.Curl /builddir/build/BUILD/julia-1.8.0/build/usr/share/julia/stdlib/v1.8/Downloads/src/Curl/utils.jl:29\n"
     ]
    },
    {
     "name": "stderr",
     "output_type": "stream",
     "text": [
      "┌ Error: curl_easy_setopt: 48\n",
      "└ @ Downloads.Curl /builddir/build/BUILD/julia-1.8.0/build/usr/share/julia/stdlib/v1.8/Downloads/src/Curl/utils.jl:29\n",
      "┌ Error: curl_easy_setopt: 48\n",
      "└ @ Downloads.Curl /builddir/build/BUILD/julia-1.8.0/build/usr/share/julia/stdlib/v1.8/Downloads/src/Curl/utils.jl:29\n",
      "┌ Error: curl_easy_setopt: 48\n",
      "└ @ Downloads.Curl /builddir/build/BUILD/julia-1.8.0/build/usr/share/julia/stdlib/v1.8/Downloads/src/Curl/utils.jl:29\n",
      "┌ Error: curl_easy_setopt: 48\n",
      "└ @ Downloads.Curl /builddir/build/BUILD/julia-1.8.0/build/usr/share/julia/stdlib/v1.8/Downloads/src/Curl/utils.jl:29\n",
      "┌ Error: curl_easy_setopt: 48\n",
      "└ @ Downloads.Curl /builddir/build/BUILD/julia-1.8.0/build/usr/share/julia/stdlib/v1.8/Downloads/src/Curl/utils.jl:29\n",
      "┌ Error: curl_easy_setopt: 48\n",
      "└ @ Downloads.Curl /builddir/build/BUILD/julia-1.8.0/build/usr/share/julia/stdlib/v1.8/Downloads/src/Curl/utils.jl:29\n",
      "┌ Error: curl_easy_setopt: 48\n",
      "└ @ Downloads.Curl /builddir/build/BUILD/julia-1.8.0/build/usr/share/julia/stdlib/v1.8/Downloads/src/Curl/utils.jl:29\n",
      "┌ Error: curl_easy_setopt: 48\n",
      "└ @ Downloads.Curl /builddir/build/BUILD/julia-1.8.0/build/usr/share/julia/stdlib/v1.8/Downloads/src/Curl/utils.jl:29\n",
      "┌ Error: curl_easy_setopt: 48\n",
      "└ @ Downloads.Curl /builddir/build/BUILD/julia-1.8.0/build/usr/share/julia/stdlib/v1.8/Downloads/src/Curl/utils.jl:29\n",
      "┌ Error: curl_easy_setopt: 48\n",
      "└ @ Downloads.Curl /builddir/build/BUILD/julia-1.8.0/build/usr/share/julia/stdlib/v1.8/Downloads/src/Curl/utils.jl:29\n",
      "┌ Error: curl_easy_setopt: 48\n",
      "└ @ Downloads.Curl /builddir/build/BUILD/julia-1.8.0/build/usr/share/julia/stdlib/v1.8/Downloads/src/Curl/utils.jl:29\n",
      "┌ Error: curl_easy_setopt: 48\n",
      "└ @ Downloads.Curl /builddir/build/BUILD/julia-1.8.0/build/usr/share/julia/stdlib/v1.8/Downloads/src/Curl/utils.jl:29\n",
      "┌ Error: curl_easy_setopt: 48\n",
      "└ @ Downloads.Curl /builddir/build/BUILD/julia-1.8.0/build/usr/share/julia/stdlib/v1.8/Downloads/src/Curl/utils.jl:29\n",
      "┌ Error: curl_easy_setopt: 48\n",
      "└ @ Downloads.Curl /builddir/build/BUILD/julia-1.8.0/build/usr/share/julia/stdlib/v1.8/Downloads/src/Curl/utils.jl:29\n",
      "┌ Error: curl_easy_setopt: 48\n",
      "└ @ Downloads.Curl /builddir/build/BUILD/julia-1.8.0/build/usr/share/julia/stdlib/v1.8/Downloads/src/Curl/utils.jl:29\n",
      "┌ Error: curl_easy_setopt: 48\n",
      "└ @ Downloads.Curl /builddir/build/BUILD/julia-1.8.0/build/usr/share/julia/stdlib/v1.8/Downloads/src/Curl/utils.jl:29\n",
      "┌ Error: curl_easy_setopt: 48\n",
      "└ @ Downloads.Curl /builddir/build/BUILD/julia-1.8.0/build/usr/share/julia/stdlib/v1.8/Downloads/src/Curl/utils.jl:29\n",
      "┌ Error: curl_easy_setopt: 48\n",
      "└ @ Downloads.Curl /builddir/build/BUILD/julia-1.8.0/build/usr/share/julia/stdlib/v1.8/Downloads/src/Curl/utils.jl:29\n",
      "┌ Error: curl_easy_setopt: 48\n",
      "└ @ Downloads.Curl /builddir/build/BUILD/julia-1.8.0/build/usr/share/julia/stdlib/v1.8/Downloads/src/Curl/utils.jl:29\n",
      "┌ Error: curl_easy_setopt: 48\n",
      "└ @ Downloads.Curl /builddir/build/BUILD/julia-1.8.0/build/usr/share/julia/stdlib/v1.8/Downloads/src/Curl/utils.jl:29\n",
      "┌ Error: curl_easy_setopt: 48\n",
      "└ @ Downloads.Curl /builddir/build/BUILD/julia-1.8.0/build/usr/share/julia/stdlib/v1.8/Downloads/src/Curl/utils.jl:29\n",
      "┌ Error: curl_easy_setopt: 48\n",
      "└ @ Downloads.Curl /builddir/build/BUILD/julia-1.8.0/build/usr/share/julia/stdlib/v1.8/Downloads/src/Curl/utils.jl:29\n",
      "┌ Error: curl_easy_setopt: 48\n",
      "└ @ Downloads.Curl /builddir/build/BUILD/julia-1.8.0/build/usr/share/julia/stdlib/v1.8/Downloads/src/Curl/utils.jl:29\n",
      "┌ Error: curl_easy_setopt: 48\n",
      "└ @ Downloads.Curl /builddir/build/BUILD/julia-1.8.0/build/usr/share/julia/stdlib/v1.8/Downloads/src/Curl/utils.jl:29\n"
     ]
    },
    {
     "name": "stderr",
     "output_type": "stream",
     "text": [
      "\u001b[32m\u001b[1m   Installed\u001b[22m\u001b[39m RelocatableFolders ─────────── v1.0.0\n",
      "┌ Error: curl_easy_setopt: 48\n",
      "└ @ Downloads.Curl /builddir/build/BUILD/julia-1.8.0/build/usr/share/julia/stdlib/v1.8/Downloads/src/Curl/utils.jl:29\n",
      "┌ Error: curl_easy_setopt: 48\n",
      "└ @ Downloads.Curl /builddir/build/BUILD/julia-1.8.0/build/usr/share/julia/stdlib/v1.8/Downloads/src/Curl/utils.jl:29\n",
      "┌ Error: curl_easy_setopt: 48\n",
      "└ @ Downloads.Curl /builddir/build/BUILD/julia-1.8.0/build/usr/share/julia/stdlib/v1.8/Downloads/src/Curl/utils.jl:29\n",
      "\u001b[32m\u001b[1m   Installed\u001b[22m\u001b[39m Libmount_jll ───────────────── v2.35.0+0\n",
      "\u001b[32m\u001b[1m   Installed\u001b[22m\u001b[39m Xorg_xkbcomp_jll ───────────── v1.4.2+4\n",
      "┌ Error: curl_easy_setopt: 48\n",
      "└ @ Downloads.Curl /builddir/build/BUILD/julia-1.8.0/build/usr/share/julia/stdlib/v1.8/Downloads/src/Curl/utils.jl:29\n",
      "┌ Error: curl_easy_setopt: 48\n",
      "└ @ Downloads.Curl /builddir/build/BUILD/julia-1.8.0/build/usr/share/julia/stdlib/v1.8/Downloads/src/Curl/utils.jl:29\n",
      "┌ Error: curl_easy_setopt: 48\n",
      "└ @ Downloads.Curl /builddir/build/BUILD/julia-1.8.0/build/usr/share/julia/stdlib/v1.8/Downloads/src/Curl/utils.jl:29\n",
      "\u001b[32m\u001b[1m   Installed\u001b[22m\u001b[39m Opus_jll ───────────────────── v1.3.2+0\n",
      "\u001b[32m\u001b[1m   Installed\u001b[22m\u001b[39m libfdk_aac_jll ─────────────── v2.0.2+0\n",
      "┌ Error: curl_easy_setopt: 48\n",
      "└ @ Downloads.Curl /builddir/build/BUILD/julia-1.8.0/build/usr/share/julia/stdlib/v1.8/Downloads/src/Curl/utils.jl:29\n",
      "┌ Error: curl_easy_setopt: 48\n",
      "└ @ Downloads.Curl /builddir/build/BUILD/julia-1.8.0/build/usr/share/julia/stdlib/v1.8/Downloads/src/Curl/utils.jl:29\n",
      "┌ Error: curl_easy_setopt: 48\n",
      "└ @ Downloads.Curl /builddir/build/BUILD/julia-1.8.0/build/usr/share/julia/stdlib/v1.8/Downloads/src/Curl/utils.jl:29\n",
      "\u001b[32m\u001b[1m   Installed\u001b[22m\u001b[39m GR_jll ─────────────────────── v0.72.4+0\n",
      "\u001b[32m\u001b[1m   Installed\u001b[22m\u001b[39m x265_jll ───────────────────── v3.5.0+0\n",
      "┌ Error: curl_easy_setopt: 48\n",
      "└ @ Downloads.Curl /builddir/build/BUILD/julia-1.8.0/build/usr/share/julia/stdlib/v1.8/Downloads/src/Curl/utils.jl:29\n",
      "┌ Error: curl_easy_setopt: 48\n",
      "└ @ Downloads.Curl /builddir/build/BUILD/julia-1.8.0/build/usr/share/julia/stdlib/v1.8/Downloads/src/Curl/utils.jl:29\n",
      "┌ Error: curl_easy_setopt: 48\n",
      "└ @ Downloads.Curl /builddir/build/BUILD/julia-1.8.0/build/usr/share/julia/stdlib/v1.8/Downloads/src/Curl/utils.jl:29\n",
      "\u001b[32m\u001b[1m   Installed\u001b[22m\u001b[39m LoggingExtras ──────────────── v1.0.0\n",
      "┌ Error: curl_easy_setopt: 48\n",
      "└ @ Downloads.Curl /builddir/build/BUILD/julia-1.8.0/build/usr/share/julia/stdlib/v1.8/Downloads/src/Curl/utils.jl:29\n",
      "┌ Error: curl_easy_setopt: 48\n",
      "└ @ Downloads.Curl /builddir/build/BUILD/julia-1.8.0/build/usr/share/julia/stdlib/v1.8/Downloads/src/Curl/utils.jl:29\n",
      "┌ Error: curl_easy_setopt: 48\n",
      "└ @ Downloads.Curl /builddir/build/BUILD/julia-1.8.0/build/usr/share/julia/stdlib/v1.8/Downloads/src/Curl/utils.jl:29\n",
      "┌ Error: curl_easy_setopt: 48\n",
      "└ @ Downloads.Curl /builddir/build/BUILD/julia-1.8.0/build/usr/share/julia/stdlib/v1.8/Downloads/src/Curl/utils.jl:29\n",
      "┌ Error: curl_easy_setopt: 48\n",
      "└ @ Downloads.Curl /builddir/build/BUILD/julia-1.8.0/build/usr/share/julia/stdlib/v1.8/Downloads/src/Curl/utils.jl:29\n",
      "┌ Error: curl_easy_setopt: 48\n",
      "└ @ Downloads.Curl /builddir/build/BUILD/julia-1.8.0/build/usr/share/julia/stdlib/v1.8/Downloads/src/Curl/utils.jl:29\n",
      "┌ Error: curl_easy_setopt: 48\n",
      "└ @ Downloads.Curl /builddir/build/BUILD/julia-1.8.0/build/usr/share/julia/stdlib/v1.8/Downloads/src/Curl/utils.jl:29\n",
      "┌ Error: curl_easy_setopt: 48\n",
      "└ @ Downloads.Curl /builddir/build/BUILD/julia-1.8.0/build/usr/share/julia/stdlib/v1.8/Downloads/src/Curl/utils.jl:29\n",
      "┌ Error: curl_easy_setopt: 48\n",
      "└ @ Downloads.Curl /builddir/build/BUILD/julia-1.8.0/build/usr/share/julia/stdlib/v1.8/Downloads/src/Curl/utils.jl:29\n",
      "┌ Error: curl_easy_setopt: 48\n",
      "└ @ Downloads.Curl /builddir/build/BUILD/julia-1.8.0/build/usr/share/julia/stdlib/v1.8/Downloads/src/Curl/utils.jl:29\n",
      "┌ Error: curl_easy_setopt: 48\n",
      "└ @ Downloads.Curl /builddir/build/BUILD/julia-1.8.0/build/usr/share/julia/stdlib/v1.8/Downloads/src/Curl/utils.jl:29\n",
      "┌ Error: curl_easy_setopt: 48\n",
      "└ @ Downloads.Curl /builddir/build/BUILD/julia-1.8.0/build/usr/share/julia/stdlib/v1.8/Downloads/src/Curl/utils.jl:29\n",
      "\u001b[32m\u001b[1m   Installed\u001b[22m\u001b[39m Measures ───────────────────── v0.3.2\n",
      "┌ Error: curl_easy_setopt: 48\n",
      "└ @ Downloads.Curl /builddir/build/BUILD/julia-1.8.0/build/usr/share/julia/stdlib/v1.8/Downloads/src/Curl/utils.jl:29\n",
      "┌ Error: curl_easy_setopt: 48\n",
      "└ @ Downloads.Curl /builddir/build/BUILD/julia-1.8.0/build/usr/share/julia/stdlib/v1.8/Downloads/src/Curl/utils.jl:29\n",
      "┌ Error: curl_easy_setopt: 48\n",
      "└ @ Downloads.Curl /builddir/build/BUILD/julia-1.8.0/build/usr/share/julia/stdlib/v1.8/Downloads/src/Curl/utils.jl:29\n"
     ]
    },
    {
     "name": "stderr",
     "output_type": "stream",
     "text": [
      "\u001b[32m\u001b[1m   Installed\u001b[22m\u001b[39m Grisu ──────────────────────── v1.0.2\n",
      "\u001b[32m\u001b[1m   Installed\u001b[22m\u001b[39m Xorg_xcb_util_wm_jll ───────── v0.4.1+1\n",
      "┌ Error: curl_easy_setopt: 48\n",
      "└ @ Downloads.Curl /builddir/build/BUILD/julia-1.8.0/build/usr/share/julia/stdlib/v1.8/Downloads/src/Curl/utils.jl:29\n",
      "┌ Error: curl_easy_setopt: 48\n",
      "└ @ Downloads.Curl /builddir/build/BUILD/julia-1.8.0/build/usr/share/julia/stdlib/v1.8/Downloads/src/Curl/utils.jl:29\n",
      "┌ Error: curl_easy_setopt: 48\n",
      "└ @ Downloads.Curl /builddir/build/BUILD/julia-1.8.0/build/usr/share/julia/stdlib/v1.8/Downloads/src/Curl/utils.jl:29\n",
      "\u001b[32m\u001b[1m   Installed\u001b[22m\u001b[39m Xorg_xcb_util_image_jll ────── v0.4.0+1\n",
      "┌ Error: curl_easy_setopt: 48\n",
      "└ @ Downloads.Curl /builddir/build/BUILD/julia-1.8.0/build/usr/share/julia/stdlib/v1.8/Downloads/src/Curl/utils.jl:29\n",
      "┌ Error: curl_easy_setopt: 48\n",
      "└ @ Downloads.Curl /builddir/build/BUILD/julia-1.8.0/build/usr/share/julia/stdlib/v1.8/Downloads/src/Curl/utils.jl:29\n",
      "┌ Error: curl_easy_setopt: 48\n",
      "└ @ Downloads.Curl /builddir/build/BUILD/julia-1.8.0/build/usr/share/julia/stdlib/v1.8/Downloads/src/Curl/utils.jl:29\n",
      "\u001b[32m\u001b[1m   Installed\u001b[22m\u001b[39m ConcurrentUtilities ────────── v2.1.1\n",
      "\u001b[32m\u001b[1m   Installed\u001b[22m\u001b[39m Formatting ─────────────────── v0.4.2\n",
      "┌ Error: curl_easy_setopt: 48\n",
      "└ @ Downloads.Curl /builddir/build/BUILD/julia-1.8.0/build/usr/share/julia/stdlib/v1.8/Downloads/src/Curl/utils.jl:29\n",
      "┌ Error: curl_easy_setopt: 48\n",
      "└ @ Downloads.Curl /builddir/build/BUILD/julia-1.8.0/build/usr/share/julia/stdlib/v1.8/Downloads/src/Curl/utils.jl:29\n",
      "┌ Error: curl_easy_setopt: 48\n",
      "└ @ Downloads.Curl /builddir/build/BUILD/julia-1.8.0/build/usr/share/julia/stdlib/v1.8/Downloads/src/Curl/utils.jl:29\n",
      "┌ Error: curl_easy_setopt: 48\n",
      "└ @ Downloads.Curl /builddir/build/BUILD/julia-1.8.0/build/usr/share/julia/stdlib/v1.8/Downloads/src/Curl/utils.jl:29\n",
      "┌ Error: curl_easy_setopt: 48\n",
      "└ @ Downloads.Curl /builddir/build/BUILD/julia-1.8.0/build/usr/share/julia/stdlib/v1.8/Downloads/src/Curl/utils.jl:29\n",
      "┌ Error: curl_easy_setopt: 48\n",
      "└ @ Downloads.Curl /builddir/build/BUILD/julia-1.8.0/build/usr/share/julia/stdlib/v1.8/Downloads/src/Curl/utils.jl:29\n",
      "┌ Error: curl_easy_setopt: 48\n",
      "└ @ Downloads.Curl /builddir/build/BUILD/julia-1.8.0/build/usr/share/julia/stdlib/v1.8/Downloads/src/Curl/utils.jl:29\n",
      "┌ Error: curl_easy_setopt: 48\n",
      "└ @ Downloads.Curl /builddir/build/BUILD/julia-1.8.0/build/usr/share/julia/stdlib/v1.8/Downloads/src/Curl/utils.jl:29\n",
      "┌ Error: curl_easy_setopt: 48\n",
      "└ @ Downloads.Curl /builddir/build/BUILD/julia-1.8.0/build/usr/share/julia/stdlib/v1.8/Downloads/src/Curl/utils.jl:29\n",
      "\u001b[32m\u001b[1m   Installed\u001b[22m\u001b[39m PlotUtils ──────────────────── v1.3.5\n",
      "┌ Error: curl_easy_setopt: 48\n",
      "└ @ Downloads.Curl /builddir/build/BUILD/julia-1.8.0/build/usr/share/julia/stdlib/v1.8/Downloads/src/Curl/utils.jl:29\n",
      "┌ Error: curl_easy_setopt: 48\n",
      "└ @ Downloads.Curl /builddir/build/BUILD/julia-1.8.0/build/usr/share/julia/stdlib/v1.8/Downloads/src/Curl/utils.jl:29\n",
      "┌ Error: curl_easy_setopt: 48\n",
      "└ @ Downloads.Curl /builddir/build/BUILD/julia-1.8.0/build/usr/share/julia/stdlib/v1.8/Downloads/src/Curl/utils.jl:29\n",
      "\u001b[32m\u001b[1m   Installed\u001b[22m\u001b[39m Contour ────────────────────── v0.6.2\n",
      "┌ Error: curl_easy_setopt: 48\n",
      "└ @ Downloads.Curl /builddir/build/BUILD/julia-1.8.0/build/usr/share/julia/stdlib/v1.8/Downloads/src/Curl/utils.jl:29\n",
      "┌ Error: curl_easy_setopt: 48\n",
      "└ @ Downloads.Curl /builddir/build/BUILD/julia-1.8.0/build/usr/share/julia/stdlib/v1.8/Downloads/src/Curl/utils.jl:29\n",
      "┌ Error: curl_easy_setopt: 48\n",
      "└ @ Downloads.Curl /builddir/build/BUILD/julia-1.8.0/build/usr/share/julia/stdlib/v1.8/Downloads/src/Curl/utils.jl:29\n"
     ]
    },
    {
     "name": "stderr",
     "output_type": "stream",
     "text": [
      "\u001b[32m\u001b[1m   Installed\u001b[22m\u001b[39m Cairo_jll ──────────────────── v1.16.1+1\n",
      "\u001b[32m\u001b[1m   Installed\u001b[22m\u001b[39m RecipesPipeline ────────────── v0.6.12\n",
      "┌ Error: curl_easy_setopt: 48\n",
      "└ @ Downloads.Curl /builddir/build/BUILD/julia-1.8.0/build/usr/share/julia/stdlib/v1.8/Downloads/src/Curl/utils.jl:29\n",
      "┌ Error: curl_easy_setopt: 48\n",
      "└ @ Downloads.Curl /builddir/build/BUILD/julia-1.8.0/build/usr/share/julia/stdlib/v1.8/Downloads/src/Curl/utils.jl:29\n",
      "┌ Error: curl_easy_setopt: 48\n",
      "└ @ Downloads.Curl /builddir/build/BUILD/julia-1.8.0/build/usr/share/julia/stdlib/v1.8/Downloads/src/Curl/utils.jl:29\n",
      "\u001b[32m\u001b[1m   Installed\u001b[22m\u001b[39m Xorg_libpthread_stubs_jll ──── v0.1.0+3\n",
      "┌ Error: curl_easy_setopt: 48\n",
      "└ @ Downloads.Curl /builddir/build/BUILD/julia-1.8.0/build/usr/share/julia/stdlib/v1.8/Downloads/src/Curl/utils.jl:29\n",
      "┌ Error: curl_easy_setopt: 48\n",
      "└ @ Downloads.Curl /builddir/build/BUILD/julia-1.8.0/build/usr/share/julia/stdlib/v1.8/Downloads/src/Curl/utils.jl:29\n",
      "┌ Error: curl_easy_setopt: 48\n",
      "└ @ Downloads.Curl /builddir/build/BUILD/julia-1.8.0/build/usr/share/julia/stdlib/v1.8/Downloads/src/Curl/utils.jl:29\n",
      "\u001b[32m\u001b[1m   Installed\u001b[22m\u001b[39m OpenSSL ────────────────────── v1.4.0\n",
      "┌ Error: curl_easy_setopt: 48\n",
      "└ @ Downloads.Curl /builddir/build/BUILD/julia-1.8.0/build/usr/share/julia/stdlib/v1.8/Downloads/src/Curl/utils.jl:29\n",
      "┌ Error: curl_easy_setopt: 48\n",
      "└ @ Downloads.Curl /builddir/build/BUILD/julia-1.8.0/build/usr/share/julia/stdlib/v1.8/Downloads/src/Curl/utils.jl:29\n",
      "┌ Error: curl_easy_setopt: 48\n",
      "└ @ Downloads.Curl /builddir/build/BUILD/julia-1.8.0/build/usr/share/julia/stdlib/v1.8/Downloads/src/Curl/utils.jl:29\n",
      "┌ Error: curl_easy_setopt: 48\n",
      "└ @ Downloads.Curl /builddir/build/BUILD/julia-1.8.0/build/usr/share/julia/stdlib/v1.8/Downloads/src/Curl/utils.jl:29\n",
      "┌ Error: curl_easy_setopt: 48\n",
      "└ @ Downloads.Curl /builddir/build/BUILD/julia-1.8.0/build/usr/share/julia/stdlib/v1.8/Downloads/src/Curl/utils.jl:29\n",
      "┌ Error: curl_easy_setopt: 48\n",
      "└ @ Downloads.Curl /builddir/build/BUILD/julia-1.8.0/build/usr/share/julia/stdlib/v1.8/Downloads/src/Curl/utils.jl:29\n",
      "\u001b[32m\u001b[1m   Installed\u001b[22m\u001b[39m Xorg_xcb_util_jll ──────────── v0.4.0+1\n",
      "┌ Error: curl_easy_setopt: 48\n",
      "└ @ Downloads.Curl /builddir/build/BUILD/julia-1.8.0/build/usr/share/julia/stdlib/v1.8/Downloads/src/Curl/utils.jl:29\n",
      "┌ Error: curl_easy_setopt: 48\n",
      "└ @ Downloads.Curl /builddir/build/BUILD/julia-1.8.0/build/usr/share/julia/stdlib/v1.8/Downloads/src/Curl/utils.jl:29\n",
      "┌ Error: curl_easy_setopt: 48\n",
      "└ @ Downloads.Curl /builddir/build/BUILD/julia-1.8.0/build/usr/share/julia/stdlib/v1.8/Downloads/src/Curl/utils.jl:29\n",
      "\u001b[32m\u001b[1m   Installed\u001b[22m\u001b[39m Fontconfig_jll ─────────────── v2.13.93+0\n",
      "┌ Error: curl_easy_setopt: 48\n",
      "└ @ Downloads.Curl /builddir/build/BUILD/julia-1.8.0/build/usr/share/julia/stdlib/v1.8/Downloads/src/Curl/utils.jl:29\n",
      "┌ Error: curl_easy_setopt: 48\n",
      "└ @ Downloads.Curl /builddir/build/BUILD/julia-1.8.0/build/usr/share/julia/stdlib/v1.8/Downloads/src/Curl/utils.jl:29\n",
      "┌ Error: curl_easy_setopt: 48\n",
      "└ @ Downloads.Curl /builddir/build/BUILD/julia-1.8.0/build/usr/share/julia/stdlib/v1.8/Downloads/src/Curl/utils.jl:29\n",
      "\u001b[32m\u001b[1m   Installed\u001b[22m\u001b[39m HTTP ───────────────────────── v1.8.0\n",
      "┌ Error: curl_easy_setopt: 48\n",
      "└ @ Downloads.Curl /builddir/build/BUILD/julia-1.8.0/build/usr/share/julia/stdlib/v1.8/Downloads/src/Curl/utils.jl:29\n",
      "┌ Error: curl_easy_setopt: 48\n",
      "└ @ Downloads.Curl /builddir/build/BUILD/julia-1.8.0/build/usr/share/julia/stdlib/v1.8/Downloads/src/Curl/utils.jl:29\n",
      "┌ Error: curl_easy_setopt: 48\n",
      "└ @ Downloads.Curl /builddir/build/BUILD/julia-1.8.0/build/usr/share/julia/stdlib/v1.8/Downloads/src/Curl/utils.jl:29\n",
      "\u001b[32m\u001b[1m   Installed\u001b[22m\u001b[39m Xorg_libXau_jll ────────────── v1.0.9+4\n",
      "\u001b[32m\u001b[1m   Installed\u001b[22m\u001b[39m Libgpg_error_jll ───────────── v1.42.0+0\n",
      "┌ Error: curl_easy_setopt: 48\n",
      "└ @ Downloads.Curl /builddir/build/BUILD/julia-1.8.0/build/usr/share/julia/stdlib/v1.8/Downloads/src/Curl/utils.jl:29\n",
      "┌ Error: curl_easy_setopt: 48\n",
      "└ @ Downloads.Curl /builddir/build/BUILD/julia-1.8.0/build/usr/share/julia/stdlib/v1.8/Downloads/src/Curl/utils.jl:29\n",
      "┌ Error: curl_easy_setopt: 48\n",
      "└ @ Downloads.Curl /builddir/build/BUILD/julia-1.8.0/build/usr/share/julia/stdlib/v1.8/Downloads/src/Curl/utils.jl:29\n",
      "\u001b[32m\u001b[1m   Installed\u001b[22m\u001b[39m Xorg_libXinerama_jll ───────── v1.1.4+4\n",
      "\u001b[32m\u001b[1m   Installed\u001b[22m\u001b[39m Xorg_libxkbfile_jll ────────── v1.1.0+4\n",
      "┌ Error: curl_easy_setopt: 48\n",
      "└ @ Downloads.Curl /builddir/build/BUILD/julia-1.8.0/build/usr/share/julia/stdlib/v1.8/Downloads/src/Curl/utils.jl:29\n",
      "┌ Error: curl_easy_setopt: 48\n",
      "└ @ Downloads.Curl /builddir/build/BUILD/julia-1.8.0/build/usr/share/julia/stdlib/v1.8/Downloads/src/Curl/utils.jl:29\n",
      "┌ Error: curl_easy_setopt: 48\n",
      "└ @ Downloads.Curl /builddir/build/BUILD/julia-1.8.0/build/usr/share/julia/stdlib/v1.8/Downloads/src/Curl/utils.jl:29\n",
      "┌ Error: curl_easy_setopt: 48\n",
      "└ @ Downloads.Curl /builddir/build/BUILD/julia-1.8.0/build/usr/share/julia/stdlib/v1.8/Downloads/src/Curl/utils.jl:29\n",
      "┌ Error: curl_easy_setopt: 48\n",
      "└ @ Downloads.Curl /builddir/build/BUILD/julia-1.8.0/build/usr/share/julia/stdlib/v1.8/Downloads/src/Curl/utils.jl:29\n",
      "┌ Error: curl_easy_setopt: 48\n",
      "└ @ Downloads.Curl /builddir/build/BUILD/julia-1.8.0/build/usr/share/julia/stdlib/v1.8/Downloads/src/Curl/utils.jl:29\n",
      "┌ Error: curl_easy_setopt: 48\n",
      "└ @ Downloads.Curl /builddir/build/BUILD/julia-1.8.0/build/usr/share/julia/stdlib/v1.8/Downloads/src/Curl/utils.jl:29\n",
      "┌ Error: curl_easy_setopt: 48\n",
      "└ @ Downloads.Curl /builddir/build/BUILD/julia-1.8.0/build/usr/share/julia/stdlib/v1.8/Downloads/src/Curl/utils.jl:29\n",
      "┌ Error: curl_easy_setopt: 48\n",
      "└ @ Downloads.Curl /builddir/build/BUILD/julia-1.8.0/build/usr/share/julia/stdlib/v1.8/Downloads/src/Curl/utils.jl:29\n"
     ]
    },
    {
     "name": "stderr",
     "output_type": "stream",
     "text": [
      "\u001b[32m\u001b[1m   Installed\u001b[22m\u001b[39m Showoff ────────────────────── v1.0.3\n",
      "\u001b[32m\u001b[1m   Installed\u001b[22m\u001b[39m FFMPEG ─────────────────────── v0.4.1\n",
      "┌ Error: curl_easy_setopt: 48\n",
      "└ @ Downloads.Curl /builddir/build/BUILD/julia-1.8.0/build/usr/share/julia/stdlib/v1.8/Downloads/src/Curl/utils.jl:29\n",
      "┌ Error: curl_easy_setopt: 48\n",
      "└ @ Downloads.Curl /builddir/build/BUILD/julia-1.8.0/build/usr/share/julia/stdlib/v1.8/Downloads/src/Curl/utils.jl:29\n",
      "┌ Error: curl_easy_setopt: 48\n",
      "└ @ Downloads.Curl /builddir/build/BUILD/julia-1.8.0/build/usr/share/julia/stdlib/v1.8/Downloads/src/Curl/utils.jl:29\n",
      "┌ Error: curl_easy_setopt: 48\n",
      "└ @ Downloads.Curl /builddir/build/BUILD/julia-1.8.0/build/usr/share/julia/stdlib/v1.8/Downloads/src/Curl/utils.jl:29\n",
      "┌ Error: curl_easy_setopt: 48\n",
      "└ @ Downloads.Curl /builddir/build/BUILD/julia-1.8.0/build/usr/share/julia/stdlib/v1.8/Downloads/src/Curl/utils.jl:29\n",
      "┌ Error: curl_easy_setopt: 48\n",
      "└ @ Downloads.Curl /builddir/build/BUILD/julia-1.8.0/build/usr/share/julia/stdlib/v1.8/Downloads/src/Curl/utils.jl:29\n",
      "\u001b[32m\u001b[1m   Installed\u001b[22m\u001b[39m Xorg_xcb_util_keysyms_jll ──── v0.4.0+1\n",
      "\u001b[32m\u001b[1m   Installed\u001b[22m\u001b[39m Bzip2_jll ──────────────────── v1.0.8+0\n",
      "┌ Error: curl_easy_setopt: 48\n",
      "└ @ Downloads.Curl /builddir/build/BUILD/julia-1.8.0/build/usr/share/julia/stdlib/v1.8/Downloads/src/Curl/utils.jl:29\n",
      "┌ Error: curl_easy_setopt: 48\n",
      "└ @ Downloads.Curl /builddir/build/BUILD/julia-1.8.0/build/usr/share/julia/stdlib/v1.8/Downloads/src/Curl/utils.jl:29\n",
      "┌ Error: curl_easy_setopt: 48\n",
      "└ @ Downloads.Curl /builddir/build/BUILD/julia-1.8.0/build/usr/share/julia/stdlib/v1.8/Downloads/src/Curl/utils.jl:29\n",
      "\u001b[32m\u001b[1m   Installed\u001b[22m\u001b[39m Qt5Base_jll ────────────────── v5.15.3+2\n",
      "\u001b[32m\u001b[1m   Installed\u001b[22m\u001b[39m xkbcommon_jll ──────────────── v1.4.1+0\n",
      "┌ Error: curl_easy_setopt: 48\n",
      "└ @ Downloads.Curl /builddir/build/BUILD/julia-1.8.0/build/usr/share/julia/stdlib/v1.8/Downloads/src/Curl/utils.jl:29\n",
      "┌ Error: curl_easy_setopt: 48\n",
      "└ @ Downloads.Curl /builddir/build/BUILD/julia-1.8.0/build/usr/share/julia/stdlib/v1.8/Downloads/src/Curl/utils.jl:29\n",
      "┌ Error: curl_easy_setopt: 48\n",
      "└ @ Downloads.Curl /builddir/build/BUILD/julia-1.8.0/build/usr/share/julia/stdlib/v1.8/Downloads/src/Curl/utils.jl:29\n",
      "┌ Error: curl_easy_setopt: 48\n",
      "└ @ Downloads.Curl /builddir/build/BUILD/julia-1.8.0/build/usr/share/julia/stdlib/v1.8/Downloads/src/Curl/utils.jl:29\n",
      "┌ Error: curl_easy_setopt: 48\n",
      "└ @ Downloads.Curl /builddir/build/BUILD/julia-1.8.0/build/usr/share/julia/stdlib/v1.8/Downloads/src/Curl/utils.jl:29\n",
      "┌ Error: curl_easy_setopt: 48\n",
      "└ @ Downloads.Curl /builddir/build/BUILD/julia-1.8.0/build/usr/share/julia/stdlib/v1.8/Downloads/src/Curl/utils.jl:29\n",
      "┌ Error: curl_easy_setopt: 48\n",
      "└ @ Downloads.Curl /builddir/build/BUILD/julia-1.8.0/build/usr/share/julia/stdlib/v1.8/Downloads/src/Curl/utils.jl:29\n",
      "┌ Error: curl_easy_setopt: 48\n",
      "└ @ Downloads.Curl /builddir/build/BUILD/julia-1.8.0/build/usr/share/julia/stdlib/v1.8/Downloads/src/Curl/utils.jl:29\n",
      "┌ Error: curl_easy_setopt: 48\n",
      "└ @ Downloads.Curl /builddir/build/BUILD/julia-1.8.0/build/usr/share/julia/stdlib/v1.8/Downloads/src/Curl/utils.jl:29\n",
      "\u001b[32m\u001b[1m   Installed\u001b[22m\u001b[39m JSON ───────────────────────── v0.21.4\n",
      "┌ Error: curl_easy_setopt: 48\n",
      "└ @ Downloads.Curl /builddir/build/BUILD/julia-1.8.0/build/usr/share/julia/stdlib/v1.8/Downloads/src/Curl/utils.jl:29\n",
      "┌ Error: curl_easy_setopt: 48\n",
      "└ @ Downloads.Curl /builddir/build/BUILD/julia-1.8.0/build/usr/share/julia/stdlib/v1.8/Downloads/src/Curl/utils.jl:29\n",
      "┌ Error: curl_easy_setopt: 48\n",
      "└ @ Downloads.Curl /builddir/build/BUILD/julia-1.8.0/build/usr/share/julia/stdlib/v1.8/Downloads/src/Curl/utils.jl:29\n",
      "\u001b[32m\u001b[1m   Installed\u001b[22m\u001b[39m SimpleBufferStream ─────────── v1.1.0\n",
      "\u001b[32m\u001b[1m   Installed\u001b[22m\u001b[39m Pipe ───────────────────────── v1.3.0\n",
      "┌ Error: curl_easy_setopt: 48\n",
      "└ @ Downloads.Curl /builddir/build/BUILD/julia-1.8.0/build/usr/share/julia/stdlib/v1.8/Downloads/src/Curl/utils.jl:29\n",
      "┌ Error: curl_easy_setopt: 48\n",
      "└ @ Downloads.Curl /builddir/build/BUILD/julia-1.8.0/build/usr/share/julia/stdlib/v1.8/Downloads/src/Curl/utils.jl:29\n",
      "┌ Error: curl_easy_setopt: 48\n",
      "└ @ Downloads.Curl /builddir/build/BUILD/julia-1.8.0/build/usr/share/julia/stdlib/v1.8/Downloads/src/Curl/utils.jl:29\n",
      "┌ Error: curl_easy_setopt: 48\n",
      "└ @ Downloads.Curl /builddir/build/BUILD/julia-1.8.0/build/usr/share/julia/stdlib/v1.8/Downloads/src/Curl/utils.jl:29\n",
      "┌ Error: curl_easy_setopt: 48\n",
      "└ @ Downloads.Curl /builddir/build/BUILD/julia-1.8.0/build/usr/share/julia/stdlib/v1.8/Downloads/src/Curl/utils.jl:29\n",
      "┌ Error: curl_easy_setopt: 48\n",
      "└ @ Downloads.Curl /builddir/build/BUILD/julia-1.8.0/build/usr/share/julia/stdlib/v1.8/Downloads/src/Curl/utils.jl:29\n",
      "\u001b[32m\u001b[1m   Installed\u001b[22m\u001b[39m HarfBuzz_jll ───────────────── v2.8.1+1\n",
      "┌ Error: curl_easy_setopt: 48\n",
      "└ @ Downloads.Curl /builddir/build/BUILD/julia-1.8.0/build/usr/share/julia/stdlib/v1.8/Downloads/src/Curl/utils.jl:29\n",
      "┌ Error: curl_easy_setopt: 48\n",
      "└ @ Downloads.Curl /builddir/build/BUILD/julia-1.8.0/build/usr/share/julia/stdlib/v1.8/Downloads/src/Curl/utils.jl:29\n",
      "┌ Error: curl_easy_setopt: 48\n",
      "└ @ Downloads.Curl /builddir/build/BUILD/julia-1.8.0/build/usr/share/julia/stdlib/v1.8/Downloads/src/Curl/utils.jl:29\n",
      "\u001b[32m\u001b[1m   Installed\u001b[22m\u001b[39m fzf_jll ────────────────────── v0.29.0+0\n",
      "\u001b[32m\u001b[1m   Installed\u001b[22m\u001b[39m FriBidi_jll ────────────────── v1.0.10+0\n",
      "┌ Error: curl_easy_setopt: 48\n",
      "└ @ Downloads.Curl /builddir/build/BUILD/julia-1.8.0/build/usr/share/julia/stdlib/v1.8/Downloads/src/Curl/utils.jl:29\n",
      "┌ Error: curl_easy_setopt: 48\n",
      "└ @ Downloads.Curl /builddir/build/BUILD/julia-1.8.0/build/usr/share/julia/stdlib/v1.8/Downloads/src/Curl/utils.jl:29\n",
      "┌ Error: curl_easy_setopt: 48\n",
      "└ @ Downloads.Curl /builddir/build/BUILD/julia-1.8.0/build/usr/share/julia/stdlib/v1.8/Downloads/src/Curl/utils.jl:29\n",
      "\u001b[32m\u001b[1m   Installed\u001b[22m\u001b[39m LZO_jll ────────────────────── v2.10.1+0\n",
      "\u001b[32m\u001b[1m   Installed\u001b[22m\u001b[39m PlotThemes ─────────────────── v3.1.0\n",
      "┌ Error: curl_easy_setopt: 48\n",
      "└ @ Downloads.Curl /builddir/build/BUILD/julia-1.8.0/build/usr/share/julia/stdlib/v1.8/Downloads/src/Curl/utils.jl:29\n",
      "┌ Error: curl_easy_setopt: 48\n",
      "└ @ Downloads.Curl /builddir/build/BUILD/julia-1.8.0/build/usr/share/julia/stdlib/v1.8/Downloads/src/Curl/utils.jl:29\n",
      "┌ Error: curl_easy_setopt: 48\n",
      "└ @ Downloads.Curl /builddir/build/BUILD/julia-1.8.0/build/usr/share/julia/stdlib/v1.8/Downloads/src/Curl/utils.jl:29\n",
      "┌ Error: curl_easy_setopt: 48\n",
      "└ @ Downloads.Curl /builddir/build/BUILD/julia-1.8.0/build/usr/share/julia/stdlib/v1.8/Downloads/src/Curl/utils.jl:29\n",
      "┌ Error: curl_easy_setopt: 48\n",
      "└ @ Downloads.Curl /builddir/build/BUILD/julia-1.8.0/build/usr/share/julia/stdlib/v1.8/Downloads/src/Curl/utils.jl:29\n",
      "┌ Error: curl_easy_setopt: 48\n",
      "└ @ Downloads.Curl /builddir/build/BUILD/julia-1.8.0/build/usr/share/julia/stdlib/v1.8/Downloads/src/Curl/utils.jl:29\n",
      "┌ Error: curl_easy_setopt: 48\n",
      "└ @ Downloads.Curl /builddir/build/BUILD/julia-1.8.0/build/usr/share/julia/stdlib/v1.8/Downloads/src/Curl/utils.jl:29\n",
      "┌ Error: curl_easy_setopt: 48\n",
      "└ @ Downloads.Curl /builddir/build/BUILD/julia-1.8.0/build/usr/share/julia/stdlib/v1.8/Downloads/src/Curl/utils.jl:29\n",
      "┌ Error: curl_easy_setopt: 48\n",
      "└ @ Downloads.Curl /builddir/build/BUILD/julia-1.8.0/build/usr/share/julia/stdlib/v1.8/Downloads/src/Curl/utils.jl:29\n"
     ]
    },
    {
     "name": "stderr",
     "output_type": "stream",
     "text": [
      "\u001b[32m\u001b[1m   Installed\u001b[22m\u001b[39m UnicodeFun ─────────────────── v0.4.1\n",
      "\u001b[32m\u001b[1m   Installed\u001b[22m\u001b[39m MbedTLS ────────────────────── v1.1.7\n",
      "┌ Error: curl_easy_setopt: 48\n",
      "└ @ Downloads.Curl /builddir/build/BUILD/julia-1.8.0/build/usr/share/julia/stdlib/v1.8/Downloads/src/Curl/utils.jl:29\n",
      "┌ Error: curl_easy_setopt: 48\n",
      "└ @ Downloads.Curl /builddir/build/BUILD/julia-1.8.0/build/usr/share/julia/stdlib/v1.8/Downloads/src/Curl/utils.jl:29\n",
      "┌ Error: curl_easy_setopt: 48\n",
      "└ @ Downloads.Curl /builddir/build/BUILD/julia-1.8.0/build/usr/share/julia/stdlib/v1.8/Downloads/src/Curl/utils.jl:29\n",
      "┌ Error: curl_easy_setopt: 48\n",
      "└ @ Downloads.Curl /builddir/build/BUILD/julia-1.8.0/build/usr/share/julia/stdlib/v1.8/Downloads/src/Curl/utils.jl:29\n",
      "┌ Error: curl_easy_setopt: 48\n",
      "└ @ Downloads.Curl /builddir/build/BUILD/julia-1.8.0/build/usr/share/julia/stdlib/v1.8/Downloads/src/Curl/utils.jl:29\n",
      "┌ Error: curl_easy_setopt: 48\n",
      "└ @ Downloads.Curl /builddir/build/BUILD/julia-1.8.0/build/usr/share/julia/stdlib/v1.8/Downloads/src/Curl/utils.jl:29\n",
      "\u001b[32m\u001b[1m   Installed\u001b[22m\u001b[39m GR ─────────────────────────── v0.72.4\n",
      "┌ Error: curl_easy_setopt: 48\n",
      "└ @ Downloads.Curl /builddir/build/BUILD/julia-1.8.0/build/usr/share/julia/stdlib/v1.8/Downloads/src/Curl/utils.jl:29\n",
      "┌ Error: curl_easy_setopt: 48\n",
      "└ @ Downloads.Curl /builddir/build/BUILD/julia-1.8.0/build/usr/share/julia/stdlib/v1.8/Downloads/src/Curl/utils.jl:29\n",
      "┌ Error: curl_easy_setopt: 48\n",
      "└ @ Downloads.Curl /builddir/build/BUILD/julia-1.8.0/build/usr/share/julia/stdlib/v1.8/Downloads/src/Curl/utils.jl:29\n"
     ]
    },
    {
     "name": "stderr",
     "output_type": "stream",
     "text": [
      "\u001b[32m\u001b[1m   Installed\u001b[22m\u001b[39m GLFW_jll ───────────────────── v3.3.8+0\n",
      "\u001b[32m\u001b[1m   Installed\u001b[22m\u001b[39m FreeType2_jll ──────────────── v2.10.4+0\n",
      "┌ Error: curl_easy_setopt: 48\n",
      "└ @ Downloads.Curl /builddir/build/BUILD/julia-1.8.0/build/usr/share/julia/stdlib/v1.8/Downloads/src/Curl/utils.jl:29\n",
      "┌ Error: curl_easy_setopt: 48\n",
      "└ @ Downloads.Curl /builddir/build/BUILD/julia-1.8.0/build/usr/share/julia/stdlib/v1.8/Downloads/src/Curl/utils.jl:29\n",
      "┌ Error: curl_easy_setopt: 48\n",
      "└ @ Downloads.Curl /builddir/build/BUILD/julia-1.8.0/build/usr/share/julia/stdlib/v1.8/Downloads/src/Curl/utils.jl:29\n",
      "\u001b[32m\u001b[1m   Installed\u001b[22m\u001b[39m libaom_jll ─────────────────── v3.4.0+0\n",
      "┌ Error: curl_easy_setopt: 48\n",
      "└ @ Downloads.Curl /builddir/build/BUILD/julia-1.8.0/build/usr/share/julia/stdlib/v1.8/Downloads/src/Curl/utils.jl:29\n",
      "┌ Error: curl_easy_setopt: 48\n",
      "└ @ Downloads.Curl /builddir/build/BUILD/julia-1.8.0/build/usr/share/julia/stdlib/v1.8/Downloads/src/Curl/utils.jl:29\n",
      "┌ Error: curl_easy_setopt: 48\n",
      "└ @ Downloads.Curl /builddir/build/BUILD/julia-1.8.0/build/usr/share/julia/stdlib/v1.8/Downloads/src/Curl/utils.jl:29\n",
      "\u001b[32m\u001b[1m   Installed\u001b[22m\u001b[39m x264_jll ───────────────────── v2021.5.5+0\n",
      "┌ Error: curl_easy_setopt: 48\n",
      "└ @ Downloads.Curl /builddir/build/BUILD/julia-1.8.0/build/usr/share/julia/stdlib/v1.8/Downloads/src/Curl/utils.jl:29\n",
      "┌ Error: curl_easy_setopt: 48\n",
      "└ @ Downloads.Curl /builddir/build/BUILD/julia-1.8.0/build/usr/share/julia/stdlib/v1.8/Downloads/src/Curl/utils.jl:29\n",
      "┌ Error: curl_easy_setopt: 48\n",
      "└ @ Downloads.Curl /builddir/build/BUILD/julia-1.8.0/build/usr/share/julia/stdlib/v1.8/Downloads/src/Curl/utils.jl:29\n",
      "\u001b[32m\u001b[1m   Installed\u001b[22m\u001b[39m Xorg_libxcb_jll ────────────── v1.13.0+3\n",
      "\u001b[32m\u001b[1m   Installed\u001b[22m\u001b[39m JLFzf ──────────────────────── v0.1.5\n",
      "┌ Error: curl_easy_setopt: 48\n",
      "└ @ Downloads.Curl /builddir/build/BUILD/julia-1.8.0/build/usr/share/julia/stdlib/v1.8/Downloads/src/Curl/utils.jl:29\n",
      "┌ Error: curl_easy_setopt: 48\n",
      "└ @ Downloads.Curl /builddir/build/BUILD/julia-1.8.0/build/usr/share/julia/stdlib/v1.8/Downloads/src/Curl/utils.jl:29\n",
      "┌ Error: curl_easy_setopt: 48\n",
      "└ @ Downloads.Curl /builddir/build/BUILD/julia-1.8.0/build/usr/share/julia/stdlib/v1.8/Downloads/src/Curl/utils.jl:29\n",
      "\u001b[32m\u001b[1m   Installed\u001b[22m\u001b[39m CodecZlib ──────────────────── v0.7.1\n",
      "┌ Error: curl_easy_setopt: 48\n",
      "└ @ Downloads.Curl /builddir/build/BUILD/julia-1.8.0/build/usr/share/julia/stdlib/v1.8/Downloads/src/Curl/utils.jl:29\n",
      "┌ Error: curl_easy_setopt: 48\n",
      "└ @ Downloads.Curl /builddir/build/BUILD/julia-1.8.0/build/usr/share/julia/stdlib/v1.8/Downloads/src/Curl/utils.jl:29\n",
      "┌ Error: curl_easy_setopt: 48\n",
      "└ @ Downloads.Curl /builddir/build/BUILD/julia-1.8.0/build/usr/share/julia/stdlib/v1.8/Downloads/src/Curl/utils.jl:29\n",
      "┌ Error: curl_easy_setopt: 48\n",
      "└ @ Downloads.Curl /builddir/build/BUILD/julia-1.8.0/build/usr/share/julia/stdlib/v1.8/Downloads/src/Curl/utils.jl:29\n",
      "┌ Error: curl_easy_setopt: 48\n",
      "└ @ Downloads.Curl /builddir/build/BUILD/julia-1.8.0/build/usr/share/julia/stdlib/v1.8/Downloads/src/Curl/utils.jl:29\n",
      "┌ Error: curl_easy_setopt: 48\n",
      "└ @ Downloads.Curl /builddir/build/BUILD/julia-1.8.0/build/usr/share/julia/stdlib/v1.8/Downloads/src/Curl/utils.jl:29\n",
      "┌ Error: curl_easy_setopt: 48\n",
      "└ @ Downloads.Curl /builddir/build/BUILD/julia-1.8.0/build/usr/share/julia/stdlib/v1.8/Downloads/src/Curl/utils.jl:29\n",
      "┌ Error: curl_easy_setopt: 48\n",
      "└ @ Downloads.Curl /builddir/build/BUILD/julia-1.8.0/build/usr/share/julia/stdlib/v1.8/Downloads/src/Curl/utils.jl:29\n",
      "┌ Error: curl_easy_setopt: 48\n",
      "└ @ Downloads.Curl /builddir/build/BUILD/julia-1.8.0/build/usr/share/julia/stdlib/v1.8/Downloads/src/Curl/utils.jl:29\n",
      "\u001b[32m\u001b[1m   Installed\u001b[22m\u001b[39m Scratch ────────────────────── v1.2.0\n",
      "┌ Error: curl_easy_setopt: 48\n",
      "└ @ Downloads.Curl /builddir/build/BUILD/julia-1.8.0/build/usr/share/julia/stdlib/v1.8/Downloads/src/Curl/utils.jl:29\n",
      "┌ Error: curl_easy_setopt: 48\n",
      "└ @ Downloads.Curl /builddir/build/BUILD/julia-1.8.0/build/usr/share/julia/stdlib/v1.8/Downloads/src/Curl/utils.jl:29\n",
      "┌ Error: curl_easy_setopt: 48\n",
      "└ @ Downloads.Curl /builddir/build/BUILD/julia-1.8.0/build/usr/share/julia/stdlib/v1.8/Downloads/src/Curl/utils.jl:29\n",
      "\u001b[32m\u001b[1m   Installed\u001b[22m\u001b[39m Plots ──────────────────────── v1.38.10\n",
      "┌ Error: curl_easy_setopt: 48\n",
      "└ @ Downloads.Curl /builddir/build/BUILD/julia-1.8.0/build/usr/share/julia/stdlib/v1.8/Downloads/src/Curl/utils.jl:29\n",
      "┌ Error: curl_easy_setopt: 48\n",
      "└ @ Downloads.Curl /builddir/build/BUILD/julia-1.8.0/build/usr/share/julia/stdlib/v1.8/Downloads/src/Curl/utils.jl:29\n",
      "┌ Error: curl_easy_setopt: 48\n",
      "└ @ Downloads.Curl /builddir/build/BUILD/julia-1.8.0/build/usr/share/julia/stdlib/v1.8/Downloads/src/Curl/utils.jl:29\n",
      "\u001b[32m\u001b[1m   Installed\u001b[22m\u001b[39m Libffi_jll ─────────────────── v3.2.2+1\n",
      "\u001b[32m\u001b[1m   Installed\u001b[22m\u001b[39m Ogg_jll ────────────────────── v1.3.5+1\n",
      "┌ Error: curl_easy_setopt: 48\n",
      "└ @ Downloads.Curl /builddir/build/BUILD/julia-1.8.0/build/usr/share/julia/stdlib/v1.8/Downloads/src/Curl/utils.jl:29\n",
      "┌ Error: curl_easy_setopt: 48\n",
      "└ @ Downloads.Curl /builddir/build/BUILD/julia-1.8.0/build/usr/share/julia/stdlib/v1.8/Downloads/src/Curl/utils.jl:29\n",
      "┌ Error: curl_easy_setopt: 48\n",
      "└ @ Downloads.Curl /builddir/build/BUILD/julia-1.8.0/build/usr/share/julia/stdlib/v1.8/Downloads/src/Curl/utils.jl:29\n",
      "\u001b[32m\u001b[1m   Installed\u001b[22m\u001b[39m Xorg_libXext_jll ───────────── v1.3.4+4\n",
      "\u001b[32m\u001b[1m   Installed\u001b[22m\u001b[39m Expat_jll ──────────────────── v2.4.8+0\n",
      "┌ Error: curl_easy_setopt: 48\n",
      "└ @ Downloads.Curl /builddir/build/BUILD/julia-1.8.0/build/usr/share/julia/stdlib/v1.8/Downloads/src/Curl/utils.jl:29\n",
      "┌ Error: curl_easy_setopt: 48\n",
      "└ @ Downloads.Curl /builddir/build/BUILD/julia-1.8.0/build/usr/share/julia/stdlib/v1.8/Downloads/src/Curl/utils.jl:29\n",
      "┌ Error: curl_easy_setopt: 48\n",
      "└ @ Downloads.Curl /builddir/build/BUILD/julia-1.8.0/build/usr/share/julia/stdlib/v1.8/Downloads/src/Curl/utils.jl:29\n",
      "\u001b[32m\u001b[1m   Installed\u001b[22m\u001b[39m Xorg_libXrender_jll ────────── v0.9.10+4\n",
      "\u001b[32m\u001b[1m   Installed\u001b[22m\u001b[39m Parsers ────────────────────── v2.5.8\n",
      "┌ Error: curl_easy_setopt: 48\n",
      "└ @ Downloads.Curl /builddir/build/BUILD/julia-1.8.0/build/usr/share/julia/stdlib/v1.8/Downloads/src/Curl/utils.jl:29\n",
      "┌ Error: curl_easy_setopt: 48\n",
      "└ @ Downloads.Curl /builddir/build/BUILD/julia-1.8.0/build/usr/share/julia/stdlib/v1.8/Downloads/src/Curl/utils.jl:29\n",
      "┌ Error: curl_easy_setopt: 48\n",
      "└ @ Downloads.Curl /builddir/build/BUILD/julia-1.8.0/build/usr/share/julia/stdlib/v1.8/Downloads/src/Curl/utils.jl:29\n",
      "┌ Error: curl_easy_setopt: 48\n",
      "└ @ Downloads.Curl /builddir/build/BUILD/julia-1.8.0/build/usr/share/julia/stdlib/v1.8/Downloads/src/Curl/utils.jl:29\n",
      "┌ Error: curl_easy_setopt: 48\n",
      "└ @ Downloads.Curl /builddir/build/BUILD/julia-1.8.0/build/usr/share/julia/stdlib/v1.8/Downloads/src/Curl/utils.jl:29\n",
      "┌ Error: curl_easy_setopt: 48\n",
      "└ @ Downloads.Curl /builddir/build/BUILD/julia-1.8.0/build/usr/share/julia/stdlib/v1.8/Downloads/src/Curl/utils.jl:29\n",
      "┌ Error: curl_easy_setopt: 48\n",
      "└ @ Downloads.Curl /builddir/build/BUILD/julia-1.8.0/build/usr/share/julia/stdlib/v1.8/Downloads/src/Curl/utils.jl:29\n",
      "┌ Error: curl_easy_setopt: 48\n",
      "└ @ Downloads.Curl /builddir/build/BUILD/julia-1.8.0/build/usr/share/julia/stdlib/v1.8/Downloads/src/Curl/utils.jl:29\n",
      "┌ Error: curl_easy_setopt: 48\n",
      "└ @ Downloads.Curl /builddir/build/BUILD/julia-1.8.0/build/usr/share/julia/stdlib/v1.8/Downloads/src/Curl/utils.jl:29\n",
      "┌ Error: curl_easy_setopt: 48\n",
      "└ @ Downloads.Curl /builddir/build/BUILD/julia-1.8.0/build/usr/share/julia/stdlib/v1.8/Downloads/src/Curl/utils.jl:29\n",
      "┌ Error: curl_easy_setopt: 48\n",
      "└ @ Downloads.Curl /builddir/build/BUILD/julia-1.8.0/build/usr/share/julia/stdlib/v1.8/Downloads/src/Curl/utils.jl:29\n",
      "┌ Error: curl_easy_setopt: 48\n",
      "└ @ Downloads.Curl /builddir/build/BUILD/julia-1.8.0/build/usr/share/julia/stdlib/v1.8/Downloads/src/Curl/utils.jl:29\n",
      "\u001b[32m\u001b[1m   Installed\u001b[22m\u001b[39m Xorg_libXi_jll ─────────────── v1.7.10+4\n",
      "┌ Error: curl_easy_setopt: 48\n",
      "└ @ Downloads.Curl /builddir/build/BUILD/julia-1.8.0/build/usr/share/julia/stdlib/v1.8/Downloads/src/Curl/utils.jl:29\n",
      "┌ Error: curl_easy_setopt: 48\n",
      "└ @ Downloads.Curl /builddir/build/BUILD/julia-1.8.0/build/usr/share/julia/stdlib/v1.8/Downloads/src/Curl/utils.jl:29\n",
      "┌ Error: curl_easy_setopt: 48\n",
      "└ @ Downloads.Curl /builddir/build/BUILD/julia-1.8.0/build/usr/share/julia/stdlib/v1.8/Downloads/src/Curl/utils.jl:29\n",
      "\u001b[32m\u001b[1m   Installed\u001b[22m\u001b[39m XSLT_jll ───────────────────── v1.1.34+0\n",
      "┌ Error: curl_easy_setopt: 48\n",
      "└ @ Downloads.Curl /builddir/build/BUILD/julia-1.8.0/build/usr/share/julia/stdlib/v1.8/Downloads/src/Curl/utils.jl:29\n",
      "┌ Error: curl_easy_setopt: 48\n",
      "└ @ Downloads.Curl /builddir/build/BUILD/julia-1.8.0/build/usr/share/julia/stdlib/v1.8/Downloads/src/Curl/utils.jl:29\n",
      "┌ Error: curl_easy_setopt: 48\n",
      "└ @ Downloads.Curl /builddir/build/BUILD/julia-1.8.0/build/usr/share/julia/stdlib/v1.8/Downloads/src/Curl/utils.jl:29\n",
      "\u001b[32m\u001b[1m   Installed\u001b[22m\u001b[39m Xorg_libXcursor_jll ────────── v1.2.0+4\n",
      "\u001b[32m\u001b[1m   Installed\u001b[22m\u001b[39m Libuuid_jll ────────────────── v2.36.0+0\n",
      "┌ Error: curl_easy_setopt: 48\n",
      "└ @ Downloads.Curl /builddir/build/BUILD/julia-1.8.0/build/usr/share/julia/stdlib/v1.8/Downloads/src/Curl/utils.jl:29\n",
      "┌ Error: curl_easy_setopt: 48\n",
      "└ @ Downloads.Curl /builddir/build/BUILD/julia-1.8.0/build/usr/share/julia/stdlib/v1.8/Downloads/src/Curl/utils.jl:29\n",
      "┌ Error: curl_easy_setopt: 48\n",
      "└ @ Downloads.Curl /builddir/build/BUILD/julia-1.8.0/build/usr/share/julia/stdlib/v1.8/Downloads/src/Curl/utils.jl:29\n"
     ]
    },
    {
     "name": "stderr",
     "output_type": "stream",
     "text": [
      "┌ Error: curl_easy_setopt: 48\n",
      "└ @ Downloads.Curl /builddir/build/BUILD/julia-1.8.0/build/usr/share/julia/stdlib/v1.8/Downloads/src/Curl/utils.jl:29\n",
      "┌ Error: curl_easy_setopt: 48\n",
      "└ @ Downloads.Curl /builddir/build/BUILD/julia-1.8.0/build/usr/share/julia/stdlib/v1.8/Downloads/src/Curl/utils.jl:29\n",
      "┌ Error: curl_easy_setopt: 48\n",
      "└ @ Downloads.Curl /builddir/build/BUILD/julia-1.8.0/build/usr/share/julia/stdlib/v1.8/Downloads/src/Curl/utils.jl:29\n"
     ]
    },
    {
     "name": "stderr",
     "output_type": "stream",
     "text": [
      "\u001b[32m\u001b[1m   Installed\u001b[22m\u001b[39m libass_jll ─────────────────── v0.15.1+0\n",
      "\u001b[32m\u001b[1m   Installed\u001b[22m\u001b[39m Graphite2_jll ──────────────── v1.3.14+0\n",
      "┌ Error: curl_easy_setopt: 48\n",
      "└ @ Downloads.Curl /builddir/build/BUILD/julia-1.8.0/build/usr/share/julia/stdlib/v1.8/Downloads/src/Curl/utils.jl:29\n",
      "┌ Error: curl_easy_setopt: 48\n",
      "└ @ Downloads.Curl /builddir/build/BUILD/julia-1.8.0/build/usr/share/julia/stdlib/v1.8/Downloads/src/Curl/utils.jl:29\n",
      "┌ Error: curl_easy_setopt: 48\n",
      "└ @ Downloads.Curl /builddir/build/BUILD/julia-1.8.0/build/usr/share/julia/stdlib/v1.8/Downloads/src/Curl/utils.jl:29\n",
      "\u001b[32m\u001b[1m   Installed\u001b[22m\u001b[39m Xorg_xcb_util_renderutil_jll ─ v0.3.9+1\n",
      "\u001b[32m\u001b[1m   Installed\u001b[22m\u001b[39m Wayland_protocols_jll ──────── v1.25.0+0\n",
      "┌ Error: curl_easy_setopt: 48\n",
      "└ @ Downloads.Curl /builddir/build/BUILD/julia-1.8.0/build/usr/share/julia/stdlib/v1.8/Downloads/src/Curl/utils.jl:29\n",
      "┌ Error: curl_easy_setopt: 48\n",
      "└ @ Downloads.Curl /builddir/build/BUILD/julia-1.8.0/build/usr/share/julia/stdlib/v1.8/Downloads/src/Curl/utils.jl:29\n",
      "┌ Error: curl_easy_setopt: 48\n",
      "└ @ Downloads.Curl /builddir/build/BUILD/julia-1.8.0/build/usr/share/julia/stdlib/v1.8/Downloads/src/Curl/utils.jl:29\n",
      "┌ Error: curl_easy_setopt: 48\n",
      "└ @ Downloads.Curl /builddir/build/BUILD/julia-1.8.0/build/usr/share/julia/stdlib/v1.8/Downloads/src/Curl/utils.jl:29\n",
      "┌ Error: curl_easy_setopt: 48\n",
      "└ @ Downloads.Curl /builddir/build/BUILD/julia-1.8.0/build/usr/share/julia/stdlib/v1.8/Downloads/src/Curl/utils.jl:29\n",
      "┌ Error: curl_easy_setopt: 48\n",
      "└ @ Downloads.Curl /builddir/build/BUILD/julia-1.8.0/build/usr/share/julia/stdlib/v1.8/Downloads/src/Curl/utils.jl:29\n",
      "┌ Error: curl_easy_setopt: 48\n",
      "└ @ Downloads.Curl /builddir/build/BUILD/julia-1.8.0/build/usr/share/julia/stdlib/v1.8/Downloads/src/Curl/utils.jl:29\n",
      "┌ Error: curl_easy_setopt: 48\n",
      "└ @ Downloads.Curl /builddir/build/BUILD/julia-1.8.0/build/usr/share/julia/stdlib/v1.8/Downloads/src/Curl/utils.jl:29\n",
      "┌ Error: curl_easy_setopt: 48\n",
      "└ @ Downloads.Curl /builddir/build/BUILD/julia-1.8.0/build/usr/share/julia/stdlib/v1.8/Downloads/src/Curl/utils.jl:29\n",
      "\u001b[32m\u001b[1m   Installed\u001b[22m\u001b[39m Pixman_jll ─────────────────── v0.40.1+0\n",
      "┌ Error: curl_easy_setopt: 48\n",
      "└ @ Downloads.Curl /builddir/build/BUILD/julia-1.8.0/build/usr/share/julia/stdlib/v1.8/Downloads/src/Curl/utils.jl:29\n",
      "┌ Error: curl_easy_setopt: 48\n",
      "└ @ Downloads.Curl /builddir/build/BUILD/julia-1.8.0/build/usr/share/julia/stdlib/v1.8/Downloads/src/Curl/utils.jl:29\n",
      "┌ Error: curl_easy_setopt: 48\n",
      "└ @ Downloads.Curl /builddir/build/BUILD/julia-1.8.0/build/usr/share/julia/stdlib/v1.8/Downloads/src/Curl/utils.jl:29\n",
      "\u001b[32m\u001b[1m   Installed\u001b[22m\u001b[39m XML2_jll ───────────────────── v2.10.3+0\n",
      "┌ Error: curl_easy_setopt: 48\n",
      "└ @ Downloads.Curl /builddir/build/BUILD/julia-1.8.0/build/usr/share/julia/stdlib/v1.8/Downloads/src/Curl/utils.jl:29\n",
      "┌ Error: curl_easy_setopt: 48\n",
      "└ @ Downloads.Curl /builddir/build/BUILD/julia-1.8.0/build/usr/share/julia/stdlib/v1.8/Downloads/src/Curl/utils.jl:29\n",
      "┌ Error: curl_easy_setopt: 48\n",
      "└ @ Downloads.Curl /builddir/build/BUILD/julia-1.8.0/build/usr/share/julia/stdlib/v1.8/Downloads/src/Curl/utils.jl:29\n",
      "\u001b[32m\u001b[1m   Installed\u001b[22m\u001b[39m Gettext_jll ────────────────── v0.21.0+0\n",
      "\u001b[32m\u001b[1m   Installed\u001b[22m\u001b[39m FFMPEG_jll ─────────────────── v4.4.2+2\n",
      "┌ Error: curl_easy_setopt: 48\n",
      "└ @ Downloads.Curl /builddir/build/BUILD/julia-1.8.0/build/usr/share/julia/stdlib/v1.8/Downloads/src/Curl/utils.jl:29\n",
      "┌ Error: curl_easy_setopt: 48\n",
      "└ @ Downloads.Curl /builddir/build/BUILD/julia-1.8.0/build/usr/share/julia/stdlib/v1.8/Downloads/src/Curl/utils.jl:29\n",
      "┌ Error: curl_easy_setopt: 48\n",
      "└ @ Downloads.Curl /builddir/build/BUILD/julia-1.8.0/build/usr/share/julia/stdlib/v1.8/Downloads/src/Curl/utils.jl:29\n",
      "┌ Error: curl_easy_setopt: 48\n",
      "└ @ Downloads.Curl /builddir/build/BUILD/julia-1.8.0/build/usr/share/julia/stdlib/v1.8/Downloads/src/Curl/utils.jl:29\n",
      "┌ Error: curl_easy_setopt: 48\n",
      "└ @ Downloads.Curl /builddir/build/BUILD/julia-1.8.0/build/usr/share/julia/stdlib/v1.8/Downloads/src/Curl/utils.jl:29\n",
      "┌ Error: curl_easy_setopt: 48\n",
      "└ @ Downloads.Curl /builddir/build/BUILD/julia-1.8.0/build/usr/share/julia/stdlib/v1.8/Downloads/src/Curl/utils.jl:29\n",
      "\u001b[32m\u001b[1m   Installed\u001b[22m\u001b[39m Xorg_xtrans_jll ────────────── v1.4.0+3\n",
      "┌ Error: curl_easy_setopt: 48\n",
      "└ @ Downloads.Curl /builddir/build/BUILD/julia-1.8.0/build/usr/share/julia/stdlib/v1.8/Downloads/src/Curl/utils.jl:29\n",
      "┌ Error: curl_easy_setopt: 48\n",
      "└ @ Downloads.Curl /builddir/build/BUILD/julia-1.8.0/build/usr/share/julia/stdlib/v1.8/Downloads/src/Curl/utils.jl:29\n",
      "┌ Error: curl_easy_setopt: 48\n",
      "└ @ Downloads.Curl /builddir/build/BUILD/julia-1.8.0/build/usr/share/julia/stdlib/v1.8/Downloads/src/Curl/utils.jl:29\n",
      "\u001b[32m\u001b[1m   Installed\u001b[22m\u001b[39m Wayland_jll ────────────────── v1.21.0+0\n",
      "\u001b[32m\u001b[1m   Installed\u001b[22m\u001b[39m Libgcrypt_jll ──────────────── v1.8.7+0\n",
      "┌ Error: curl_easy_setopt: 48\n",
      "└ @ Downloads.Curl /builddir/build/BUILD/julia-1.8.0/build/usr/share/julia/stdlib/v1.8/Downloads/src/Curl/utils.jl:29\n",
      "┌ Error: curl_easy_setopt: 48\n",
      "└ @ Downloads.Curl /builddir/build/BUILD/julia-1.8.0/build/usr/share/julia/stdlib/v1.8/Downloads/src/Curl/utils.jl:29\n",
      "┌ Error: curl_easy_setopt: 48\n",
      "└ @ Downloads.Curl /builddir/build/BUILD/julia-1.8.0/build/usr/share/julia/stdlib/v1.8/Downloads/src/Curl/utils.jl:29\n",
      "\u001b[32m\u001b[1m   Installed\u001b[22m\u001b[39m BitFlags ───────────────────── v0.1.7\n",
      "┌ Error: curl_easy_setopt: 48\n",
      "└ @ Downloads.Curl /builddir/build/BUILD/julia-1.8.0/build/usr/share/julia/stdlib/v1.8/Downloads/src/Curl/utils.jl:29\n",
      "┌ Error: curl_easy_setopt: 48\n",
      "└ @ Downloads.Curl /builddir/build/BUILD/julia-1.8.0/build/usr/share/julia/stdlib/v1.8/Downloads/src/Curl/utils.jl:29\n",
      "┌ Error: curl_easy_setopt: 48\n",
      "└ @ Downloads.Curl /builddir/build/BUILD/julia-1.8.0/build/usr/share/julia/stdlib/v1.8/Downloads/src/Curl/utils.jl:29\n",
      "┌ Error: curl_easy_setopt: 48\n",
      "└ @ Downloads.Curl /builddir/build/BUILD/julia-1.8.0/build/usr/share/julia/stdlib/v1.8/Downloads/src/Curl/utils.jl:29\n",
      "┌ Error: curl_easy_setopt: 48\n",
      "└ @ Downloads.Curl /builddir/build/BUILD/julia-1.8.0/build/usr/share/julia/stdlib/v1.8/Downloads/src/Curl/utils.jl:29\n",
      "┌ Error: curl_easy_setopt: 48\n",
      "└ @ Downloads.Curl /builddir/build/BUILD/julia-1.8.0/build/usr/share/julia/stdlib/v1.8/Downloads/src/Curl/utils.jl:29\n",
      "\u001b[32m\u001b[1m   Installed\u001b[22m\u001b[39m Latexify ───────────────────── v0.15.21\n",
      "┌ Error: curl_easy_setopt: 48\n",
      "└ @ Downloads.Curl /builddir/build/BUILD/julia-1.8.0/build/usr/share/julia/stdlib/v1.8/Downloads/src/Curl/utils.jl:29\n",
      "┌ Error: curl_easy_setopt: 48\n",
      "└ @ Downloads.Curl /builddir/build/BUILD/julia-1.8.0/build/usr/share/julia/stdlib/v1.8/Downloads/src/Curl/utils.jl:29\n",
      "┌ Error: curl_easy_setopt: 48\n",
      "└ @ Downloads.Curl /builddir/build/BUILD/julia-1.8.0/build/usr/share/julia/stdlib/v1.8/Downloads/src/Curl/utils.jl:29\n",
      "\u001b[32m\u001b[1m   Installed\u001b[22m\u001b[39m Xorg_xkeyboard_config_jll ──── v2.27.0+4\n",
      "┌ Error: curl_easy_setopt: 48\n",
      "└ @ Downloads.Curl /builddir/build/BUILD/julia-1.8.0/build/usr/share/julia/stdlib/v1.8/Downloads/src/Curl/utils.jl:29\n",
      "┌ Error: curl_easy_setopt: 48\n",
      "└ @ Downloads.Curl /builddir/build/BUILD/julia-1.8.0/build/usr/share/julia/stdlib/v1.8/Downloads/src/Curl/utils.jl:29\n",
      "┌ Error: curl_easy_setopt: 48\n",
      "└ @ Downloads.Curl /builddir/build/BUILD/julia-1.8.0/build/usr/share/julia/stdlib/v1.8/Downloads/src/Curl/utils.jl:29\n"
     ]
    },
    {
     "name": "stderr",
     "output_type": "stream",
     "text": [
      "\u001b[32m\u001b[1m   Installed\u001b[22m\u001b[39m Libiconv_jll ───────────────── v1.16.1+2\n",
      "\u001b[32m\u001b[1m   Installed\u001b[22m\u001b[39m RecipesBase ────────────────── v1.3.4\n",
      "┌ Error: curl_easy_setopt: 48\n",
      "└ @ Downloads.Curl /builddir/build/BUILD/julia-1.8.0/build/usr/share/julia/stdlib/v1.8/Downloads/src/Curl/utils.jl:29\n",
      "┌ Error: curl_easy_setopt: 48\n",
      "└ @ Downloads.Curl /builddir/build/BUILD/julia-1.8.0/build/usr/share/julia/stdlib/v1.8/Downloads/src/Curl/utils.jl:29\n",
      "┌ Error: curl_easy_setopt: 48\n",
      "└ @ Downloads.Curl /builddir/build/BUILD/julia-1.8.0/build/usr/share/julia/stdlib/v1.8/Downloads/src/Curl/utils.jl:29\n",
      "\u001b[32m\u001b[1m   Installed\u001b[22m\u001b[39m LAME_jll ───────────────────── v3.100.1+0\n",
      "┌ Error: curl_easy_setopt: 48\n",
      "└ @ Downloads.Curl /builddir/build/BUILD/julia-1.8.0/build/usr/share/julia/stdlib/v1.8/Downloads/src/Curl/utils.jl:29\n",
      "┌ Error: curl_easy_setopt: 48\n",
      "└ @ Downloads.Curl /builddir/build/BUILD/julia-1.8.0/build/usr/share/julia/stdlib/v1.8/Downloads/src/Curl/utils.jl:29\n",
      "┌ Error: curl_easy_setopt: 48\n",
      "└ @ Downloads.Curl /builddir/build/BUILD/julia-1.8.0/build/usr/share/julia/stdlib/v1.8/Downloads/src/Curl/utils.jl:29\n",
      "\u001b[32m\u001b[1m   Installed\u001b[22m\u001b[39m Xorg_libXrandr_jll ─────────── v1.5.2+4\n",
      "\u001b[32m\u001b[1m   Installed\u001b[22m\u001b[39m Xorg_libXfixes_jll ─────────── v5.0.3+4\n",
      "┌ Error: curl_easy_setopt: 48\n",
      "└ @ Downloads.Curl /builddir/build/BUILD/julia-1.8.0/build/usr/share/julia/stdlib/v1.8/Downloads/src/Curl/utils.jl:29\n",
      "┌ Error: curl_easy_setopt: 48\n",
      "└ @ Downloads.Curl /builddir/build/BUILD/julia-1.8.0/build/usr/share/julia/stdlib/v1.8/Downloads/src/Curl/utils.jl:29\n",
      "┌ Error: curl_easy_setopt: 48\n",
      "└ @ Downloads.Curl /builddir/build/BUILD/julia-1.8.0/build/usr/share/julia/stdlib/v1.8/Downloads/src/Curl/utils.jl:29\n",
      "\u001b[32m\u001b[1m   Installed\u001b[22m\u001b[39m URIs ───────────────────────── v1.4.2\n",
      "┌ Error: curl_easy_setopt: 48\n",
      "└ @ Downloads.Curl /builddir/build/BUILD/julia-1.8.0/build/usr/share/julia/stdlib/v1.8/Downloads/src/Curl/utils.jl:29\n",
      "┌ Error: curl_easy_setopt: 48\n",
      "└ @ Downloads.Curl /builddir/build/BUILD/julia-1.8.0/build/usr/share/julia/stdlib/v1.8/Downloads/src/Curl/utils.jl:29\n",
      "┌ Error: curl_easy_setopt: 48\n",
      "└ @ Downloads.Curl /builddir/build/BUILD/julia-1.8.0/build/usr/share/julia/stdlib/v1.8/Downloads/src/Curl/utils.jl:29\n",
      "┌ Error: curl_easy_setopt: 48\n",
      "└ @ Downloads.Curl /builddir/build/BUILD/julia-1.8.0/build/usr/share/julia/stdlib/v1.8/Downloads/src/Curl/utils.jl:29\n",
      "┌ Error: curl_easy_setopt: 48\n",
      "└ @ Downloads.Curl /builddir/build/BUILD/julia-1.8.0/build/usr/share/julia/stdlib/v1.8/Downloads/src/Curl/utils.jl:29\n",
      "┌ Error: curl_easy_setopt: 48\n",
      "└ @ Downloads.Curl /builddir/build/BUILD/julia-1.8.0/build/usr/share/julia/stdlib/v1.8/Downloads/src/Curl/utils.jl:29\n",
      "┌ Error: curl_easy_setopt: 48\n",
      "└ @ Downloads.Curl /builddir/build/BUILD/julia-1.8.0/build/usr/share/julia/stdlib/v1.8/Downloads/src/Curl/utils.jl:29\n",
      "┌ Error: curl_easy_setopt: 48\n",
      "└ @ Downloads.Curl /builddir/build/BUILD/julia-1.8.0/build/usr/share/julia/stdlib/v1.8/Downloads/src/Curl/utils.jl:29\n",
      "┌ Error: curl_easy_setopt: 48\n",
      "└ @ Downloads.Curl /builddir/build/BUILD/julia-1.8.0/build/usr/share/julia/stdlib/v1.8/Downloads/src/Curl/utils.jl:29\n",
      "\u001b[32m\u001b[1m   Installed\u001b[22m\u001b[39m LaTeXStrings ───────────────── v1.3.0\n",
      "\u001b[32m\u001b[1m   Installed\u001b[22m\u001b[39m PrecompileTools ────────────── v1.0.2\n",
      "\u001b[32m\u001b[1m   Installed\u001b[22m\u001b[39m Glib_jll ───────────────────── v2.74.0+2\n",
      "\u001b[32m\u001b[1m   Installed\u001b[22m\u001b[39m Xorg_libX11_jll ────────────── v1.6.9+4\n",
      "\u001b[32m\u001b[1m   Installed\u001b[22m\u001b[39m Xorg_libXdmcp_jll ──────────── v1.1.3+4\n",
      "\u001b[32m\u001b[1m   Installed\u001b[22m\u001b[39m Libglvnd_jll ───────────────── v1.6.0+0\n",
      "\u001b[32m\u001b[1m   Installed\u001b[22m\u001b[39m Unzip ──────────────────────── v0.2.0\n",
      "\u001b[32m\u001b[1m   Installed\u001b[22m\u001b[39m libvorbis_jll ──────────────── v1.3.7+1\n",
      "┌ Error: curl_easy_setopt: 48\n",
      "└ @ Downloads.Curl /builddir/build/BUILD/julia-1.8.0/build/usr/share/julia/stdlib/v1.8/Downloads/src/Curl/utils.jl:29\n",
      "┌ Error: curl_easy_setopt: 48\n",
      "└ @ Downloads.Curl /builddir/build/BUILD/julia-1.8.0/build/usr/share/julia/stdlib/v1.8/Downloads/src/Curl/utils.jl:29\n",
      "┌ Error: curl_easy_setopt: 48\n",
      "└ @ Downloads.Curl /builddir/build/BUILD/julia-1.8.0/build/usr/share/julia/stdlib/v1.8/Downloads/src/Curl/utils.jl:29\n"
     ]
    },
    {
     "name": "stderr",
     "output_type": "stream",
     "text": [
      "┌ Error: curl_easy_setopt: 48\n",
      "└ @ Downloads.Curl /builddir/build/BUILD/julia-1.8.0/build/usr/share/julia/stdlib/v1.8/Downloads/src/Curl/utils.jl:29\n",
      "┌ Error: curl_easy_setopt: 48\n",
      "└ @ Downloads.Curl /builddir/build/BUILD/julia-1.8.0/build/usr/share/julia/stdlib/v1.8/Downloads/src/Curl/utils.jl:29\n",
      "┌ Error: curl_easy_setopt: 48\n",
      "└ @ Downloads.Curl /builddir/build/BUILD/julia-1.8.0/build/usr/share/julia/stdlib/v1.8/Downloads/src/Curl/utils.jl:29\n"
     ]
    },
    {
     "name": "stderr",
     "output_type": "stream",
     "text": [
      "┌ Error: curl_easy_setopt: 48\n",
      "└ @ Downloads.Curl /builddir/build/BUILD/julia-1.8.0/build/usr/share/julia/stdlib/v1.8/Downloads/src/Curl/utils.jl:29\n",
      "┌ Error: curl_easy_setopt: 48\n",
      "└ @ Downloads.Curl /builddir/build/BUILD/julia-1.8.0/build/usr/share/julia/stdlib/v1.8/Downloads/src/Curl/utils.jl:29\n",
      "┌ Error: curl_easy_setopt: 48\n",
      "└ @ Downloads.Curl /builddir/build/BUILD/julia-1.8.0/build/usr/share/julia/stdlib/v1.8/Downloads/src/Curl/utils.jl:29\n"
     ]
    },
    {
     "name": "stderr",
     "output_type": "stream",
     "text": [
      "┌ Error: curl_easy_setopt: 48\n",
      "└ @ Downloads.Curl /builddir/build/BUILD/julia-1.8.0/build/usr/share/julia/stdlib/v1.8/Downloads/src/Curl/utils.jl:29\n",
      "┌ Error: curl_easy_setopt: 48\n",
      "└ @ Downloads.Curl /builddir/build/BUILD/julia-1.8.0/build/usr/share/julia/stdlib/v1.8/Downloads/src/Curl/utils.jl:29\n",
      "┌ Error: curl_easy_setopt: 48\n",
      "└ @ Downloads.Curl /builddir/build/BUILD/julia-1.8.0/build/usr/share/julia/stdlib/v1.8/Downloads/src/Curl/utils.jl:29\n"
     ]
    },
    {
     "name": "stderr",
     "output_type": "stream",
     "text": [
      "┌ Error: curl_easy_setopt: 48\n",
      "└ @ Downloads.Curl /builddir/build/BUILD/julia-1.8.0/build/usr/share/julia/stdlib/v1.8/Downloads/src/Curl/utils.jl:29\n",
      "┌ Error: curl_easy_setopt: 48\n",
      "└ @ Downloads.Curl /builddir/build/BUILD/julia-1.8.0/build/usr/share/julia/stdlib/v1.8/Downloads/src/Curl/utils.jl:29\n",
      "┌ Error: curl_easy_setopt: 48\n",
      "└ @ Downloads.Curl /builddir/build/BUILD/julia-1.8.0/build/usr/share/julia/stdlib/v1.8/Downloads/src/Curl/utils.jl:29\n",
      "┌ Error: curl_easy_setopt: 48\n",
      "└ @ Downloads.Curl /builddir/build/BUILD/julia-1.8.0/build/usr/share/julia/stdlib/v1.8/Downloads/src/Curl/utils.jl:29\n",
      "┌ Error: curl_easy_setopt: 48\n",
      "└ @ Downloads.Curl /builddir/build/BUILD/julia-1.8.0/build/usr/share/julia/stdlib/v1.8/Downloads/src/Curl/utils.jl:29\n",
      "┌ Error: curl_easy_setopt: 48\n",
      "└ @ Downloads.Curl /builddir/build/BUILD/julia-1.8.0/build/usr/share/julia/stdlib/v1.8/Downloads/src/Curl/utils.jl:29\n"
     ]
    },
    {
     "name": "stderr",
     "output_type": "stream",
     "text": [
      "┌ Error: curl_easy_setopt: 48\n",
      "└ @ Downloads.Curl /builddir/build/BUILD/julia-1.8.0/build/usr/share/julia/stdlib/v1.8/Downloads/src/Curl/utils.jl:29\n",
      "┌ Error: curl_easy_setopt: 48\n",
      "└ @ Downloads.Curl /builddir/build/BUILD/julia-1.8.0/build/usr/share/julia/stdlib/v1.8/Downloads/src/Curl/utils.jl:29\n",
      "┌ Error: curl_easy_setopt: 48\n",
      "└ @ Downloads.Curl /builddir/build/BUILD/julia-1.8.0/build/usr/share/julia/stdlib/v1.8/Downloads/src/Curl/utils.jl:29\n",
      "┌ Error: curl_easy_setopt: 48\n",
      "└ @ Downloads.Curl /builddir/build/BUILD/julia-1.8.0/build/usr/share/julia/stdlib/v1.8/Downloads/src/Curl/utils.jl:29\n",
      "┌ Error: curl_easy_setopt: 48\n",
      "└ @ Downloads.Curl /builddir/build/BUILD/julia-1.8.0/build/usr/share/julia/stdlib/v1.8/Downloads/src/Curl/utils.jl:29\n",
      "┌ Error: curl_easy_setopt: 48\n",
      "└ @ Downloads.Curl /builddir/build/BUILD/julia-1.8.0/build/usr/share/julia/stdlib/v1.8/Downloads/src/Curl/utils.jl:29\n"
     ]
    },
    {
     "name": "stderr",
     "output_type": "stream",
     "text": [
      "┌ Error: curl_easy_setopt: 48\n",
      "└ @ Downloads.Curl /builddir/build/BUILD/julia-1.8.0/build/usr/share/julia/stdlib/v1.8/Downloads/src/Curl/utils.jl:29\n",
      "┌ Error: curl_easy_setopt: 48\n",
      "└ @ Downloads.Curl /builddir/build/BUILD/julia-1.8.0/build/usr/share/julia/stdlib/v1.8/Downloads/src/Curl/utils.jl:29\n",
      "┌ Error: curl_easy_setopt: 48\n",
      "└ @ Downloads.Curl /builddir/build/BUILD/julia-1.8.0/build/usr/share/julia/stdlib/v1.8/Downloads/src/Curl/utils.jl:29\n",
      "┌ Error: curl_easy_setopt: 48\n",
      "└ @ Downloads.Curl /builddir/build/BUILD/julia-1.8.0/build/usr/share/julia/stdlib/v1.8/Downloads/src/Curl/utils.jl:29\n",
      "┌ Error: curl_easy_setopt: 48\n",
      "└ @ Downloads.Curl /builddir/build/BUILD/julia-1.8.0/build/usr/share/julia/stdlib/v1.8/Downloads/src/Curl/utils.jl:29\n",
      "┌ Error: curl_easy_setopt: 48\n",
      "└ @ Downloads.Curl /builddir/build/BUILD/julia-1.8.0/build/usr/share/julia/stdlib/v1.8/Downloads/src/Curl/utils.jl:29\n"
     ]
    },
    {
     "name": "stderr",
     "output_type": "stream",
     "text": [
      "┌ Error: curl_easy_setopt: 48\n",
      "└ @ Downloads.Curl /builddir/build/BUILD/julia-1.8.0/build/usr/share/julia/stdlib/v1.8/Downloads/src/Curl/utils.jl:29\n",
      "┌ Error: curl_easy_setopt: 48\n",
      "└ @ Downloads.Curl /builddir/build/BUILD/julia-1.8.0/build/usr/share/julia/stdlib/v1.8/Downloads/src/Curl/utils.jl:29\n",
      "┌ Error: curl_easy_setopt: 48\n",
      "└ @ Downloads.Curl /builddir/build/BUILD/julia-1.8.0/build/usr/share/julia/stdlib/v1.8/Downloads/src/Curl/utils.jl:29\n",
      "┌ Error: curl_easy_setopt: 48\n",
      "└ @ Downloads.Curl /builddir/build/BUILD/julia-1.8.0/build/usr/share/julia/stdlib/v1.8/Downloads/src/Curl/utils.jl:29\n",
      "┌ Error: curl_easy_setopt: 48\n",
      "└ @ Downloads.Curl /builddir/build/BUILD/julia-1.8.0/build/usr/share/julia/stdlib/v1.8/Downloads/src/Curl/utils.jl:29\n",
      "┌ Error: curl_easy_setopt: 48\n",
      "└ @ Downloads.Curl /builddir/build/BUILD/julia-1.8.0/build/usr/share/julia/stdlib/v1.8/Downloads/src/Curl/utils.jl:29\n"
     ]
    },
    {
     "name": "stderr",
     "output_type": "stream",
     "text": [
      "┌ Error: curl_easy_setopt: 48\n",
      "└ @ Downloads.Curl /builddir/build/BUILD/julia-1.8.0/build/usr/share/julia/stdlib/v1.8/Downloads/src/Curl/utils.jl:29\n",
      "┌ Error: curl_easy_setopt: 48\n",
      "└ @ Downloads.Curl /builddir/build/BUILD/julia-1.8.0/build/usr/share/julia/stdlib/v1.8/Downloads/src/Curl/utils.jl:29\n",
      "┌ Error: curl_easy_setopt: 48\n",
      "└ @ Downloads.Curl /builddir/build/BUILD/julia-1.8.0/build/usr/share/julia/stdlib/v1.8/Downloads/src/Curl/utils.jl:29\n",
      "┌ Error: curl_easy_setopt: 48\n",
      "└ @ Downloads.Curl /builddir/build/BUILD/julia-1.8.0/build/usr/share/julia/stdlib/v1.8/Downloads/src/Curl/utils.jl:29\n",
      "┌ Error: curl_easy_setopt: 48\n",
      "└ @ Downloads.Curl /builddir/build/BUILD/julia-1.8.0/build/usr/share/julia/stdlib/v1.8/Downloads/src/Curl/utils.jl:29\n",
      "┌ Error: curl_easy_setopt: 48\n",
      "└ @ Downloads.Curl /builddir/build/BUILD/julia-1.8.0/build/usr/share/julia/stdlib/v1.8/Downloads/src/Curl/utils.jl:29\n"
     ]
    },
    {
     "name": "stderr",
     "output_type": "stream",
     "text": [
      "┌ Error: curl_easy_setopt: 48\n",
      "└ @ Downloads.Curl /builddir/build/BUILD/julia-1.8.0/build/usr/share/julia/stdlib/v1.8/Downloads/src/Curl/utils.jl:29\n",
      "┌ Error: curl_easy_setopt: 48\n",
      "└ @ Downloads.Curl /builddir/build/BUILD/julia-1.8.0/build/usr/share/julia/stdlib/v1.8/Downloads/src/Curl/utils.jl:29\n",
      "┌ Error: curl_easy_setopt: 48\n",
      "└ @ Downloads.Curl /builddir/build/BUILD/julia-1.8.0/build/usr/share/julia/stdlib/v1.8/Downloads/src/Curl/utils.jl:29\n",
      "┌ Error: curl_easy_setopt: 48\n",
      "└ @ Downloads.Curl /builddir/build/BUILD/julia-1.8.0/build/usr/share/julia/stdlib/v1.8/Downloads/src/Curl/utils.jl:29\n",
      "┌ Error: curl_easy_setopt: 48\n",
      "└ @ Downloads.Curl /builddir/build/BUILD/julia-1.8.0/build/usr/share/julia/stdlib/v1.8/Downloads/src/Curl/utils.jl:29\n",
      "┌ Error: curl_easy_setopt: 48\n",
      "└ @ Downloads.Curl /builddir/build/BUILD/julia-1.8.0/build/usr/share/julia/stdlib/v1.8/Downloads/src/Curl/utils.jl:29\n",
      "┌ Error: curl_easy_setopt: 48\n",
      "└ @ Downloads.Curl /builddir/build/BUILD/julia-1.8.0/build/usr/share/julia/stdlib/v1.8/Downloads/src/Curl/utils.jl:29\n",
      "┌ Error: curl_easy_setopt: 48\n",
      "└ @ Downloads.Curl /builddir/build/BUILD/julia-1.8.0/build/usr/share/julia/stdlib/v1.8/Downloads/src/Curl/utils.jl:29\n",
      "┌ Error: curl_easy_setopt: 48\n",
      "└ @ Downloads.Curl /builddir/build/BUILD/julia-1.8.0/build/usr/share/julia/stdlib/v1.8/Downloads/src/Curl/utils.jl:29\n"
     ]
    },
    {
     "name": "stderr",
     "output_type": "stream",
     "text": [
      "┌ Error: curl_easy_setopt: 48\n",
      "└ @ Downloads.Curl /builddir/build/BUILD/julia-1.8.0/build/usr/share/julia/stdlib/v1.8/Downloads/src/Curl/utils.jl:29\n",
      "┌ Error: curl_easy_setopt: 48\n",
      "└ @ Downloads.Curl /builddir/build/BUILD/julia-1.8.0/build/usr/share/julia/stdlib/v1.8/Downloads/src/Curl/utils.jl:29\n",
      "┌ Error: curl_easy_setopt: 48\n",
      "└ @ Downloads.Curl /builddir/build/BUILD/julia-1.8.0/build/usr/share/julia/stdlib/v1.8/Downloads/src/Curl/utils.jl:29\n",
      "┌ Error: curl_easy_setopt: 48\n",
      "└ @ Downloads.Curl /builddir/build/BUILD/julia-1.8.0/build/usr/share/julia/stdlib/v1.8/Downloads/src/Curl/utils.jl:29\n",
      "┌ Error: curl_easy_setopt: 48\n",
      "└ @ Downloads.Curl /builddir/build/BUILD/julia-1.8.0/build/usr/share/julia/stdlib/v1.8/Downloads/src/Curl/utils.jl:29\n",
      "┌ Error: curl_easy_setopt: 48\n",
      "└ @ Downloads.Curl /builddir/build/BUILD/julia-1.8.0/build/usr/share/julia/stdlib/v1.8/Downloads/src/Curl/utils.jl:29\n"
     ]
    },
    {
     "name": "stderr",
     "output_type": "stream",
     "text": [
      "┌ Error: curl_easy_setopt: 48\n",
      "└ @ Downloads.Curl /builddir/build/BUILD/julia-1.8.0/build/usr/share/julia/stdlib/v1.8/Downloads/src/Curl/utils.jl:29\n",
      "┌ Error: curl_easy_setopt: 48\n",
      "└ @ Downloads.Curl /builddir/build/BUILD/julia-1.8.0/build/usr/share/julia/stdlib/v1.8/Downloads/src/Curl/utils.jl:29\n",
      "┌ Error: curl_easy_setopt: 48\n",
      "└ @ Downloads.Curl /builddir/build/BUILD/julia-1.8.0/build/usr/share/julia/stdlib/v1.8/Downloads/src/Curl/utils.jl:29\n",
      "┌ Error: curl_easy_setopt: 48\n",
      "└ @ Downloads.Curl /builddir/build/BUILD/julia-1.8.0/build/usr/share/julia/stdlib/v1.8/Downloads/src/Curl/utils.jl:29\n",
      "┌ Error: curl_easy_setopt: 48\n",
      "└ @ Downloads.Curl /builddir/build/BUILD/julia-1.8.0/build/usr/share/julia/stdlib/v1.8/Downloads/src/Curl/utils.jl:29\n",
      "┌ Error: curl_easy_setopt: 48\n",
      "└ @ Downloads.Curl /builddir/build/BUILD/julia-1.8.0/build/usr/share/julia/stdlib/v1.8/Downloads/src/Curl/utils.jl:29\n"
     ]
    },
    {
     "name": "stderr",
     "output_type": "stream",
     "text": [
      "┌ Error: curl_easy_setopt: 48\n",
      "└ @ Downloads.Curl /builddir/build/BUILD/julia-1.8.0/build/usr/share/julia/stdlib/v1.8/Downloads/src/Curl/utils.jl:29\n",
      "┌ Error: curl_easy_setopt: 48\n",
      "└ @ Downloads.Curl /builddir/build/BUILD/julia-1.8.0/build/usr/share/julia/stdlib/v1.8/Downloads/src/Curl/utils.jl:29\n",
      "┌ Error: curl_easy_setopt: 48\n",
      "└ @ Downloads.Curl /builddir/build/BUILD/julia-1.8.0/build/usr/share/julia/stdlib/v1.8/Downloads/src/Curl/utils.jl:29\n"
     ]
    },
    {
     "name": "stderr",
     "output_type": "stream",
     "text": [
      "┌ Error: curl_easy_setopt: 48\n",
      "└ @ Downloads.Curl /builddir/build/BUILD/julia-1.8.0/build/usr/share/julia/stdlib/v1.8/Downloads/src/Curl/utils.jl:29\n",
      "┌ Error: curl_easy_setopt: 48\n",
      "└ @ Downloads.Curl /builddir/build/BUILD/julia-1.8.0/build/usr/share/julia/stdlib/v1.8/Downloads/src/Curl/utils.jl:29\n",
      "┌ Error: curl_easy_setopt: 48\n",
      "└ @ Downloads.Curl /builddir/build/BUILD/julia-1.8.0/build/usr/share/julia/stdlib/v1.8/Downloads/src/Curl/utils.jl:29\n"
     ]
    },
    {
     "name": "stderr",
     "output_type": "stream",
     "text": [
      "┌ Error: curl_easy_setopt: 48\n",
      "└ @ Downloads.Curl /builddir/build/BUILD/julia-1.8.0/build/usr/share/julia/stdlib/v1.8/Downloads/src/Curl/utils.jl:29\n",
      "┌ Error: curl_easy_setopt: 48\n",
      "└ @ Downloads.Curl /builddir/build/BUILD/julia-1.8.0/build/usr/share/julia/stdlib/v1.8/Downloads/src/Curl/utils.jl:29\n",
      "┌ Error: curl_easy_setopt: 48\n",
      "└ @ Downloads.Curl /builddir/build/BUILD/julia-1.8.0/build/usr/share/julia/stdlib/v1.8/Downloads/src/Curl/utils.jl:29\n",
      "┌ Error: curl_easy_setopt: 48\n",
      "└ @ Downloads.Curl /builddir/build/BUILD/julia-1.8.0/build/usr/share/julia/stdlib/v1.8/Downloads/src/Curl/utils.jl:29\n",
      "┌ Error: curl_easy_setopt: 48\n",
      "└ @ Downloads.Curl /builddir/build/BUILD/julia-1.8.0/build/usr/share/julia/stdlib/v1.8/Downloads/src/Curl/utils.jl:29\n",
      "┌ Error: curl_easy_setopt: 48\n",
      "└ @ Downloads.Curl /builddir/build/BUILD/julia-1.8.0/build/usr/share/julia/stdlib/v1.8/Downloads/src/Curl/utils.jl:29\n"
     ]
    },
    {
     "name": "stderr",
     "output_type": "stream",
     "text": [
      "┌ Error: curl_easy_setopt: 48\n",
      "└ @ Downloads.Curl /builddir/build/BUILD/julia-1.8.0/build/usr/share/julia/stdlib/v1.8/Downloads/src/Curl/utils.jl:29\n",
      "┌ Error: curl_easy_setopt: 48\n",
      "└ @ Downloads.Curl /builddir/build/BUILD/julia-1.8.0/build/usr/share/julia/stdlib/v1.8/Downloads/src/Curl/utils.jl:29\n",
      "┌ Error: curl_easy_setopt: 48\n",
      "└ @ Downloads.Curl /builddir/build/BUILD/julia-1.8.0/build/usr/share/julia/stdlib/v1.8/Downloads/src/Curl/utils.jl:29\n"
     ]
    },
    {
     "name": "stderr",
     "output_type": "stream",
     "text": [
      "┌ Error: curl_easy_setopt: 48\n",
      "└ @ Downloads.Curl /builddir/build/BUILD/julia-1.8.0/build/usr/share/julia/stdlib/v1.8/Downloads/src/Curl/utils.jl:29\n",
      "┌ Error: curl_easy_setopt: 48\n",
      "└ @ Downloads.Curl /builddir/build/BUILD/julia-1.8.0/build/usr/share/julia/stdlib/v1.8/Downloads/src/Curl/utils.jl:29\n",
      "┌ Error: curl_easy_setopt: 48\n",
      "└ @ Downloads.Curl /builddir/build/BUILD/julia-1.8.0/build/usr/share/julia/stdlib/v1.8/Downloads/src/Curl/utils.jl:29\n"
     ]
    },
    {
     "name": "stderr",
     "output_type": "stream",
     "text": [
      "┌ Error: curl_easy_setopt: 48\n",
      "└ @ Downloads.Curl /builddir/build/BUILD/julia-1.8.0/build/usr/share/julia/stdlib/v1.8/Downloads/src/Curl/utils.jl:29\n",
      "┌ Error: curl_easy_setopt: 48\n",
      "└ @ Downloads.Curl /builddir/build/BUILD/julia-1.8.0/build/usr/share/julia/stdlib/v1.8/Downloads/src/Curl/utils.jl:29\n",
      "┌ Error: curl_easy_setopt: 48\n",
      "└ @ Downloads.Curl /builddir/build/BUILD/julia-1.8.0/build/usr/share/julia/stdlib/v1.8/Downloads/src/Curl/utils.jl:29\n"
     ]
    },
    {
     "name": "stderr",
     "output_type": "stream",
     "text": [
      "┌ Error: curl_easy_setopt: 48\n",
      "└ @ Downloads.Curl /builddir/build/BUILD/julia-1.8.0/build/usr/share/julia/stdlib/v1.8/Downloads/src/Curl/utils.jl:29\n",
      "┌ Error: curl_easy_setopt: 48\n",
      "└ @ Downloads.Curl /builddir/build/BUILD/julia-1.8.0/build/usr/share/julia/stdlib/v1.8/Downloads/src/Curl/utils.jl:29\n",
      "┌ Error: curl_easy_setopt: 48\n",
      "└ @ Downloads.Curl /builddir/build/BUILD/julia-1.8.0/build/usr/share/julia/stdlib/v1.8/Downloads/src/Curl/utils.jl:29\n"
     ]
    },
    {
     "name": "stderr",
     "output_type": "stream",
     "text": [
      "┌ Error: curl_easy_setopt: 48\n",
      "└ @ Downloads.Curl /builddir/build/BUILD/julia-1.8.0/build/usr/share/julia/stdlib/v1.8/Downloads/src/Curl/utils.jl:29\n",
      "┌ Error: curl_easy_setopt: 48\n",
      "└ @ Downloads.Curl /builddir/build/BUILD/julia-1.8.0/build/usr/share/julia/stdlib/v1.8/Downloads/src/Curl/utils.jl:29\n",
      "┌ Error: curl_easy_setopt: 48\n",
      "└ @ Downloads.Curl /builddir/build/BUILD/julia-1.8.0/build/usr/share/julia/stdlib/v1.8/Downloads/src/Curl/utils.jl:29\n"
     ]
    },
    {
     "name": "stderr",
     "output_type": "stream",
     "text": [
      "┌ Error: curl_easy_setopt: 48\n",
      "└ @ Downloads.Curl /builddir/build/BUILD/julia-1.8.0/build/usr/share/julia/stdlib/v1.8/Downloads/src/Curl/utils.jl:29\n",
      "┌ Error: curl_easy_setopt: 48\n",
      "└ @ Downloads.Curl /builddir/build/BUILD/julia-1.8.0/build/usr/share/julia/stdlib/v1.8/Downloads/src/Curl/utils.jl:29\n",
      "┌ Error: curl_easy_setopt: 48\n",
      "└ @ Downloads.Curl /builddir/build/BUILD/julia-1.8.0/build/usr/share/julia/stdlib/v1.8/Downloads/src/Curl/utils.jl:29\n",
      "┌ Error: curl_easy_setopt: 48\n",
      "└ @ Downloads.Curl /builddir/build/BUILD/julia-1.8.0/build/usr/share/julia/stdlib/v1.8/Downloads/src/Curl/utils.jl:29\n",
      "┌ Error: curl_easy_setopt: 48\n",
      "└ @ Downloads.Curl /builddir/build/BUILD/julia-1.8.0/build/usr/share/julia/stdlib/v1.8/Downloads/src/Curl/utils.jl:29\n",
      "┌ Error: curl_easy_setopt: 48\n",
      "└ @ Downloads.Curl /builddir/build/BUILD/julia-1.8.0/build/usr/share/julia/stdlib/v1.8/Downloads/src/Curl/utils.jl:29\n"
     ]
    },
    {
     "name": "stderr",
     "output_type": "stream",
     "text": [
      "┌ Error: curl_easy_setopt: 48\n",
      "└ @ Downloads.Curl /builddir/build/BUILD/julia-1.8.0/build/usr/share/julia/stdlib/v1.8/Downloads/src/Curl/utils.jl:29\n",
      "┌ Error: curl_easy_setopt: 48\n",
      "└ @ Downloads.Curl /builddir/build/BUILD/julia-1.8.0/build/usr/share/julia/stdlib/v1.8/Downloads/src/Curl/utils.jl:29\n",
      "┌ Error: curl_easy_setopt: 48\n",
      "└ @ Downloads.Curl /builddir/build/BUILD/julia-1.8.0/build/usr/share/julia/stdlib/v1.8/Downloads/src/Curl/utils.jl:29\n"
     ]
    },
    {
     "name": "stderr",
     "output_type": "stream",
     "text": [
      "┌ Error: curl_easy_setopt: 48\n",
      "└ @ Downloads.Curl /builddir/build/BUILD/julia-1.8.0/build/usr/share/julia/stdlib/v1.8/Downloads/src/Curl/utils.jl:29\n",
      "┌ Error: curl_easy_setopt: 48\n",
      "└ @ Downloads.Curl /builddir/build/BUILD/julia-1.8.0/build/usr/share/julia/stdlib/v1.8/Downloads/src/Curl/utils.jl:29\n",
      "┌ Error: curl_easy_setopt: 48\n",
      "└ @ Downloads.Curl /builddir/build/BUILD/julia-1.8.0/build/usr/share/julia/stdlib/v1.8/Downloads/src/Curl/utils.jl:29\n",
      "┌ Error: curl_easy_setopt: 48\n",
      "└ @ Downloads.Curl /builddir/build/BUILD/julia-1.8.0/build/usr/share/julia/stdlib/v1.8/Downloads/src/Curl/utils.jl:29\n",
      "┌ Error: curl_easy_setopt: 48\n",
      "└ @ Downloads.Curl /builddir/build/BUILD/julia-1.8.0/build/usr/share/julia/stdlib/v1.8/Downloads/src/Curl/utils.jl:29\n",
      "┌ Error: curl_easy_setopt: 48\n",
      "└ @ Downloads.Curl /builddir/build/BUILD/julia-1.8.0/build/usr/share/julia/stdlib/v1.8/Downloads/src/Curl/utils.jl:29\n"
     ]
    },
    {
     "name": "stderr",
     "output_type": "stream",
     "text": [
      "┌ Error: curl_easy_setopt: 48\n",
      "└ @ Downloads.Curl /builddir/build/BUILD/julia-1.8.0/build/usr/share/julia/stdlib/v1.8/Downloads/src/Curl/utils.jl:29\n",
      "┌ Error: curl_easy_setopt: 48\n",
      "└ @ Downloads.Curl /builddir/build/BUILD/julia-1.8.0/build/usr/share/julia/stdlib/v1.8/Downloads/src/Curl/utils.jl:29\n",
      "┌ Error: curl_easy_setopt: 48\n",
      "└ @ Downloads.Curl /builddir/build/BUILD/julia-1.8.0/build/usr/share/julia/stdlib/v1.8/Downloads/src/Curl/utils.jl:29\n"
     ]
    },
    {
     "name": "stderr",
     "output_type": "stream",
     "text": [
      "┌ Error: curl_easy_setopt: 48\n",
      "└ @ Downloads.Curl /builddir/build/BUILD/julia-1.8.0/build/usr/share/julia/stdlib/v1.8/Downloads/src/Curl/utils.jl:29\n",
      "┌ Error: curl_easy_setopt: 48\n",
      "└ @ Downloads.Curl /builddir/build/BUILD/julia-1.8.0/build/usr/share/julia/stdlib/v1.8/Downloads/src/Curl/utils.jl:29\n",
      "┌ Error: curl_easy_setopt: 48\n",
      "└ @ Downloads.Curl /builddir/build/BUILD/julia-1.8.0/build/usr/share/julia/stdlib/v1.8/Downloads/src/Curl/utils.jl:29\n",
      "┌ Error: curl_easy_setopt: 48\n",
      "└ @ Downloads.Curl /builddir/build/BUILD/julia-1.8.0/build/usr/share/julia/stdlib/v1.8/Downloads/src/Curl/utils.jl:29\n",
      "┌ Error: curl_easy_setopt: 48\n",
      "└ @ Downloads.Curl /builddir/build/BUILD/julia-1.8.0/build/usr/share/julia/stdlib/v1.8/Downloads/src/Curl/utils.jl:29\n",
      "┌ Error: curl_easy_setopt: 48\n",
      "└ @ Downloads.Curl /builddir/build/BUILD/julia-1.8.0/build/usr/share/julia/stdlib/v1.8/Downloads/src/Curl/utils.jl:29\n"
     ]
    },
    {
     "name": "stderr",
     "output_type": "stream",
     "text": [
      "┌ Error: curl_easy_setopt: 48\n",
      "└ @ Downloads.Curl /builddir/build/BUILD/julia-1.8.0/build/usr/share/julia/stdlib/v1.8/Downloads/src/Curl/utils.jl:29\n",
      "┌ Error: curl_easy_setopt: 48\n",
      "└ @ Downloads.Curl /builddir/build/BUILD/julia-1.8.0/build/usr/share/julia/stdlib/v1.8/Downloads/src/Curl/utils.jl:29\n",
      "┌ Error: curl_easy_setopt: 48\n",
      "└ @ Downloads.Curl /builddir/build/BUILD/julia-1.8.0/build/usr/share/julia/stdlib/v1.8/Downloads/src/Curl/utils.jl:29\n",
      "┌ Error: curl_easy_setopt: 48\n",
      "└ @ Downloads.Curl /builddir/build/BUILD/julia-1.8.0/build/usr/share/julia/stdlib/v1.8/Downloads/src/Curl/utils.jl:29\n",
      "┌ Error: curl_easy_setopt: 48\n",
      "└ @ Downloads.Curl /builddir/build/BUILD/julia-1.8.0/build/usr/share/julia/stdlib/v1.8/Downloads/src/Curl/utils.jl:29\n",
      "┌ Error: curl_easy_setopt: 48\n",
      "└ @ Downloads.Curl /builddir/build/BUILD/julia-1.8.0/build/usr/share/julia/stdlib/v1.8/Downloads/src/Curl/utils.jl:29\n"
     ]
    },
    {
     "name": "stderr",
     "output_type": "stream",
     "text": [
      "┌ Error: curl_easy_setopt: 48\n",
      "└ @ Downloads.Curl /builddir/build/BUILD/julia-1.8.0/build/usr/share/julia/stdlib/v1.8/Downloads/src/Curl/utils.jl:29\n",
      "┌ Error: curl_easy_setopt: 48\n",
      "└ @ Downloads.Curl /builddir/build/BUILD/julia-1.8.0/build/usr/share/julia/stdlib/v1.8/Downloads/src/Curl/utils.jl:29\n",
      "┌ Error: curl_easy_setopt: 48\n",
      "└ @ Downloads.Curl /builddir/build/BUILD/julia-1.8.0/build/usr/share/julia/stdlib/v1.8/Downloads/src/Curl/utils.jl:29\n",
      "┌ Error: curl_easy_setopt: 48\n",
      "└ @ Downloads.Curl /builddir/build/BUILD/julia-1.8.0/build/usr/share/julia/stdlib/v1.8/Downloads/src/Curl/utils.jl:29\n",
      "┌ Error: curl_easy_setopt: 48\n",
      "└ @ Downloads.Curl /builddir/build/BUILD/julia-1.8.0/build/usr/share/julia/stdlib/v1.8/Downloads/src/Curl/utils.jl:29\n",
      "┌ Error: curl_easy_setopt: 48\n",
      "└ @ Downloads.Curl /builddir/build/BUILD/julia-1.8.0/build/usr/share/julia/stdlib/v1.8/Downloads/src/Curl/utils.jl:29\n"
     ]
    },
    {
     "name": "stderr",
     "output_type": "stream",
     "text": [
      "┌ Error: curl_easy_setopt: 48\n",
      "└ @ Downloads.Curl /builddir/build/BUILD/julia-1.8.0/build/usr/share/julia/stdlib/v1.8/Downloads/src/Curl/utils.jl:29\n",
      "┌ Error: curl_easy_setopt: 48\n",
      "└ @ Downloads.Curl /builddir/build/BUILD/julia-1.8.0/build/usr/share/julia/stdlib/v1.8/Downloads/src/Curl/utils.jl:29\n",
      "┌ Error: curl_easy_setopt: 48\n",
      "└ @ Downloads.Curl /builddir/build/BUILD/julia-1.8.0/build/usr/share/julia/stdlib/v1.8/Downloads/src/Curl/utils.jl:29\n"
     ]
    },
    {
     "name": "stderr",
     "output_type": "stream",
     "text": [
      "┌ Error: curl_easy_setopt: 48\n",
      "└ @ Downloads.Curl /builddir/build/BUILD/julia-1.8.0/build/usr/share/julia/stdlib/v1.8/Downloads/src/Curl/utils.jl:29\n",
      "┌ Error: curl_easy_setopt: 48\n",
      "└ @ Downloads.Curl /builddir/build/BUILD/julia-1.8.0/build/usr/share/julia/stdlib/v1.8/Downloads/src/Curl/utils.jl:29\n",
      "┌ Error: curl_easy_setopt: 48\n",
      "└ @ Downloads.Curl /builddir/build/BUILD/julia-1.8.0/build/usr/share/julia/stdlib/v1.8/Downloads/src/Curl/utils.jl:29\n"
     ]
    },
    {
     "name": "stderr",
     "output_type": "stream",
     "text": [
      "┌ Error: curl_easy_setopt: 48\n",
      "└ @ Downloads.Curl /builddir/build/BUILD/julia-1.8.0/build/usr/share/julia/stdlib/v1.8/Downloads/src/Curl/utils.jl:29\n",
      "┌ Error: curl_easy_setopt: 48\n",
      "└ @ Downloads.Curl /builddir/build/BUILD/julia-1.8.0/build/usr/share/julia/stdlib/v1.8/Downloads/src/Curl/utils.jl:29\n",
      "┌ Error: curl_easy_setopt: 48\n",
      "└ @ Downloads.Curl /builddir/build/BUILD/julia-1.8.0/build/usr/share/julia/stdlib/v1.8/Downloads/src/Curl/utils.jl:29\n"
     ]
    },
    {
     "name": "stderr",
     "output_type": "stream",
     "text": [
      "┌ Error: curl_easy_setopt: 48\n",
      "└ @ Downloads.Curl /builddir/build/BUILD/julia-1.8.0/build/usr/share/julia/stdlib/v1.8/Downloads/src/Curl/utils.jl:29\n",
      "┌ Error: curl_easy_setopt: 48\n",
      "└ @ Downloads.Curl /builddir/build/BUILD/julia-1.8.0/build/usr/share/julia/stdlib/v1.8/Downloads/src/Curl/utils.jl:29\n",
      "┌ Error: curl_easy_setopt: 48\n",
      "└ @ Downloads.Curl /builddir/build/BUILD/julia-1.8.0/build/usr/share/julia/stdlib/v1.8/Downloads/src/Curl/utils.jl:29\n",
      "┌ Error: curl_easy_setopt: 48\n",
      "└ @ Downloads.Curl /builddir/build/BUILD/julia-1.8.0/build/usr/share/julia/stdlib/v1.8/Downloads/src/Curl/utils.jl:29\n",
      "┌ Error: curl_easy_setopt: 48\n",
      "└ @ Downloads.Curl /builddir/build/BUILD/julia-1.8.0/build/usr/share/julia/stdlib/v1.8/Downloads/src/Curl/utils.jl:29\n",
      "┌ Error: curl_easy_setopt: 48\n",
      "└ @ Downloads.Curl /builddir/build/BUILD/julia-1.8.0/build/usr/share/julia/stdlib/v1.8/Downloads/src/Curl/utils.jl:29\n"
     ]
    },
    {
     "name": "stderr",
     "output_type": "stream",
     "text": [
      "┌ Error: curl_easy_setopt: 48\n",
      "└ @ Downloads.Curl /builddir/build/BUILD/julia-1.8.0/build/usr/share/julia/stdlib/v1.8/Downloads/src/Curl/utils.jl:29\n",
      "┌ Error: curl_easy_setopt: 48\n",
      "└ @ Downloads.Curl /builddir/build/BUILD/julia-1.8.0/build/usr/share/julia/stdlib/v1.8/Downloads/src/Curl/utils.jl:29\n",
      "┌ Error: curl_easy_setopt: 48\n",
      "└ @ Downloads.Curl /builddir/build/BUILD/julia-1.8.0/build/usr/share/julia/stdlib/v1.8/Downloads/src/Curl/utils.jl:29\n"
     ]
    },
    {
     "name": "stderr",
     "output_type": "stream",
     "text": [
      "┌ Error: curl_easy_setopt: 48\n",
      "└ @ Downloads.Curl /builddir/build/BUILD/julia-1.8.0/build/usr/share/julia/stdlib/v1.8/Downloads/src/Curl/utils.jl:29\n",
      "┌ Error: curl_easy_setopt: 48\n",
      "└ @ Downloads.Curl /builddir/build/BUILD/julia-1.8.0/build/usr/share/julia/stdlib/v1.8/Downloads/src/Curl/utils.jl:29\n",
      "┌ Error: curl_easy_setopt: 48\n",
      "└ @ Downloads.Curl /builddir/build/BUILD/julia-1.8.0/build/usr/share/julia/stdlib/v1.8/Downloads/src/Curl/utils.jl:29\n"
     ]
    },
    {
     "name": "stderr",
     "output_type": "stream",
     "text": [
      "┌ Error: curl_easy_setopt: 48\n",
      "└ @ Downloads.Curl /builddir/build/BUILD/julia-1.8.0/build/usr/share/julia/stdlib/v1.8/Downloads/src/Curl/utils.jl:29\n",
      "┌ Error: curl_easy_setopt: 48\n",
      "└ @ Downloads.Curl /builddir/build/BUILD/julia-1.8.0/build/usr/share/julia/stdlib/v1.8/Downloads/src/Curl/utils.jl:29\n",
      "┌ Error: curl_easy_setopt: 48\n",
      "└ @ Downloads.Curl /builddir/build/BUILD/julia-1.8.0/build/usr/share/julia/stdlib/v1.8/Downloads/src/Curl/utils.jl:29\n"
     ]
    },
    {
     "name": "stderr",
     "output_type": "stream",
     "text": [
      "┌ Error: curl_easy_setopt: 48\n",
      "└ @ Downloads.Curl /builddir/build/BUILD/julia-1.8.0/build/usr/share/julia/stdlib/v1.8/Downloads/src/Curl/utils.jl:29\n",
      "┌ Error: curl_easy_setopt: 48\n",
      "└ @ Downloads.Curl /builddir/build/BUILD/julia-1.8.0/build/usr/share/julia/stdlib/v1.8/Downloads/src/Curl/utils.jl:29\n",
      "┌ Error: curl_easy_setopt: 48\n",
      "└ @ Downloads.Curl /builddir/build/BUILD/julia-1.8.0/build/usr/share/julia/stdlib/v1.8/Downloads/src/Curl/utils.jl:29\n",
      "┌ Error: curl_easy_setopt: 48\n",
      "└ @ Downloads.Curl /builddir/build/BUILD/julia-1.8.0/build/usr/share/julia/stdlib/v1.8/Downloads/src/Curl/utils.jl:29\n",
      "┌ Error: curl_easy_setopt: 48\n",
      "└ @ Downloads.Curl /builddir/build/BUILD/julia-1.8.0/build/usr/share/julia/stdlib/v1.8/Downloads/src/Curl/utils.jl:29\n",
      "┌ Error: curl_easy_setopt: 48\n",
      "└ @ Downloads.Curl /builddir/build/BUILD/julia-1.8.0/build/usr/share/julia/stdlib/v1.8/Downloads/src/Curl/utils.jl:29\n",
      "┌ Error: curl_easy_setopt: 48\n",
      "└ @ Downloads.Curl /builddir/build/BUILD/julia-1.8.0/build/usr/share/julia/stdlib/v1.8/Downloads/src/Curl/utils.jl:29\n",
      "┌ Error: curl_easy_setopt: 48\n",
      "└ @ Downloads.Curl /builddir/build/BUILD/julia-1.8.0/build/usr/share/julia/stdlib/v1.8/Downloads/src/Curl/utils.jl:29\n",
      "┌ Error: curl_easy_setopt: 48\n",
      "└ @ Downloads.Curl /builddir/build/BUILD/julia-1.8.0/build/usr/share/julia/stdlib/v1.8/Downloads/src/Curl/utils.jl:29\n"
     ]
    },
    {
     "name": "stderr",
     "output_type": "stream",
     "text": [
      "┌ Error: curl_easy_setopt: 48\n",
      "└ @ Downloads.Curl /builddir/build/BUILD/julia-1.8.0/build/usr/share/julia/stdlib/v1.8/Downloads/src/Curl/utils.jl:29\n",
      "┌ Error: curl_easy_setopt: 48\n",
      "└ @ Downloads.Curl /builddir/build/BUILD/julia-1.8.0/build/usr/share/julia/stdlib/v1.8/Downloads/src/Curl/utils.jl:29\n",
      "┌ Error: curl_easy_setopt: 48\n",
      "└ @ Downloads.Curl /builddir/build/BUILD/julia-1.8.0/build/usr/share/julia/stdlib/v1.8/Downloads/src/Curl/utils.jl:29\n"
     ]
    },
    {
     "name": "stderr",
     "output_type": "stream",
     "text": [
      "┌ Error: curl_easy_setopt: 48\n",
      "└ @ Downloads.Curl /builddir/build/BUILD/julia-1.8.0/build/usr/share/julia/stdlib/v1.8/Downloads/src/Curl/utils.jl:29\n",
      "┌ Error: curl_easy_setopt: 48\n",
      "└ @ Downloads.Curl /builddir/build/BUILD/julia-1.8.0/build/usr/share/julia/stdlib/v1.8/Downloads/src/Curl/utils.jl:29\n",
      "┌ Error: curl_easy_setopt: 48\n",
      "└ @ Downloads.Curl /builddir/build/BUILD/julia-1.8.0/build/usr/share/julia/stdlib/v1.8/Downloads/src/Curl/utils.jl:29\n"
     ]
    },
    {
     "name": "stderr",
     "output_type": "stream",
     "text": [
      "┌ Error: curl_easy_setopt: 48\n",
      "└ @ Downloads.Curl /builddir/build/BUILD/julia-1.8.0/build/usr/share/julia/stdlib/v1.8/Downloads/src/Curl/utils.jl:29\n",
      "┌ Error: curl_easy_setopt: 48\n",
      "└ @ Downloads.Curl /builddir/build/BUILD/julia-1.8.0/build/usr/share/julia/stdlib/v1.8/Downloads/src/Curl/utils.jl:29\n",
      "┌ Error: curl_easy_setopt: 48\n",
      "└ @ Downloads.Curl /builddir/build/BUILD/julia-1.8.0/build/usr/share/julia/stdlib/v1.8/Downloads/src/Curl/utils.jl:29\n",
      "┌ Error: curl_easy_setopt: 48\n",
      "└ @ Downloads.Curl /builddir/build/BUILD/julia-1.8.0/build/usr/share/julia/stdlib/v1.8/Downloads/src/Curl/utils.jl:29\n",
      "┌ Error: curl_easy_setopt: 48\n",
      "└ @ Downloads.Curl /builddir/build/BUILD/julia-1.8.0/build/usr/share/julia/stdlib/v1.8/Downloads/src/Curl/utils.jl:29\n",
      "┌ Error: curl_easy_setopt: 48\n",
      "└ @ Downloads.Curl /builddir/build/BUILD/julia-1.8.0/build/usr/share/julia/stdlib/v1.8/Downloads/src/Curl/utils.jl:29\n"
     ]
    },
    {
     "name": "stderr",
     "output_type": "stream",
     "text": [
      "┌ Error: curl_easy_setopt: 48\n",
      "└ @ Downloads.Curl /builddir/build/BUILD/julia-1.8.0/build/usr/share/julia/stdlib/v1.8/Downloads/src/Curl/utils.jl:29\n",
      "┌ Error: curl_easy_setopt: 48\n",
      "└ @ Downloads.Curl /builddir/build/BUILD/julia-1.8.0/build/usr/share/julia/stdlib/v1.8/Downloads/src/Curl/utils.jl:29\n",
      "┌ Error: curl_easy_setopt: 48\n",
      "└ @ Downloads.Curl /builddir/build/BUILD/julia-1.8.0/build/usr/share/julia/stdlib/v1.8/Downloads/src/Curl/utils.jl:29\n"
     ]
    },
    {
     "name": "stderr",
     "output_type": "stream",
     "text": [
      "┌ Error: curl_easy_setopt: 48\n",
      "└ @ Downloads.Curl /builddir/build/BUILD/julia-1.8.0/build/usr/share/julia/stdlib/v1.8/Downloads/src/Curl/utils.jl:29\n",
      "┌ Error: curl_easy_setopt: 48\n",
      "└ @ Downloads.Curl /builddir/build/BUILD/julia-1.8.0/build/usr/share/julia/stdlib/v1.8/Downloads/src/Curl/utils.jl:29\n",
      "┌ Error: curl_easy_setopt: 48\n",
      "└ @ Downloads.Curl /builddir/build/BUILD/julia-1.8.0/build/usr/share/julia/stdlib/v1.8/Downloads/src/Curl/utils.jl:29\n"
     ]
    },
    {
     "name": "stderr",
     "output_type": "stream",
     "text": [
      "\u001b[32m\u001b[1m    Updating\u001b[22m\u001b[39m `~/.julia/environments/v1.8/Project.toml`\n",
      " \u001b[90m [91a5bcdd] \u001b[39m\u001b[92m+ Plots v1.38.10\u001b[39m\n",
      "\u001b[32m\u001b[1m    Updating\u001b[22m\u001b[39m `~/.julia/environments/v1.8/Manifest.toml`\n",
      " \u001b[90m [d1d4a3ce] \u001b[39m\u001b[92m+ BitFlags v0.1.7\u001b[39m\n",
      " \u001b[90m [944b1d66] \u001b[39m\u001b[92m+ CodecZlib v0.7.1\u001b[39m\n",
      " \u001b[90m [f0e56b4a] \u001b[39m\u001b[92m+ ConcurrentUtilities v2.1.1\u001b[39m\n",
      " \u001b[90m [d38c429a] \u001b[39m\u001b[92m+ Contour v0.6.2\u001b[39m\n",
      " \u001b[90m [c87230d0] \u001b[39m\u001b[92m+ FFMPEG v0.4.1\u001b[39m\n",
      " \u001b[90m [59287772] \u001b[39m\u001b[92m+ Formatting v0.4.2\u001b[39m\n",
      " \u001b[90m [28b8d3ca] \u001b[39m\u001b[92m+ GR v0.72.4\u001b[39m\n",
      " \u001b[90m [42e2da0e] \u001b[39m\u001b[92m+ Grisu v1.0.2\u001b[39m\n",
      " \u001b[90m [cd3eb016] \u001b[39m\u001b[92m+ HTTP v1.8.0\u001b[39m\n",
      " \u001b[90m [1019f520] \u001b[39m\u001b[92m+ JLFzf v0.1.5\u001b[39m\n",
      " \u001b[90m [682c06a0] \u001b[39m\u001b[92m+ JSON v0.21.4\u001b[39m\n",
      " \u001b[90m [b964fa9f] \u001b[39m\u001b[92m+ LaTeXStrings v1.3.0\u001b[39m\n",
      "\u001b[33m⌅\u001b[39m\u001b[90m [23fbe1c1] \u001b[39m\u001b[92m+ Latexify v0.15.21\u001b[39m\n",
      " \u001b[90m [e6f89c97] \u001b[39m\u001b[92m+ LoggingExtras v1.0.0\u001b[39m\n",
      " \u001b[90m [739be429] \u001b[39m\u001b[92m+ MbedTLS v1.1.7\u001b[39m\n",
      " \u001b[90m [442fdcdd] \u001b[39m\u001b[92m+ Measures v0.3.2\u001b[39m\n",
      " \u001b[90m [4d8831e6] \u001b[39m\u001b[92m+ OpenSSL v1.4.0\u001b[39m\n",
      " \u001b[90m [69de0a69] \u001b[39m\u001b[92m+ Parsers v2.5.8\u001b[39m\n",
      " \u001b[90m [b98c9c47] \u001b[39m\u001b[92m+ Pipe v1.3.0\u001b[39m\n",
      " \u001b[90m [ccf2f8ad] \u001b[39m\u001b[92m+ PlotThemes v3.1.0\u001b[39m\n",
      " \u001b[90m [995b91a9] \u001b[39m\u001b[92m+ PlotUtils v1.3.5\u001b[39m\n",
      " \u001b[90m [91a5bcdd] \u001b[39m\u001b[92m+ Plots v1.38.10\u001b[39m\n",
      " \u001b[90m [aea7be01] \u001b[39m\u001b[92m+ PrecompileTools v1.0.2\u001b[39m\n",
      " \u001b[90m [3cdcf5f2] \u001b[39m\u001b[92m+ RecipesBase v1.3.4\u001b[39m\n",
      " \u001b[90m [01d81517] \u001b[39m\u001b[92m+ RecipesPipeline v0.6.12\u001b[39m\n",
      " \u001b[90m [05181044] \u001b[39m\u001b[92m+ RelocatableFolders v1.0.0\u001b[39m\n",
      " \u001b[90m [6c6a2e73] \u001b[39m\u001b[92m+ Scratch v1.2.0\u001b[39m\n",
      " \u001b[90m [992d4aef] \u001b[39m\u001b[92m+ Showoff v1.0.3\u001b[39m\n",
      " \u001b[90m [777ac1f9] \u001b[39m\u001b[92m+ SimpleBufferStream v1.1.0\u001b[39m\n",
      " \u001b[90m [5c2747f8] \u001b[39m\u001b[92m+ URIs v1.4.2\u001b[39m\n",
      " \u001b[90m [1cfade01] \u001b[39m\u001b[92m+ UnicodeFun v0.4.1\u001b[39m\n",
      " \u001b[90m [41fe7b60] \u001b[39m\u001b[92m+ Unzip v0.2.0\u001b[39m\n",
      " \u001b[90m [6e34b625] \u001b[39m\u001b[92m+ Bzip2_jll v1.0.8+0\u001b[39m\n",
      " \u001b[90m [83423d85] \u001b[39m\u001b[92m+ Cairo_jll v1.16.1+1\u001b[39m\n",
      " \u001b[90m [2e619515] \u001b[39m\u001b[92m+ Expat_jll v2.4.8+0\u001b[39m\n",
      " \u001b[90m [b22a6f82] \u001b[39m\u001b[92m+ FFMPEG_jll v4.4.2+2\u001b[39m\n",
      " \u001b[90m [a3f928ae] \u001b[39m\u001b[92m+ Fontconfig_jll v2.13.93+0\u001b[39m\n",
      " \u001b[90m [d7e528f0] \u001b[39m\u001b[92m+ FreeType2_jll v2.10.4+0\u001b[39m\n",
      " \u001b[90m [559328eb] \u001b[39m\u001b[92m+ FriBidi_jll v1.0.10+0\u001b[39m\n",
      " \u001b[90m [0656b61e] \u001b[39m\u001b[92m+ GLFW_jll v3.3.8+0\u001b[39m\n",
      " \u001b[90m [d2c73de3] \u001b[39m\u001b[92m+ GR_jll v0.72.4+0\u001b[39m\n",
      " \u001b[90m [78b55507] \u001b[39m\u001b[92m+ Gettext_jll v0.21.0+0\u001b[39m\n",
      " \u001b[90m [7746bdde] \u001b[39m\u001b[92m+ Glib_jll v2.74.0+2\u001b[39m\n",
      " \u001b[90m [3b182d85] \u001b[39m\u001b[92m+ Graphite2_jll v1.3.14+0\u001b[39m\n",
      " \u001b[90m [2e76f6c2] \u001b[39m\u001b[92m+ HarfBuzz_jll v2.8.1+1\u001b[39m\n",
      " \u001b[90m [c1c5ebd0] \u001b[39m\u001b[92m+ LAME_jll v3.100.1+0\u001b[39m\n",
      " \u001b[90m [dd4b983a] \u001b[39m\u001b[92m+ LZO_jll v2.10.1+0\u001b[39m\n",
      "\u001b[33m⌅\u001b[39m\u001b[90m [e9f186c6] \u001b[39m\u001b[92m+ Libffi_jll v3.2.2+1\u001b[39m\n",
      " \u001b[90m [d4300ac3] \u001b[39m\u001b[92m+ Libgcrypt_jll v1.8.7+0\u001b[39m\n",
      " \u001b[90m [7e76a0d4] \u001b[39m\u001b[92m+ Libglvnd_jll v1.6.0+0\u001b[39m\n",
      " \u001b[90m [7add5ba3] \u001b[39m\u001b[92m+ Libgpg_error_jll v1.42.0+0\u001b[39m\n",
      " \u001b[90m [94ce4f54] \u001b[39m\u001b[92m+ Libiconv_jll v1.16.1+2\u001b[39m\n",
      " \u001b[90m [4b2f31a3] \u001b[39m\u001b[92m+ Libmount_jll v2.35.0+0\u001b[39m\n",
      " \u001b[90m [38a345b3] \u001b[39m\u001b[92m+ Libuuid_jll v2.36.0+0\u001b[39m\n",
      " \u001b[90m [e7412a2a] \u001b[39m\u001b[92m+ Ogg_jll v1.3.5+1\u001b[39m\n",
      " \u001b[90m [91d4177d] \u001b[39m\u001b[92m+ Opus_jll v1.3.2+0\u001b[39m\n",
      " \u001b[90m [30392449] \u001b[39m\u001b[92m+ Pixman_jll v0.40.1+0\u001b[39m\n",
      " \u001b[90m [ea2cea3b] \u001b[39m\u001b[92m+ Qt5Base_jll v5.15.3+2\u001b[39m\n",
      " \u001b[90m [a2964d1f] \u001b[39m\u001b[92m+ Wayland_jll v1.21.0+0\u001b[39m\n",
      " \u001b[90m [2381bf8a] \u001b[39m\u001b[92m+ Wayland_protocols_jll v1.25.0+0\u001b[39m\n",
      " \u001b[90m [02c8fc9c] \u001b[39m\u001b[92m+ XML2_jll v2.10.3+0\u001b[39m\n",
      " \u001b[90m [aed1982a] \u001b[39m\u001b[92m+ XSLT_jll v1.1.34+0\u001b[39m\n",
      " \u001b[90m [4f6342f7] \u001b[39m\u001b[92m+ Xorg_libX11_jll v1.6.9+4\u001b[39m\n",
      " \u001b[90m [0c0b7dd1] \u001b[39m\u001b[92m+ Xorg_libXau_jll v1.0.9+4\u001b[39m\n",
      " \u001b[90m [935fb764] \u001b[39m\u001b[92m+ Xorg_libXcursor_jll v1.2.0+4\u001b[39m\n",
      " \u001b[90m [a3789734] \u001b[39m\u001b[92m+ Xorg_libXdmcp_jll v1.1.3+4\u001b[39m\n",
      " \u001b[90m [1082639a] \u001b[39m\u001b[92m+ Xorg_libXext_jll v1.3.4+4\u001b[39m\n",
      " \u001b[90m [d091e8ba] \u001b[39m\u001b[92m+ Xorg_libXfixes_jll v5.0.3+4\u001b[39m\n",
      " \u001b[90m [a51aa0fd] \u001b[39m\u001b[92m+ Xorg_libXi_jll v1.7.10+4\u001b[39m\n",
      " \u001b[90m [d1454406] \u001b[39m\u001b[92m+ Xorg_libXinerama_jll v1.1.4+4\u001b[39m\n",
      " \u001b[90m [ec84b674] \u001b[39m\u001b[92m+ Xorg_libXrandr_jll v1.5.2+4\u001b[39m\n",
      " \u001b[90m [ea2f1a96] \u001b[39m\u001b[92m+ Xorg_libXrender_jll v0.9.10+4\u001b[39m\n",
      " \u001b[90m [14d82f49] \u001b[39m\u001b[92m+ Xorg_libpthread_stubs_jll v0.1.0+3\u001b[39m\n",
      " \u001b[90m [c7cfdc94] \u001b[39m\u001b[92m+ Xorg_libxcb_jll v1.13.0+3\u001b[39m\n",
      " \u001b[90m [cc61e674] \u001b[39m\u001b[92m+ Xorg_libxkbfile_jll v1.1.0+4\u001b[39m\n",
      " \u001b[90m [12413925] \u001b[39m\u001b[92m+ Xorg_xcb_util_image_jll v0.4.0+1\u001b[39m\n",
      " \u001b[90m [2def613f] \u001b[39m\u001b[92m+ Xorg_xcb_util_jll v0.4.0+1\u001b[39m\n",
      " \u001b[90m [975044d2] \u001b[39m\u001b[92m+ Xorg_xcb_util_keysyms_jll v0.4.0+1\u001b[39m\n",
      " \u001b[90m [0d47668e] \u001b[39m\u001b[92m+ Xorg_xcb_util_renderutil_jll v0.3.9+1\u001b[39m\n",
      " \u001b[90m [c22f9ab0] \u001b[39m\u001b[92m+ Xorg_xcb_util_wm_jll v0.4.1+1\u001b[39m\n",
      " \u001b[90m [35661453] \u001b[39m\u001b[92m+ Xorg_xkbcomp_jll v1.4.2+4\u001b[39m\n",
      " \u001b[90m [33bec58e] \u001b[39m\u001b[92m+ Xorg_xkeyboard_config_jll v2.27.0+4\u001b[39m\n",
      " \u001b[90m [c5fb5394] \u001b[39m\u001b[92m+ Xorg_xtrans_jll v1.4.0+3\u001b[39m\n",
      "\u001b[33m⌅\u001b[39m\u001b[90m [214eeab7] \u001b[39m\u001b[92m+ fzf_jll v0.29.0+0\u001b[39m\n",
      " \u001b[90m [a4ae2306] \u001b[39m\u001b[92m+ libaom_jll v3.4.0+0\u001b[39m\n",
      " \u001b[90m [0ac62f75] \u001b[39m\u001b[92m+ libass_jll v0.15.1+0\u001b[39m\n",
      " \u001b[90m [f638f0a6] \u001b[39m\u001b[92m+ libfdk_aac_jll v2.0.2+0\u001b[39m\n",
      " \u001b[90m [f27f6e37] \u001b[39m\u001b[92m+ libvorbis_jll v1.3.7+1\u001b[39m\n",
      " \u001b[90m [1270edf5] \u001b[39m\u001b[92m+ x264_jll v2021.5.5+0\u001b[39m\n",
      " \u001b[90m [dfaa095f] \u001b[39m\u001b[92m+ x265_jll v3.5.0+0\u001b[39m\n",
      " \u001b[90m [d8fb68d0] \u001b[39m\u001b[92m+ xkbcommon_jll v1.4.1+0\u001b[39m\n",
      " \u001b[90m [8bb1440f] \u001b[39m\u001b[92m+ DelimitedFiles\u001b[39m\n",
      " \u001b[90m [efcefdf7] \u001b[39m\u001b[92m+ PCRE2_jll v10.40.0+0\u001b[39m\n",
      "\u001b[36m\u001b[1m        Info\u001b[22m\u001b[39m Packages marked with \u001b[33m⌅\u001b[39m have new versions available but cannot be upgraded. To see why use `status --outdated -m`\n",
      "\u001b[32m\u001b[1mPrecompiling\u001b[22m\u001b[39m "
     ]
    },
    {
     "name": "stderr",
     "output_type": "stream",
     "text": [
      "project...\n"
     ]
    },
    {
     "name": "stderr",
     "output_type": "stream",
     "text": [
      "\u001b[32m  ✓ \u001b[39m\u001b[90mBitFlags\u001b[39m\n",
      "\u001b[32m  ✓ \u001b[39m\u001b[90mSimpleBufferStream\u001b[39m\n",
      "\u001b[32m  ✓ \u001b[39m\u001b[90mPCRE2_jll\u001b[39m\n"
     ]
    },
    {
     "name": "stderr",
     "output_type": "stream",
     "text": [
      "\u001b[32m  ✓ \u001b[39m\u001b[90mPipe\u001b[39m\n",
      "\u001b[32m  ✓ \u001b[39m\u001b[90mMeasures\u001b[39m\n",
      "\u001b[32m  ✓ \u001b[39m\u001b[90mContour\u001b[39m\n",
      "\u001b[32m  ✓ \u001b[39m\u001b[90mUnzip\u001b[39m\n",
      "\u001b[32m  ✓ \u001b[39m\u001b[90mLaTeXStrings\u001b[39m\n"
     ]
    },
    {
     "name": "stderr",
     "output_type": "stream",
     "text": [
      "\u001b[32m  ✓ \u001b[39m\u001b[90mPrecompileTools\u001b[39m\n",
      "\u001b[32m  ✓ \u001b[39m\u001b[90mScratch\u001b[39m\n"
     ]
    },
    {
     "name": "stderr",
     "output_type": "stream",
     "text": [
      "\u001b[32m  ✓ \u001b[39m\u001b[90mCodecZlib\u001b[39m\n",
      "\u001b[32m  ✓ \u001b[39m\u001b[90mFormatting\u001b[39m\n"
     ]
    },
    {
     "name": "stderr",
     "output_type": "stream",
     "text": [
      "\u001b[32m  ✓ \u001b[39m\u001b[90mUnicodeFun\u001b[39m\n",
      "\u001b[32m  ✓ \u001b[39m\u001b[90mURIs\u001b[39m\n"
     ]
    },
    {
     "name": "stderr",
     "output_type": "stream",
     "text": [
      "\u001b[32m  ✓ \u001b[39m\u001b[90mConcurrentUtilities\u001b[39m\n",
      "\u001b[32m  ✓ \u001b[39m\u001b[90mLibmount_jll\u001b[39m\n"
     ]
    },
    {
     "name": "stderr",
     "output_type": "stream",
     "text": [
      "\u001b[32m  ✓ \u001b[39m\u001b[90mGrisu\u001b[39m\n",
      "\u001b[32m  ✓ \u001b[39m\u001b[90mGraphite2_jll\u001b[39m\n"
     ]
    },
    {
     "name": "stderr",
     "output_type": "stream",
     "text": [
      "\u001b[32m  ✓ \u001b[39m\u001b[90mXorg_libXau_jll\u001b[39m\n",
      "\u001b[32m  ✓ \u001b[39m\u001b[90mfzf_jll\u001b[39m\n",
      "\u001b[32m  ✓ \u001b[39m\u001b[90mLAME_jll\u001b[39m\n",
      "\u001b[32m  ✓ \u001b[39m\u001b[90mLoggingExtras\u001b[39m\n",
      "\u001b[32m  ✓ \u001b[39m\u001b[90mBzip2_jll\u001b[39m\n"
     ]
    },
    {
     "name": "stderr",
     "output_type": "stream",
     "text": [
      "\u001b[32m  ✓ \u001b[39m\u001b[90mlibfdk_aac_jll\u001b[39m\n",
      "\u001b[32m  ✓ \u001b[39m\u001b[90mPixman_jll\u001b[39m\n"
     ]
    },
    {
     "name": "stderr",
     "output_type": "stream",
     "text": [
      "\u001b[32m  ✓ \u001b[39m\u001b[90mOgg_jll\u001b[39m\n",
      "\u001b[32m  ✓ \u001b[39m\u001b[90mx265_jll\u001b[39m\n"
     ]
    },
    {
     "name": "stderr",
     "output_type": "stream",
     "text": [
      "\u001b[32m  ✓ \u001b[39m\u001b[90mx264_jll\u001b[39m\n",
      "\u001b[32m  ✓ \u001b[39m\u001b[90mXorg_libXdmcp_jll\u001b[39m\n",
      "\u001b[32m  ✓ \u001b[39m\u001b[90mlibaom_jll\u001b[39m\n",
      "\u001b[32m  ✓ \u001b[39m\u001b[90mExpat_jll\u001b[39m\n"
     ]
    },
    {
     "name": "stderr",
     "output_type": "stream",
     "text": [
      "\u001b[32m  ✓ \u001b[39m\u001b[90mOpus_jll\u001b[39m\n",
      "\u001b[32m  ✓ \u001b[39m\u001b[90mWayland_protocols_jll\u001b[39m\n",
      "\u001b[32m  ✓ \u001b[39m\u001b[90mLZO_jll\u001b[39m\n"
     ]
    },
    {
     "name": "stderr",
     "output_type": "stream",
     "text": [
      "\u001b[32m  ✓ \u001b[39m\u001b[90mXorg_xtrans_jll\u001b[39m\n",
      "\u001b[32m  ✓ \u001b[39m\u001b[90mXorg_libpthread_stubs_jll\u001b[39m\n",
      "\u001b[32m  ✓ \u001b[39m\u001b[90mLibgpg_error_jll\u001b[39m\n",
      "\u001b[32m  ✓ \u001b[39m\u001b[90mLibiconv_jll\u001b[39m\n",
      "\u001b[32m  ✓ \u001b[39m\u001b[90mMbedTLS\u001b[39m\n",
      "\u001b[32m  ✓ \u001b[39m\u001b[90mLibffi_jll\u001b[39m\n"
     ]
    },
    {
     "name": "stderr",
     "output_type": "stream",
     "text": [
      "\u001b[32m  ✓ \u001b[39m\u001b[90mRelocatableFolders\u001b[39m\n"
     ]
    },
    {
     "name": "stderr",
     "output_type": "stream",
     "text": [
      "\u001b[32m  ✓ \u001b[39m\u001b[90mLibuuid_jll\u001b[39m\n",
      "\u001b[32m  ✓ \u001b[39m\u001b[90mShowoff\u001b[39m\n"
     ]
    },
    {
     "name": "stderr",
     "output_type": "stream",
     "text": [
      "\u001b[32m  ✓ \u001b[39m\u001b[90mFriBidi_jll\u001b[39m\n"
     ]
    },
    {
     "name": "stderr",
     "output_type": "stream",
     "text": [
      "\u001b[32m  ✓ \u001b[39m\u001b[90mlibvorbis_jll\u001b[39m\n",
      "\u001b[32m  ✓ \u001b[39m\u001b[90mFreeType2_jll\u001b[39m\n",
      "\u001b[32m  ✓ \u001b[39m\u001b[90mXML2_jll\u001b[39m\n"
     ]
    },
    {
     "name": "stderr",
     "output_type": "stream",
     "text": [
      "\u001b[32m  ✓ \u001b[39m\u001b[90mJLFzf\u001b[39m\n"
     ]
    },
    {
     "name": "stderr",
     "output_type": "stream",
     "text": [
      "\u001b[32m  ✓ \u001b[39m\u001b[90mLibgcrypt_jll\u001b[39m\n"
     ]
    },
    {
     "name": "stderr",
     "output_type": "stream",
     "text": [
      "\u001b[32m  ✓ \u001b[39m\u001b[90mGettext_jll\u001b[39m\n"
     ]
    },
    {
     "name": "stderr",
     "output_type": "stream",
     "text": [
      "\u001b[32m  ✓ \u001b[39m\u001b[90mFontconfig_jll\u001b[39m\n",
      "\u001b[32m  ✓ \u001b[39m\u001b[90mWayland_jll\u001b[39m\n"
     ]
    },
    {
     "name": "stderr",
     "output_type": "stream",
     "text": [
      "\u001b[32m  ✓ \u001b[39m\u001b[90mXSLT_jll\u001b[39m\n"
     ]
    },
    {
     "name": "stderr",
     "output_type": "stream",
     "text": [
      "\u001b[32m  ✓ \u001b[39m\u001b[90mRecipesBase\u001b[39m\n",
      "\u001b[32m  ✓ \u001b[39m\u001b[90mGlib_jll\u001b[39m\n"
     ]
    },
    {
     "name": "stderr",
     "output_type": "stream",
     "text": [
      "\u001b[32m  ✓ \u001b[39m\u001b[90mOpenSSL\u001b[39m\n",
      "\u001b[32m  ✓ \u001b[39m\u001b[90mXorg_libxcb_jll\u001b[39m\n"
     ]
    },
    {
     "name": "stderr",
     "output_type": "stream",
     "text": [
      "\u001b[32m  ✓ \u001b[39m\u001b[90mXorg_xcb_util_jll\u001b[39m\n",
      "\u001b[32m  ✓ \u001b[39m\u001b[90mXorg_libX11_jll\u001b[39m\n"
     ]
    },
    {
     "name": "stderr",
     "output_type": "stream",
     "text": [
      "\u001b[32m  ✓ \u001b[39m\u001b[90mLatexify\u001b[39m\n"
     ]
    },
    {
     "name": "stderr",
     "output_type": "stream",
     "text": [
      "\u001b[32m  ✓ \u001b[39m\u001b[90mXorg_xcb_util_wm_jll\u001b[39m\n",
      "\u001b[32m  ✓ \u001b[39m\u001b[90mXorg_xcb_util_renderutil_jll\u001b[39m\n",
      "\u001b[32m  ✓ \u001b[39m\u001b[90mXorg_xcb_util_image_jll\u001b[39m\n"
     ]
    },
    {
     "name": "stderr",
     "output_type": "stream",
     "text": [
      "\u001b[32m  ✓ \u001b[39m\u001b[90mXorg_xcb_util_keysyms_jll\u001b[39m\n",
      "\u001b[32m  ✓ \u001b[39m\u001b[90mXorg_libXrender_jll\u001b[39m\n",
      "\u001b[32m  ✓ \u001b[39m\u001b[90mXorg_libxkbfile_jll\u001b[39m\n",
      "\u001b[32m  ✓ \u001b[39m\u001b[90mXorg_libXfixes_jll\u001b[39m\n",
      "\u001b[32m  ✓ \u001b[39m\u001b[90mXorg_libXext_jll\u001b[39m\n"
     ]
    },
    {
     "name": "stderr",
     "output_type": "stream",
     "text": [
      "\u001b[32m  ✓ \u001b[39m\u001b[90mXorg_xkbcomp_jll\u001b[39m\n",
      "\u001b[32m  ✓ \u001b[39m\u001b[90mXorg_libXinerama_jll\u001b[39m\n",
      "\u001b[32m  ✓ \u001b[39m\u001b[90mXorg_libXcursor_jll\u001b[39m\n"
     ]
    },
    {
     "name": "stderr",
     "output_type": "stream",
     "text": [
      "\u001b[32m  ✓ \u001b[39m\u001b[90mXorg_libXi_jll\u001b[39m\n",
      "\u001b[32m  ✓ \u001b[39m\u001b[90mCairo_jll\u001b[39m\n",
      "\u001b[32m  ✓ \u001b[39m\u001b[90mXorg_libXrandr_jll\u001b[39m\n",
      "\u001b[32m  ✓ \u001b[39m\u001b[90mLibglvnd_jll\u001b[39m\n"
     ]
    },
    {
     "name": "stderr",
     "output_type": "stream",
     "text": [
      "\u001b[32m  ✓ \u001b[39m\u001b[90mXorg_xkeyboard_config_jll\u001b[39m\n"
     ]
    },
    {
     "name": "stderr",
     "output_type": "stream",
     "text": [
      "\u001b[32m  ✓ \u001b[39m\u001b[90mHarfBuzz_jll\u001b[39m\n",
      "\u001b[32m  ✓ \u001b[39m\u001b[90mGLFW_jll\u001b[39m\n"
     ]
    },
    {
     "name": "stderr",
     "output_type": "stream",
     "text": [
      "\u001b[32m  ✓ \u001b[39m\u001b[90mxkbcommon_jll\u001b[39m\n"
     ]
    },
    {
     "name": "stderr",
     "output_type": "stream",
     "text": [
      "\u001b[32m  ✓ \u001b[39m\u001b[90mlibass_jll\u001b[39m\n"
     ]
    },
    {
     "name": "stderr",
     "output_type": "stream",
     "text": [
      "\u001b[32m  ✓ \u001b[39m\u001b[90mQt5Base_jll\u001b[39m\n"
     ]
    },
    {
     "name": "stderr",
     "output_type": "stream",
     "text": [
      "\u001b[32m  ✓ \u001b[39m\u001b[90mFFMPEG_jll\u001b[39m\n"
     ]
    },
    {
     "name": "stderr",
     "output_type": "stream",
     "text": [
      "\u001b[32m  ✓ \u001b[39m\u001b[90mHTTP\u001b[39m\n"
     ]
    },
    {
     "name": "stderr",
     "output_type": "stream",
     "text": [
      "\u001b[32m  ✓ \u001b[39m\u001b[90mFFMPEG\u001b[39m\n"
     ]
    },
    {
     "name": "stderr",
     "output_type": "stream",
     "text": [
      "\u001b[32m  ✓ \u001b[39m\u001b[90mGR_jll\u001b[39m\n"
     ]
    },
    {
     "name": "stderr",
     "output_type": "stream",
     "text": [
      "\u001b[32m  ✓ \u001b[39m\u001b[90mPlotUtils\u001b[39m\n"
     ]
    },
    {
     "name": "stderr",
     "output_type": "stream",
     "text": [
      "\u001b[32m  ✓ \u001b[39m\u001b[90mParsers\u001b[39m\n"
     ]
    },
    {
     "name": "stderr",
     "output_type": "stream",
     "text": [
      "\u001b[32m  ✓ \u001b[39m\u001b[90mJSON\u001b[39m\n"
     ]
    },
    {
     "name": "stderr",
     "output_type": "stream",
     "text": [
      "\u001b[32m  ✓ \u001b[39m\u001b[90mPlotThemes\u001b[39m\n"
     ]
    },
    {
     "name": "stderr",
     "output_type": "stream",
     "text": [
      "\u001b[32m  ✓ \u001b[39m\u001b[90mRecipesPipeline\u001b[39m\n"
     ]
    },
    {
     "name": "stderr",
     "output_type": "stream",
     "text": [
      "\u001b[32m  ✓ \u001b[39m\u001b[90mGR\u001b[39m\n"
     ]
    },
    {
     "name": "stderr",
     "output_type": "stream",
     "text": [
      "\u001b[32m  ✓ \u001b[39mPlots\n",
      "  92 dependencies successfully precompiled in 40 seconds. 128 already precompiled.\n"
     ]
    }
   ],
   "source": [
    "import Pkg\n",
    "Pkg.add(\"RowEchelon\")\n",
    "import Pkg; Pkg.add(\"Images\")\n",
    "import Pkg; Pkg.add(\"JLD\")\n",
    "import Pkg; Pkg.add(\"Clustering\")\n",
    "import Pkg; Pkg.add(\"Plots\")\n",
    "using LinearAlgebra\n",
    "using RowEchelon\n",
    "using Images # read and show images, more info here: https://github.com/JuliaImages/Images.jl\n",
    "using JLD # used for File I/O, more info here: https://github.com/JuliaIO/JLD.jl\n",
    "using Clustering\n",
    "using Plots\n"
   ]
  },
  {
   "attachments": {},
   "cell_type": "markdown",
   "metadata": {},
   "source": [
    "## Questão 3"
   ]
  },
  {
   "cell_type": "code",
   "execution_count": 5,
   "metadata": {},
   "outputs": [
    {
     "name": "stdout",
     "output_type": "stream",
     "text": [
      "Os valores de i, j e a distância euclidiana são: (2, 5, 0.14832396974191323)\n",
      "Os valores de i, j e a distância euclidiana são: (5, 2, 0.14832396974191323)\n",
      "Os valores de i, j e a distância euclidiana são: (2, 4, 0.14832396974191325)\n",
      "Os valores de i, j e a distância euclidiana são: (4, 2, 0.14832396974191325)\n",
      "Os valores de i, j e a distância euclidiana são: (4, 5, 0.2966479394838265)\n",
      "Os valores de i, j e a distância euclidiana são: (5, 4, 0.2966479394838265)\n",
      "Os valores de i, j e a distância euclidiana são: (3, 5, 0.44497190922573976)\n",
      "Os valores de i, j e a distância euclidiana são: (5, 3, 0.44497190922573976)\n",
      "Os valores de i, j e a distância euclidiana são: (2, 3, 0.593295878967653)\n",
      "Os valores de i, j e a distância euclidiana são: (3, 2, 0.593295878967653)\n",
      "Os valores de i, j e a distância euclidiana são: (1, 3, 0.5932958789676531)\n",
      "Os valores de i, j e a distância euclidiana são: (3, 1, 0.5932958789676531)\n",
      "Os valores de i, j e a distância euclidiana são: (3, 4, 0.7416198487095663)\n",
      "Os valores de i, j e a distância euclidiana são: (4, 3, 0.7416198487095663)\n",
      "Os valores de i, j e a distância euclidiana são: (1, 5, 1.038267788193393)\n",
      "Os valores de i, j e a distância euclidiana são: (5, 1, 1.038267788193393)\n",
      "Os valores de i, j e a distância euclidiana são: (1, 2, 1.186591757935306)\n",
      "Os valores de i, j e a distância euclidiana são: (2, 1, 1.186591757935306)\n",
      "Os valores de i, j e a distância euclidiana são: (1, 4, 1.3349157276772194)\n",
      "Os valores de i, j e a distância euclidiana são: (4, 1, 1.3349157276772194)\n"
     ]
    }
   ],
   "source": [
    "vetor1 = Matrix([0.9 0.1; 0.1 0.9; 0.5 0.5; 0 1; 0.2 0.8])\n",
    "vetor2 = Matrix([0.9 0.8 0.3 0.6 0; 0.1 0.2 0.7 0.4 1])\n",
    "matriz = vetor1 * vetor2\n",
    "sort_tuples = []\n",
    "\n",
    "for i in 1:size(matriz, 1)\n",
    "    for j in 1:size(matriz, 1)\n",
    "        if i != j\n",
    "            distancia = norm(matriz[i, :] - matriz[j, :])\n",
    "            push!(sort_tuples, (i, j, distancia))\n",
    "        end\n",
    "    end\n",
    "end\n",
    "\n",
    "sort_tuples_sorted = sort(sort_tuples, by = x -> x[3])\n",
    "\n",
    "for tupla in sort_tuples_sorted\n",
    "    println(\"Os valores de i, j e a distância euclidiana são: \", tupla)\n",
    "end\n"
   ]
  },
  {
   "attachments": {},
   "cell_type": "markdown",
   "metadata": {},
   "source": [
    "##  Questão 4"
   ]
  },
  {
   "cell_type": "code",
   "execution_count": 169,
   "metadata": {},
   "outputs": [
    {
     "data": {
      "text/plain": [
       "compressão (generic function with 1 method)"
      ]
     },
     "metadata": {},
     "output_type": "display_data"
    }
   ],
   "source": [
    "function compressão(A,k) #determine B(m,k) e C(k,n) tal que A(m,n) é aproximadamente B*C\n",
    "    m,n=size(A)\n",
    "    local C\n",
    "    B=randn(m,k) #matrix aleatória m por k \"sorteio da base inicial\"\n",
    "    #alternating least squares\n",
    "    for i=1:800\n",
    "        C=B\\A\n",
    "        B=A/C    \n",
    "    end\n",
    "    erro=norm(A-B*C)\n",
    "    return B,C,erro\n",
    "end"
   ]
  },
  {
   "cell_type": "code",
   "execution_count": 170,
   "metadata": {},
   "outputs": [
    {
     "name": "stdout",
     "output_type": "stream",
     "text": [
      "Matriz de posto 1:\n"
     ]
    },
    {
     "data": {
      "text/plain": [
       "3×1 adjoint(::Matrix{Float64}) with eltype Float64:\n",
       " 1.4625617066924208\n",
       " 0.9750411377949476\n",
       " 1.4625617066924224"
      ]
     },
     "metadata": {},
     "output_type": "display_data"
    }
   ],
   "source": [
    "# Definir a matriz\n",
    "A = [0 1 3; 3 1 0]  \n",
    "\n",
    "# Calcular a decomposição SVD\n",
    "B , C , erro = compressão(A,1)\n",
    "\n",
    "# Construir a matriz de posto 1\n",
    "posto1 = B * C\n",
    "\n",
    "# Exibir a matriz de posto 1\n",
    "println(\"Matriz de posto 1:\")\n",
    "C'\n"
   ]
  },
  {
   "cell_type": "code",
   "execution_count": 171,
   "metadata": {},
   "outputs": [
    {
     "name": "stdout",
     "output_type": "stream",
     "text": [
      "Matriz de posto 1:\n"
     ]
    },
    {
     "data": {
      "text/plain": [
       "2×3 Matrix{Float64}:\n",
       " 1.5  1.0  1.5\n",
       " 1.5  1.0  1.5"
      ]
     },
     "metadata": {},
     "output_type": "display_data"
    }
   ],
   "source": [
    "# Definir a matriz\n",
    "A = [0 1 3 ;  3 1 0 ]  \n",
    "\n",
    "# Calcular a decomposição SVD\n",
    "U, Σ, V = svd(A)\n",
    "\n",
    "# Construir a matriz de posto 1\n",
    "posto1 = U[:, 1] * Σ[1] * V[:, 1]'\n",
    "\n",
    "# Exibir a matriz de posto 1\n",
    "println(\"Matriz de posto 1:\")\n",
    "posto1\n"
   ]
  },
  {
   "attachments": {},
   "cell_type": "markdown",
   "metadata": {},
   "source": [
    "## Questão 5"
   ]
  },
  {
   "cell_type": "code",
   "execution_count": 172,
   "metadata": {},
   "outputs": [
    {
     "data": {
      "text/plain": [
       "8×4 Matrix{Float64}:\n",
       " 1.0  0.0  -1.0  0.0\n",
       " 0.0  1.0   2.0  0.0\n",
       " 0.0  0.0   0.0  1.0\n",
       " 0.0  0.0   0.0  0.0\n",
       " 0.0  0.0   0.0  0.0\n",
       " 0.0  0.0   0.0  0.0\n",
       " 0.0  0.0   0.0  0.0\n",
       " 0.0  0.0   0.0  0.0"
      ]
     },
     "metadata": {},
     "output_type": "display_data"
    }
   ],
   "source": [
    "A = [1 1 1 1; 1 2 3 4; 11 12 13 14; 101 102 103 104; 11 21 31 41; 2 3 4 5; 13 10 7 4; 2 2 2 3]  # Matriz a ser escalonada\n",
    "\n",
    "rref_A = rref(A)\n",
    "rref_A\n"
   ]
  },
  {
   "cell_type": "code",
   "execution_count": 10,
   "metadata": {},
   "outputs": [
    {
     "name": "stdout",
     "output_type": "stream",
     "text": [
      "[0.7071067811865475, 0.0, -0.7071067811865475, 0.0][0.5773502691896258, 0.5773502691896258, 0.5773502691896258, 0.0][0.0, 0.0, 0.0, 1.0]"
     ]
    }
   ],
   "source": [
    "v1 = rref_A[1,:]\n",
    "v2 = rref_A[2,:]\n",
    "v3 = rref_A[3,:]\n",
    "w1 = v1\n",
    "w2 = v2 - (dot(v2,w1)/dot(w1,w1))  * w1\n",
    "w3 = v3 - (dot(v3,w1)/dot(w1,w1))  * w1 - (dot(v3,w2)/dot(w2,w2))  * w2\n",
    "print(w1/norm(w1), w2/norm(w2) , w3/norm(w3))"
   ]
  },
  {
   "attachments": {},
   "cell_type": "markdown",
   "metadata": {},
   "source": [
    "## Questão 11"
   ]
  },
  {
   "cell_type": "code",
   "execution_count": 168,
   "metadata": {},
   "outputs": [
    {
     "data": {
      "text/plain": [
       "5×2 Matrix{Float64}:\n",
       " -0.383909  -0.801181\n",
       " -0.476548   0.295342\n",
       " -0.427213  -0.255515\n",
       " -0.481342   0.426567\n",
       " -0.45969    0.153734"
      ]
     },
     "metadata": {},
     "output_type": "display_data"
    }
   ],
   "source": [
    "##Letra A\n",
    "\n",
    "K = [0.82 0.18 0.5 0.1 0.26; 0.74 0.26 0.5 0.2 0.32 ; 0.34 0.69 0.5 0.7 0.62; 0.58 0.42 0.5 0.4 0.44; 0.1 0.9 0.5 1 0.8]\n",
    "U, Σ, V = svd(K')\n",
    "U_approx = U[:, 1:2]\n",
    "Σ_approx = Diagonal(Σ[1:2])\n",
    "V_approx = V[:, 1:2]'\n",
    "A_approx = U_approx * Σ_approx * V_approx\n",
    "sort2_tuples = []\n",
    "for j in 1:size(matriz, 1)\n",
    "        if 1 != j\n",
    "            distancia = norm(matriz[1, :] - matriz[j, :])\n",
    "            push!(sort2_tuples, (1, j, distancia))\n",
    "        end\n",
    "end\n",
    "\n",
    "sort_tuples_sorted = sort(sort2_tuples, by = x -> x[3])\n",
    "\n",
    "U_approx"
   ]
  },
  {
   "cell_type": "code",
   "execution_count": 167,
   "metadata": {},
   "outputs": [
    {
     "data": {
      "image/png": "[encoded data removed]",
      "image/svg+xml": [
       "<?xml version=\"1.0\" encoding=\"utf-8\"?>\n",
       "<svg xmlns=\"http://www.w3.org/2000/svg\" xmlns:xlink=\"http://www.w3.org/1999/xlink\" width=\"600\" height=\"400\" viewBox=\"0 0 2400 1600\">\n",
       "<defs>\n",
       "  <clipPath id=\"clip600\">\n",
       "    <rect x=\"0\" y=\"0\" width=\"2400\" height=\"1600\"/>\n",
       "  </clipPath>\n",
       "</defs>\n",
       "<path clip-path=\"url(#clip600)\" d=\"M0 1600 L2400 1600 L2400 0 L0 0  Z\" fill=\"#ffffff\" fill-rule=\"evenodd\" fill-opacity=\"1\"/>\n",
       "<defs>\n",
       "  <clipPath id=\"clip601\">\n",
       "    <rect x=\"480\" y=\"0\" width=\"1681\" height=\"1600\"/>\n",
       "  </clipPath>\n",
       "</defs>\n",
       "<path clip-path=\"url(#clip600)\" d=\"M224.098 1486.45 L2352.76 1486.45 L2352.76 47.2441 L224.098 47.2441  Z\" fill=\"#ffffff\" fill-rule=\"evenodd\" fill-opacity=\"1\"/>\n",
       "<defs>\n",
       "  <clipPath id=\"clip602\">\n",
       "    <rect x=\"224\" y=\"47\" width=\"2130\" height=\"1440\"/>\n",
       "  </clipPath>\n",
       "</defs>\n",
       "<polyline clip-path=\"url(#clip602)\" style=\"stroke:#000000; stroke-linecap:round; stroke-linejoin:round; stroke-width:2; stroke-opacity:0.1; fill:none\" points=\"312.005,1486.45 312.005,47.2441 \"/>\n",
       "<polyline clip-path=\"url(#clip602)\" style=\"stroke:#000000; stroke-linecap:round; stroke-linejoin:round; stroke-width:2; stroke-opacity:0.1; fill:none\" points=\"724.22,1486.45 724.22,47.2441 \"/>\n",
       "<polyline clip-path=\"url(#clip602)\" style=\"stroke:#000000; stroke-linecap:round; stroke-linejoin:round; stroke-width:2; stroke-opacity:0.1; fill:none\" points=\"1136.43,1486.45 1136.43,47.2441 \"/>\n",
       "<polyline clip-path=\"url(#clip602)\" style=\"stroke:#000000; stroke-linecap:round; stroke-linejoin:round; stroke-width:2; stroke-opacity:0.1; fill:none\" points=\"1548.65,1486.45 1548.65,47.2441 \"/>\n",
       "<polyline clip-path=\"url(#clip602)\" style=\"stroke:#000000; stroke-linecap:round; stroke-linejoin:round; stroke-width:2; stroke-opacity:0.1; fill:none\" points=\"1960.86,1486.45 1960.86,47.2441 \"/>\n",
       "<polyline clip-path=\"url(#clip600)\" style=\"stroke:#000000; stroke-linecap:round; stroke-linejoin:round; stroke-width:4; stroke-opacity:1; fill:none\" points=\"224.098,1486.45 2352.76,1486.45 \"/>\n",
       "<polyline clip-path=\"url(#clip600)\" style=\"stroke:#000000; stroke-linecap:round; stroke-linejoin:round; stroke-width:4; stroke-opacity:1; fill:none\" points=\"312.005,1486.45 312.005,1467.55 \"/>\n",
       "<polyline clip-path=\"url(#clip600)\" style=\"stroke:#000000; stroke-linecap:round; stroke-linejoin:round; stroke-width:4; stroke-opacity:1; fill:none\" points=\"724.22,1486.45 724.22,1467.55 \"/>\n",
       "<polyline clip-path=\"url(#clip600)\" style=\"stroke:#000000; stroke-linecap:round; stroke-linejoin:round; stroke-width:4; stroke-opacity:1; fill:none\" points=\"1136.43,1486.45 1136.43,1467.55 \"/>\n",
       "<polyline clip-path=\"url(#clip600)\" style=\"stroke:#000000; stroke-linecap:round; stroke-linejoin:round; stroke-width:4; stroke-opacity:1; fill:none\" points=\"1548.65,1486.45 1548.65,1467.55 \"/>\n",
       "<polyline clip-path=\"url(#clip600)\" style=\"stroke:#000000; stroke-linecap:round; stroke-linejoin:round; stroke-width:4; stroke-opacity:1; fill:none\" points=\"1960.86,1486.45 1960.86,1467.55 \"/>\n",
       "<path clip-path=\"url(#clip600)\" d=\"M243.499 1532.02 L273.174 1532.02 L273.174 1535.95 L243.499 1535.95 L243.499 1532.02 Z\" fill=\"#000000\" fill-rule=\"nonzero\" fill-opacity=\"1\" /><path clip-path=\"url(#clip600)\" d=\"M293.267 1517.37 Q289.656 1517.37 287.827 1520.93 Q286.022 1524.47 286.022 1531.6 Q286.022 1538.71 287.827 1542.27 Q289.656 1545.82 293.267 1545.82 Q296.901 1545.82 298.707 1542.27 Q300.535 1538.71 300.535 1531.6 Q300.535 1524.47 298.707 1520.93 Q296.901 1517.37 293.267 1517.37 M293.267 1513.66 Q299.077 1513.66 302.133 1518.27 Q305.211 1522.85 305.211 1531.6 Q305.211 1540.33 302.133 1544.94 Q299.077 1549.52 293.267 1549.52 Q287.457 1549.52 284.378 1544.94 Q281.323 1540.33 281.323 1531.6 Q281.323 1522.85 284.378 1518.27 Q287.457 1513.66 293.267 1513.66 Z\" fill=\"#000000\" fill-rule=\"nonzero\" fill-opacity=\"1\" /><path clip-path=\"url(#clip600)\" d=\"M313.429 1542.97 L318.313 1542.97 L318.313 1548.85 L313.429 1548.85 L313.429 1542.97 Z\" fill=\"#000000\" fill-rule=\"nonzero\" fill-opacity=\"1\" /><path clip-path=\"url(#clip600)\" d=\"M341.345 1518.36 L329.54 1536.81 L341.345 1536.81 L341.345 1518.36 M340.118 1514.29 L345.998 1514.29 L345.998 1536.81 L350.929 1536.81 L350.929 1540.7 L345.998 1540.7 L345.998 1548.85 L341.345 1548.85 L341.345 1540.7 L325.744 1540.7 L325.744 1536.19 L340.118 1514.29 Z\" fill=\"#000000\" fill-rule=\"nonzero\" fill-opacity=\"1\" /><path clip-path=\"url(#clip600)\" d=\"M368.66 1532.44 Q365.327 1532.44 363.405 1534.22 Q361.507 1536 361.507 1539.13 Q361.507 1542.25 363.405 1544.03 Q365.327 1545.82 368.66 1545.82 Q371.993 1545.82 373.915 1544.03 Q375.836 1542.23 375.836 1539.13 Q375.836 1536 373.915 1534.22 Q372.016 1532.44 368.66 1532.44 M363.984 1530.45 Q360.975 1529.7 359.285 1527.64 Q357.618 1525.58 357.618 1522.62 Q357.618 1518.48 360.558 1516.07 Q363.521 1513.66 368.66 1513.66 Q373.822 1513.66 376.762 1516.07 Q379.702 1518.48 379.702 1522.62 Q379.702 1525.58 378.012 1527.64 Q376.345 1529.7 373.359 1530.45 Q376.739 1531.23 378.614 1533.52 Q380.512 1535.82 380.512 1539.13 Q380.512 1544.15 377.433 1546.83 Q374.378 1549.52 368.66 1549.52 Q362.942 1549.52 359.864 1546.83 Q356.808 1544.15 356.808 1539.13 Q356.808 1535.82 358.706 1533.52 Q360.604 1531.23 363.984 1530.45 M362.271 1523.06 Q362.271 1525.75 363.938 1527.25 Q365.628 1528.76 368.66 1528.76 Q371.669 1528.76 373.359 1527.25 Q375.072 1525.75 375.072 1523.06 Q375.072 1520.38 373.359 1518.87 Q371.669 1517.37 368.66 1517.37 Q365.628 1517.37 363.938 1518.87 Q362.271 1520.38 362.271 1523.06 Z\" fill=\"#000000\" fill-rule=\"nonzero\" fill-opacity=\"1\" /><path clip-path=\"url(#clip600)\" d=\"M655.586 1532.02 L685.261 1532.02 L685.261 1535.95 L655.586 1535.95 L655.586 1532.02 Z\" fill=\"#000000\" fill-rule=\"nonzero\" fill-opacity=\"1\" /><path clip-path=\"url(#clip600)\" d=\"M705.354 1517.37 Q701.743 1517.37 699.914 1520.93 Q698.109 1524.47 698.109 1531.6 Q698.109 1538.71 699.914 1542.27 Q701.743 1545.82 705.354 1545.82 Q708.988 1545.82 710.794 1542.27 Q712.622 1538.71 712.622 1531.6 Q712.622 1524.47 710.794 1520.93 Q708.988 1517.37 705.354 1517.37 M705.354 1513.66 Q711.164 1513.66 714.22 1518.27 Q717.298 1522.85 717.298 1531.6 Q717.298 1540.33 714.22 1544.94 Q711.164 1549.52 705.354 1549.52 Q699.544 1549.52 696.465 1544.94 Q693.41 1540.33 693.41 1531.6 Q693.41 1522.85 696.465 1518.27 Q699.544 1513.66 705.354 1513.66 Z\" fill=\"#000000\" fill-rule=\"nonzero\" fill-opacity=\"1\" /><path clip-path=\"url(#clip600)\" d=\"M725.516 1542.97 L730.4 1542.97 L730.4 1548.85 L725.516 1548.85 L725.516 1542.97 Z\" fill=\"#000000\" fill-rule=\"nonzero\" fill-opacity=\"1\" /><path clip-path=\"url(#clip600)\" d=\"M753.432 1518.36 L741.627 1536.81 L753.432 1536.81 L753.432 1518.36 M752.206 1514.29 L758.085 1514.29 L758.085 1536.81 L763.016 1536.81 L763.016 1540.7 L758.085 1540.7 L758.085 1548.85 L753.432 1548.85 L753.432 1540.7 L737.831 1540.7 L737.831 1536.19 L752.206 1514.29 Z\" fill=\"#000000\" fill-rule=\"nonzero\" fill-opacity=\"1\" /><path clip-path=\"url(#clip600)\" d=\"M781.326 1529.7 Q778.178 1529.7 776.326 1531.86 Q774.497 1534.01 774.497 1537.76 Q774.497 1541.49 776.326 1543.66 Q778.178 1545.82 781.326 1545.82 Q784.474 1545.82 786.303 1543.66 Q788.154 1541.49 788.154 1537.76 Q788.154 1534.01 786.303 1531.86 Q784.474 1529.7 781.326 1529.7 M790.608 1515.05 L790.608 1519.31 Q788.849 1518.48 787.043 1518.04 Q785.261 1517.6 783.502 1517.6 Q778.872 1517.6 776.418 1520.72 Q773.988 1523.85 773.641 1530.17 Q775.006 1528.15 777.067 1527.09 Q779.127 1526 781.604 1526 Q786.812 1526 789.821 1529.17 Q792.853 1532.32 792.853 1537.76 Q792.853 1543.08 789.705 1546.3 Q786.557 1549.52 781.326 1549.52 Q775.33 1549.52 772.159 1544.94 Q768.988 1540.33 768.988 1531.6 Q768.988 1523.41 772.877 1518.55 Q776.766 1513.66 783.316 1513.66 Q785.076 1513.66 786.858 1514.01 Q788.664 1514.36 790.608 1515.05 Z\" fill=\"#000000\" fill-rule=\"nonzero\" fill-opacity=\"1\" /><path clip-path=\"url(#clip600)\" d=\"M1067.64 1532.02 L1097.31 1532.02 L1097.31 1535.95 L1067.64 1535.95 L1067.64 1532.02 Z\" fill=\"#000000\" fill-rule=\"nonzero\" fill-opacity=\"1\" /><path clip-path=\"url(#clip600)\" d=\"M1117.41 1517.37 Q1113.8 1517.37 1111.97 1520.93 Q1110.16 1524.47 1110.16 1531.6 Q1110.16 1538.71 1111.97 1542.27 Q1113.8 1545.82 1117.41 1545.82 Q1121.04 1545.82 1122.85 1542.27 Q1124.67 1538.71 1124.67 1531.6 Q1124.67 1524.47 1122.85 1520.93 Q1121.04 1517.37 1117.41 1517.37 M1117.41 1513.66 Q1123.22 1513.66 1126.27 1518.27 Q1129.35 1522.85 1129.35 1531.6 Q1129.35 1540.33 1126.27 1544.94 Q1123.22 1549.52 1117.41 1549.52 Q1111.6 1549.52 1108.52 1544.94 Q1105.46 1540.33 1105.46 1531.6 Q1105.46 1522.85 1108.52 1518.27 Q1111.6 1513.66 1117.41 1513.66 Z\" fill=\"#000000\" fill-rule=\"nonzero\" fill-opacity=\"1\" /><path clip-path=\"url(#clip600)\" d=\"M1137.57 1542.97 L1142.45 1542.97 L1142.45 1548.85 L1137.57 1548.85 L1137.57 1542.97 Z\" fill=\"#000000\" fill-rule=\"nonzero\" fill-opacity=\"1\" /><path clip-path=\"url(#clip600)\" d=\"M1165.48 1518.36 L1153.68 1536.81 L1165.48 1536.81 L1165.48 1518.36 M1164.26 1514.29 L1170.14 1514.29 L1170.14 1536.81 L1175.07 1536.81 L1175.07 1540.7 L1170.14 1540.7 L1170.14 1548.85 L1165.48 1548.85 L1165.48 1540.7 L1149.88 1540.7 L1149.88 1536.19 L1164.26 1514.29 Z\" fill=\"#000000\" fill-rule=\"nonzero\" fill-opacity=\"1\" /><path clip-path=\"url(#clip600)\" d=\"M1195.65 1518.36 L1183.84 1536.81 L1195.65 1536.81 L1195.65 1518.36 M1194.42 1514.29 L1200.3 1514.29 L1200.3 1536.81 L1205.23 1536.81 L1205.23 1540.7 L1200.3 1540.7 L1200.3 1548.85 L1195.65 1548.85 L1195.65 1540.7 L1180.04 1540.7 L1180.04 1536.19 L1194.42 1514.29 Z\" fill=\"#000000\" fill-rule=\"nonzero\" fill-opacity=\"1\" /><path clip-path=\"url(#clip600)\" d=\"M1480.89 1532.02 L1510.57 1532.02 L1510.57 1535.95 L1480.89 1535.95 L1480.89 1532.02 Z\" fill=\"#000000\" fill-rule=\"nonzero\" fill-opacity=\"1\" /><path clip-path=\"url(#clip600)\" d=\"M1530.66 1517.37 Q1527.05 1517.37 1525.22 1520.93 Q1523.42 1524.47 1523.42 1531.6 Q1523.42 1538.71 1525.22 1542.27 Q1527.05 1545.82 1530.66 1545.82 Q1534.3 1545.82 1536.1 1542.27 Q1537.93 1538.71 1537.93 1531.6 Q1537.93 1524.47 1536.1 1520.93 Q1534.3 1517.37 1530.66 1517.37 M1530.66 1513.66 Q1536.47 1513.66 1539.53 1518.27 Q1542.61 1522.85 1542.61 1531.6 Q1542.61 1540.33 1539.53 1544.94 Q1536.47 1549.52 1530.66 1549.52 Q1524.85 1549.52 1521.77 1544.94 Q1518.72 1540.33 1518.72 1531.6 Q1518.72 1522.85 1521.77 1518.27 Q1524.85 1513.66 1530.66 1513.66 Z\" fill=\"#000000\" fill-rule=\"nonzero\" fill-opacity=\"1\" /><path clip-path=\"url(#clip600)\" d=\"M1550.82 1542.97 L1555.71 1542.97 L1555.71 1548.85 L1550.82 1548.85 L1550.82 1542.97 Z\" fill=\"#000000\" fill-rule=\"nonzero\" fill-opacity=\"1\" /><path clip-path=\"url(#clip600)\" d=\"M1578.74 1518.36 L1566.94 1536.81 L1578.74 1536.81 L1578.74 1518.36 M1577.51 1514.29 L1583.39 1514.29 L1583.39 1536.81 L1588.32 1536.81 L1588.32 1540.7 L1583.39 1540.7 L1583.39 1548.85 L1578.74 1548.85 L1578.74 1540.7 L1563.14 1540.7 L1563.14 1536.19 L1577.51 1514.29 Z\" fill=\"#000000\" fill-rule=\"nonzero\" fill-opacity=\"1\" /><path clip-path=\"url(#clip600)\" d=\"M1600.08 1544.91 L1616.4 1544.91 L1616.4 1548.85 L1594.46 1548.85 L1594.46 1544.91 Q1597.12 1542.16 1601.7 1537.53 Q1606.31 1532.88 1607.49 1531.53 Q1609.74 1529.01 1610.62 1527.27 Q1611.52 1525.51 1611.52 1523.82 Q1611.52 1521.07 1609.57 1519.33 Q1607.65 1517.6 1604.55 1517.6 Q1602.35 1517.6 1599.9 1518.36 Q1597.47 1519.13 1594.69 1520.68 L1594.69 1515.95 Q1597.51 1514.82 1599.97 1514.24 Q1602.42 1513.66 1604.46 1513.66 Q1609.83 1513.66 1613.02 1516.35 Q1616.22 1519.03 1616.22 1523.52 Q1616.22 1525.65 1615.41 1527.57 Q1614.62 1529.47 1612.51 1532.07 Q1611.93 1532.74 1608.83 1535.95 Q1605.73 1539.15 1600.08 1544.91 Z\" fill=\"#000000\" fill-rule=\"nonzero\" fill-opacity=\"1\" /><path clip-path=\"url(#clip600)\" d=\"M1892.31 1532.02 L1921.99 1532.02 L1921.99 1535.95 L1892.31 1535.95 L1892.31 1532.02 Z\" fill=\"#000000\" fill-rule=\"nonzero\" fill-opacity=\"1\" /><path clip-path=\"url(#clip600)\" d=\"M1942.08 1517.37 Q1938.47 1517.37 1936.64 1520.93 Q1934.83 1524.47 1934.83 1531.6 Q1934.83 1538.71 1936.64 1542.27 Q1938.47 1545.82 1942.08 1545.82 Q1945.71 1545.82 1947.52 1542.27 Q1949.35 1538.71 1949.35 1531.6 Q1949.35 1524.47 1947.52 1520.93 Q1945.71 1517.37 1942.08 1517.37 M1942.08 1513.66 Q1947.89 1513.66 1950.94 1518.27 Q1954.02 1522.85 1954.02 1531.6 Q1954.02 1540.33 1950.94 1544.94 Q1947.89 1549.52 1942.08 1549.52 Q1936.27 1549.52 1933.19 1544.94 Q1930.13 1540.33 1930.13 1531.6 Q1930.13 1522.85 1933.19 1518.27 Q1936.27 1513.66 1942.08 1513.66 Z\" fill=\"#000000\" fill-rule=\"nonzero\" fill-opacity=\"1\" /><path clip-path=\"url(#clip600)\" d=\"M1962.24 1542.97 L1967.12 1542.97 L1967.12 1548.85 L1962.24 1548.85 L1962.24 1542.97 Z\" fill=\"#000000\" fill-rule=\"nonzero\" fill-opacity=\"1\" /><path clip-path=\"url(#clip600)\" d=\"M1990.16 1518.36 L1978.35 1536.81 L1990.16 1536.81 L1990.16 1518.36 M1988.93 1514.29 L1994.81 1514.29 L1994.81 1536.81 L1999.74 1536.81 L1999.74 1540.7 L1994.81 1540.7 L1994.81 1548.85 L1990.16 1548.85 L1990.16 1540.7 L1974.55 1540.7 L1974.55 1536.19 L1988.93 1514.29 Z\" fill=\"#000000\" fill-rule=\"nonzero\" fill-opacity=\"1\" /><path clip-path=\"url(#clip600)\" d=\"M2017.47 1517.37 Q2013.86 1517.37 2012.03 1520.93 Q2010.23 1524.47 2010.23 1531.6 Q2010.23 1538.71 2012.03 1542.27 Q2013.86 1545.82 2017.47 1545.82 Q2021.11 1545.82 2022.91 1542.27 Q2024.74 1538.71 2024.74 1531.6 Q2024.74 1524.47 2022.91 1520.93 Q2021.11 1517.37 2017.47 1517.37 M2017.47 1513.66 Q2023.28 1513.66 2026.34 1518.27 Q2029.42 1522.85 2029.42 1531.6 Q2029.42 1540.33 2026.34 1544.94 Q2023.28 1549.52 2017.47 1549.52 Q2011.66 1549.52 2008.58 1544.94 Q2005.53 1540.33 2005.53 1531.6 Q2005.53 1522.85 2008.58 1518.27 Q2011.66 1513.66 2017.47 1513.66 Z\" fill=\"#000000\" fill-rule=\"nonzero\" fill-opacity=\"1\" /><polyline clip-path=\"url(#clip602)\" style=\"stroke:#000000; stroke-linecap:round; stroke-linejoin:round; stroke-width:2; stroke-opacity:0.1; fill:none\" points=\"224.098,1389.12 2352.76,1389.12 \"/>\n",
       "<polyline clip-path=\"url(#clip602)\" style=\"stroke:#000000; stroke-linecap:round; stroke-linejoin:round; stroke-width:2; stroke-opacity:0.1; fill:none\" points=\"224.098,1112.65 2352.76,1112.65 \"/>\n",
       "<polyline clip-path=\"url(#clip602)\" style=\"stroke:#000000; stroke-linecap:round; stroke-linejoin:round; stroke-width:2; stroke-opacity:0.1; fill:none\" points=\"224.098,836.177 2352.76,836.177 \"/>\n",
       "<polyline clip-path=\"url(#clip602)\" style=\"stroke:#000000; stroke-linecap:round; stroke-linejoin:round; stroke-width:2; stroke-opacity:0.1; fill:none\" points=\"224.098,559.708 2352.76,559.708 \"/>\n",
       "<polyline clip-path=\"url(#clip602)\" style=\"stroke:#000000; stroke-linecap:round; stroke-linejoin:round; stroke-width:2; stroke-opacity:0.1; fill:none\" points=\"224.098,283.238 2352.76,283.238 \"/>\n",
       "<polyline clip-path=\"url(#clip600)\" style=\"stroke:#000000; stroke-linecap:round; stroke-linejoin:round; stroke-width:4; stroke-opacity:1; fill:none\" points=\"224.098,1486.45 224.098,47.2441 \"/>\n",
       "<polyline clip-path=\"url(#clip600)\" style=\"stroke:#000000; stroke-linecap:round; stroke-linejoin:round; stroke-width:4; stroke-opacity:1; fill:none\" points=\"224.098,1389.12 242.996,1389.12 \"/>\n",
       "<polyline clip-path=\"url(#clip600)\" style=\"stroke:#000000; stroke-linecap:round; stroke-linejoin:round; stroke-width:4; stroke-opacity:1; fill:none\" points=\"224.098,1112.65 242.996,1112.65 \"/>\n",
       "<polyline clip-path=\"url(#clip600)\" style=\"stroke:#000000; stroke-linecap:round; stroke-linejoin:round; stroke-width:4; stroke-opacity:1; fill:none\" points=\"224.098,836.177 242.996,836.177 \"/>\n",
       "<polyline clip-path=\"url(#clip600)\" style=\"stroke:#000000; stroke-linecap:round; stroke-linejoin:round; stroke-width:4; stroke-opacity:1; fill:none\" points=\"224.098,559.708 242.996,559.708 \"/>\n",
       "<polyline clip-path=\"url(#clip600)\" style=\"stroke:#000000; stroke-linecap:round; stroke-linejoin:round; stroke-width:4; stroke-opacity:1; fill:none\" points=\"224.098,283.238 242.996,283.238 \"/>\n",
       "<path clip-path=\"url(#clip600)\" d=\"M51.9875 1389.57 L81.6633 1389.57 L81.6633 1393.5 L51.9875 1393.5 L51.9875 1389.57 Z\" fill=\"#000000\" fill-rule=\"nonzero\" fill-opacity=\"1\" /><path clip-path=\"url(#clip600)\" d=\"M101.756 1374.91 Q98.1447 1374.91 96.316 1378.48 Q94.5104 1382.02 94.5104 1389.15 Q94.5104 1396.26 96.316 1399.82 Q98.1447 1403.36 101.756 1403.36 Q105.39 1403.36 107.196 1399.82 Q109.024 1396.26 109.024 1389.15 Q109.024 1382.02 107.196 1378.48 Q105.39 1374.91 101.756 1374.91 M101.756 1371.21 Q107.566 1371.21 110.621 1375.82 Q113.7 1380.4 113.7 1389.15 Q113.7 1397.88 110.621 1402.48 Q107.566 1407.07 101.756 1407.07 Q95.9456 1407.07 92.8669 1402.48 Q89.8114 1397.88 89.8114 1389.15 Q89.8114 1380.4 92.8669 1375.82 Q95.9456 1371.21 101.756 1371.21 Z\" fill=\"#000000\" fill-rule=\"nonzero\" fill-opacity=\"1\" /><path clip-path=\"url(#clip600)\" d=\"M121.918 1400.52 L126.802 1400.52 L126.802 1406.4 L121.918 1406.4 L121.918 1400.52 Z\" fill=\"#000000\" fill-rule=\"nonzero\" fill-opacity=\"1\" /><path clip-path=\"url(#clip600)\" d=\"M135.806 1371.84 L158.029 1371.84 L158.029 1373.83 L145.482 1406.4 L140.598 1406.4 L152.404 1375.77 L135.806 1375.77 L135.806 1371.84 Z\" fill=\"#000000\" fill-rule=\"nonzero\" fill-opacity=\"1\" /><path clip-path=\"url(#clip600)\" d=\"M167.195 1371.84 L185.552 1371.84 L185.552 1375.77 L171.478 1375.77 L171.478 1384.24 Q172.496 1383.9 173.515 1383.73 Q174.533 1383.55 175.552 1383.55 Q181.339 1383.55 184.718 1386.72 Q188.098 1389.89 188.098 1395.31 Q188.098 1400.89 184.626 1403.99 Q181.153 1407.07 174.834 1407.07 Q172.658 1407.07 170.39 1406.7 Q168.144 1406.33 165.737 1405.59 L165.737 1400.89 Q167.82 1402.02 170.042 1402.58 Q172.265 1403.13 174.741 1403.13 Q178.746 1403.13 181.084 1401.03 Q183.422 1398.92 183.422 1395.31 Q183.422 1391.7 181.084 1389.59 Q178.746 1387.48 174.741 1387.48 Q172.866 1387.48 170.991 1387.9 Q169.14 1388.32 167.195 1389.2 L167.195 1371.84 Z\" fill=\"#000000\" fill-rule=\"nonzero\" fill-opacity=\"1\" /><path clip-path=\"url(#clip600)\" d=\"M50.9921 1113.1 L80.6679 1113.1 L80.6679 1117.03 L50.9921 1117.03 L50.9921 1113.1 Z\" fill=\"#000000\" fill-rule=\"nonzero\" fill-opacity=\"1\" /><path clip-path=\"url(#clip600)\" d=\"M100.76 1098.45 Q97.1493 1098.45 95.3206 1102.01 Q93.515 1105.55 93.515 1112.68 Q93.515 1119.79 95.3206 1123.35 Q97.1493 1126.89 100.76 1126.89 Q104.395 1126.89 106.2 1123.35 Q108.029 1119.79 108.029 1112.68 Q108.029 1105.55 106.2 1102.01 Q104.395 1098.45 100.76 1098.45 M100.76 1094.74 Q106.571 1094.74 109.626 1099.35 Q112.705 1103.93 112.705 1112.68 Q112.705 1121.41 109.626 1126.01 Q106.571 1130.6 100.76 1130.6 Q94.9502 1130.6 91.8715 1126.01 Q88.816 1121.41 88.816 1112.68 Q88.816 1103.93 91.8715 1099.35 Q94.9502 1094.74 100.76 1094.74 Z\" fill=\"#000000\" fill-rule=\"nonzero\" fill-opacity=\"1\" /><path clip-path=\"url(#clip600)\" d=\"M120.922 1124.05 L125.807 1124.05 L125.807 1129.93 L120.922 1129.93 L120.922 1124.05 Z\" fill=\"#000000\" fill-rule=\"nonzero\" fill-opacity=\"1\" /><path clip-path=\"url(#clip600)\" d=\"M136.038 1095.37 L154.394 1095.37 L154.394 1099.3 L140.32 1099.3 L140.32 1107.77 Q141.339 1107.43 142.357 1107.26 Q143.376 1107.08 144.394 1107.08 Q150.181 1107.08 153.561 1110.25 Q156.941 1113.42 156.941 1118.84 Q156.941 1124.42 153.468 1127.52 Q149.996 1130.6 143.677 1130.6 Q141.501 1130.6 139.232 1130.23 Q136.987 1129.86 134.58 1129.12 L134.58 1124.42 Q136.663 1125.55 138.885 1126.11 Q141.107 1126.66 143.584 1126.66 Q147.589 1126.66 149.927 1124.56 Q152.265 1122.45 152.265 1118.84 Q152.265 1115.23 149.927 1113.12 Q147.589 1111.01 143.584 1111.01 Q141.709 1111.01 139.834 1111.43 Q137.982 1111.85 136.038 1112.73 L136.038 1095.37 Z\" fill=\"#000000\" fill-rule=\"nonzero\" fill-opacity=\"1\" /><path clip-path=\"url(#clip600)\" d=\"M176.153 1098.45 Q172.542 1098.45 170.714 1102.01 Q168.908 1105.55 168.908 1112.68 Q168.908 1119.79 170.714 1123.35 Q172.542 1126.89 176.153 1126.89 Q179.788 1126.89 181.593 1123.35 Q183.422 1119.79 183.422 1112.68 Q183.422 1105.55 181.593 1102.01 Q179.788 1098.45 176.153 1098.45 M176.153 1094.74 Q181.964 1094.74 185.019 1099.35 Q188.098 1103.93 188.098 1112.68 Q188.098 1121.41 185.019 1126.01 Q181.964 1130.6 176.153 1130.6 Q170.343 1130.6 167.265 1126.01 Q164.209 1121.41 164.209 1112.68 Q164.209 1103.93 167.265 1099.35 Q170.343 1094.74 176.153 1094.74 Z\" fill=\"#000000\" fill-rule=\"nonzero\" fill-opacity=\"1\" /><path clip-path=\"url(#clip600)\" d=\"M51.9875 836.628 L81.6633 836.628 L81.6633 840.564 L51.9875 840.564 L51.9875 836.628 Z\" fill=\"#000000\" fill-rule=\"nonzero\" fill-opacity=\"1\" /><path clip-path=\"url(#clip600)\" d=\"M101.756 821.976 Q98.1447 821.976 96.316 825.54 Q94.5104 829.082 94.5104 836.212 Q94.5104 843.318 96.316 846.883 Q98.1447 850.425 101.756 850.425 Q105.39 850.425 107.196 846.883 Q109.024 843.318 109.024 836.212 Q109.024 829.082 107.196 825.54 Q105.39 821.976 101.756 821.976 M101.756 818.272 Q107.566 818.272 110.621 822.878 Q113.7 827.462 113.7 836.212 Q113.7 844.939 110.621 849.545 Q107.566 854.128 101.756 854.128 Q95.9456 854.128 92.8669 849.545 Q89.8114 844.939 89.8114 836.212 Q89.8114 827.462 92.8669 822.878 Q95.9456 818.272 101.756 818.272 Z\" fill=\"#000000\" fill-rule=\"nonzero\" fill-opacity=\"1\" /><path clip-path=\"url(#clip600)\" d=\"M121.918 847.577 L126.802 847.577 L126.802 853.457 L121.918 853.457 L121.918 847.577 Z\" fill=\"#000000\" fill-rule=\"nonzero\" fill-opacity=\"1\" /><path clip-path=\"url(#clip600)\" d=\"M141.015 849.522 L157.334 849.522 L157.334 853.457 L135.39 853.457 L135.39 849.522 Q138.052 846.767 142.635 842.138 Q147.242 837.485 148.422 836.142 Q150.668 833.619 151.547 831.883 Q152.45 830.124 152.45 828.434 Q152.45 825.679 150.505 823.943 Q148.584 822.207 145.482 822.207 Q143.283 822.207 140.83 822.971 Q138.399 823.735 135.621 825.286 L135.621 820.564 Q138.445 819.429 140.899 818.851 Q143.353 818.272 145.39 818.272 Q150.76 818.272 153.955 820.957 Q157.149 823.642 157.149 828.133 Q157.149 830.263 156.339 832.184 Q155.552 834.082 153.445 836.675 Q152.867 837.346 149.765 840.564 Q146.663 843.758 141.015 849.522 Z\" fill=\"#000000\" fill-rule=\"nonzero\" fill-opacity=\"1\" /><path clip-path=\"url(#clip600)\" d=\"M167.195 818.897 L185.552 818.897 L185.552 822.832 L171.478 822.832 L171.478 831.304 Q172.496 830.957 173.515 830.795 Q174.533 830.61 175.552 830.61 Q181.339 830.61 184.718 833.781 Q188.098 836.952 188.098 842.369 Q188.098 847.948 184.626 851.05 Q181.153 854.128 174.834 854.128 Q172.658 854.128 170.39 853.758 Q168.144 853.388 165.737 852.647 L165.737 847.948 Q167.82 849.082 170.042 849.638 Q172.265 850.193 174.741 850.193 Q178.746 850.193 181.084 848.087 Q183.422 845.98 183.422 842.369 Q183.422 838.758 181.084 836.652 Q178.746 834.545 174.741 834.545 Q172.866 834.545 170.991 834.962 Q169.14 835.378 167.195 836.258 L167.195 818.897 Z\" fill=\"#000000\" fill-rule=\"nonzero\" fill-opacity=\"1\" /><path clip-path=\"url(#clip600)\" d=\"M100.76 545.506 Q97.1493 545.506 95.3206 549.071 Q93.515 552.613 93.515 559.742 Q93.515 566.849 95.3206 570.414 Q97.1493 573.955 100.76 573.955 Q104.395 573.955 106.2 570.414 Q108.029 566.849 108.029 559.742 Q108.029 552.613 106.2 549.071 Q104.395 545.506 100.76 545.506 M100.76 541.803 Q106.571 541.803 109.626 546.409 Q112.705 550.992 112.705 559.742 Q112.705 568.469 109.626 573.076 Q106.571 577.659 100.76 577.659 Q94.9502 577.659 91.8715 573.076 Q88.816 568.469 88.816 559.742 Q88.816 550.992 91.8715 546.409 Q94.9502 541.803 100.76 541.803 Z\" fill=\"#000000\" fill-rule=\"nonzero\" fill-opacity=\"1\" /><path clip-path=\"url(#clip600)\" d=\"M120.922 571.108 L125.807 571.108 L125.807 576.988 L120.922 576.988 L120.922 571.108 Z\" fill=\"#000000\" fill-rule=\"nonzero\" fill-opacity=\"1\" /><path clip-path=\"url(#clip600)\" d=\"M145.992 545.506 Q142.381 545.506 140.552 549.071 Q138.746 552.613 138.746 559.742 Q138.746 566.849 140.552 570.414 Q142.381 573.955 145.992 573.955 Q149.626 573.955 151.431 570.414 Q153.26 566.849 153.26 559.742 Q153.26 552.613 151.431 549.071 Q149.626 545.506 145.992 545.506 M145.992 541.803 Q151.802 541.803 154.857 546.409 Q157.936 550.992 157.936 559.742 Q157.936 568.469 154.857 573.076 Q151.802 577.659 145.992 577.659 Q140.181 577.659 137.103 573.076 Q134.047 568.469 134.047 559.742 Q134.047 550.992 137.103 546.409 Q140.181 541.803 145.992 541.803 Z\" fill=\"#000000\" fill-rule=\"nonzero\" fill-opacity=\"1\" /><path clip-path=\"url(#clip600)\" d=\"M176.153 545.506 Q172.542 545.506 170.714 549.071 Q168.908 552.613 168.908 559.742 Q168.908 566.849 170.714 570.414 Q172.542 573.955 176.153 573.955 Q179.788 573.955 181.593 570.414 Q183.422 566.849 183.422 559.742 Q183.422 552.613 181.593 549.071 Q179.788 545.506 176.153 545.506 M176.153 541.803 Q181.964 541.803 185.019 546.409 Q188.098 550.992 188.098 559.742 Q188.098 568.469 185.019 573.076 Q181.964 577.659 176.153 577.659 Q170.343 577.659 167.265 573.076 Q164.209 568.469 164.209 559.742 Q164.209 550.992 167.265 546.409 Q170.343 541.803 176.153 541.803 Z\" fill=\"#000000\" fill-rule=\"nonzero\" fill-opacity=\"1\" /><path clip-path=\"url(#clip600)\" d=\"M101.756 269.037 Q98.1447 269.037 96.316 272.602 Q94.5104 276.143 94.5104 283.273 Q94.5104 290.379 96.316 293.944 Q98.1447 297.486 101.756 297.486 Q105.39 297.486 107.196 293.944 Q109.024 290.379 109.024 283.273 Q109.024 276.143 107.196 272.602 Q105.39 269.037 101.756 269.037 M101.756 265.333 Q107.566 265.333 110.621 269.94 Q113.7 274.523 113.7 283.273 Q113.7 292 110.621 296.606 Q107.566 301.189 101.756 301.189 Q95.9456 301.189 92.8669 296.606 Q89.8114 292 89.8114 283.273 Q89.8114 274.523 92.8669 269.94 Q95.9456 265.333 101.756 265.333 Z\" fill=\"#000000\" fill-rule=\"nonzero\" fill-opacity=\"1\" /><path clip-path=\"url(#clip600)\" d=\"M121.918 294.639 L126.802 294.639 L126.802 300.518 L121.918 300.518 L121.918 294.639 Z\" fill=\"#000000\" fill-rule=\"nonzero\" fill-opacity=\"1\" /><path clip-path=\"url(#clip600)\" d=\"M141.015 296.583 L157.334 296.583 L157.334 300.518 L135.39 300.518 L135.39 296.583 Q138.052 293.828 142.635 289.199 Q147.242 284.546 148.422 283.203 Q150.668 280.68 151.547 278.944 Q152.45 277.185 152.45 275.495 Q152.45 272.741 150.505 271.004 Q148.584 269.268 145.482 269.268 Q143.283 269.268 140.83 270.032 Q138.399 270.796 135.621 272.347 L135.621 267.625 Q138.445 266.491 140.899 265.912 Q143.353 265.333 145.39 265.333 Q150.76 265.333 153.955 268.018 Q157.149 270.704 157.149 275.194 Q157.149 277.324 156.339 279.245 Q155.552 281.143 153.445 283.736 Q152.867 284.407 149.765 287.625 Q146.663 290.819 141.015 296.583 Z\" fill=\"#000000\" fill-rule=\"nonzero\" fill-opacity=\"1\" /><path clip-path=\"url(#clip600)\" d=\"M167.195 265.958 L185.552 265.958 L185.552 269.893 L171.478 269.893 L171.478 278.366 Q172.496 278.018 173.515 277.856 Q174.533 277.671 175.552 277.671 Q181.339 277.671 184.718 280.842 Q188.098 284.014 188.098 289.43 Q188.098 295.009 184.626 298.111 Q181.153 301.189 174.834 301.189 Q172.658 301.189 170.39 300.819 Q168.144 300.449 165.737 299.708 L165.737 295.009 Q167.82 296.143 170.042 296.699 Q172.265 297.254 174.741 297.254 Q178.746 297.254 181.084 295.148 Q183.422 293.041 183.422 289.43 Q183.422 285.819 181.084 283.713 Q178.746 281.606 174.741 281.606 Q172.866 281.606 170.991 282.023 Q169.14 282.44 167.195 283.319 L167.195 265.958 Z\" fill=\"#000000\" fill-rule=\"nonzero\" fill-opacity=\"1\" /><circle clip-path=\"url(#clip602)\" cx=\"2292.51\" cy=\"1445.72\" r=\"14.4\" fill=\"#009af9\" fill-rule=\"evenodd\" fill-opacity=\"1\" stroke=\"#000000\" stroke-opacity=\"1\" stroke-width=\"3.2\"/>\n",
       "<circle clip-path=\"url(#clip602)\" cx=\"383.155\" cy=\"233.095\" r=\"14.4\" fill=\"#009af9\" fill-rule=\"evenodd\" fill-opacity=\"1\" stroke=\"#000000\" stroke-opacity=\"1\" stroke-width=\"3.2\"/>\n",
       "<circle clip-path=\"url(#clip602)\" cx=\"1399.99\" cy=\"842.276\" r=\"14.4\" fill=\"#009af9\" fill-rule=\"evenodd\" fill-opacity=\"1\" stroke=\"#000000\" stroke-opacity=\"1\" stroke-width=\"3.2\"/>\n",
       "<circle clip-path=\"url(#clip602)\" cx=\"284.343\" cy=\"87.9763\" r=\"14.4\" fill=\"#009af9\" fill-rule=\"evenodd\" fill-opacity=\"1\" stroke=\"#000000\" stroke-opacity=\"1\" stroke-width=\"3.2\"/>\n",
       "<circle clip-path=\"url(#clip602)\" cx=\"730.602\" cy=\"389.696\" r=\"14.4\" fill=\"#009af9\" fill-rule=\"evenodd\" fill-opacity=\"1\" stroke=\"#000000\" stroke-opacity=\"1\" stroke-width=\"3.2\"/>\n",
       "</svg>\n"
      ],
      "text/html": [
       "<?xml version=\"1.0\" encoding=\"utf-8\"?>\n",
       "<svg xmlns=\"http://www.w3.org/2000/svg\" xmlns:xlink=\"http://www.w3.org/1999/xlink\" width=\"600\" height=\"400\" viewBox=\"0 0 2400 1600\">\n",
       "<defs>\n",
       "  <clipPath id=\"clip650\">\n",
       "    <rect x=\"0\" y=\"0\" width=\"2400\" height=\"1600\"/>\n",
       "  </clipPath>\n",
       "</defs>\n",
       "<path clip-path=\"url(#clip650)\" d=\"M0 1600 L2400 1600 L2400 0 L0 0  Z\" fill=\"#ffffff\" fill-rule=\"evenodd\" fill-opacity=\"1\"/>\n",
       "<defs>\n",
       "  <clipPath id=\"clip651\">\n",
       "    <rect x=\"480\" y=\"0\" width=\"1681\" height=\"1600\"/>\n",
       "  </clipPath>\n",
       "</defs>\n",
       "<path clip-path=\"url(#clip650)\" d=\"M224.098 1486.45 L2352.76 1486.45 L2352.76 47.2441 L224.098 47.2441  Z\" fill=\"#ffffff\" fill-rule=\"evenodd\" fill-opacity=\"1\"/>\n",
       "<defs>\n",
       "  <clipPath id=\"clip652\">\n",
       "    <rect x=\"224\" y=\"47\" width=\"2130\" height=\"1440\"/>\n",
       "  </clipPath>\n",
       "</defs>\n",
       "<polyline clip-path=\"url(#clip652)\" style=\"stroke:#000000; stroke-linecap:round; stroke-linejoin:round; stroke-width:2; stroke-opacity:0.1; fill:none\" points=\"312.005,1486.45 312.005,47.2441 \"/>\n",
       "<polyline clip-path=\"url(#clip652)\" style=\"stroke:#000000; stroke-linecap:round; stroke-linejoin:round; stroke-width:2; stroke-opacity:0.1; fill:none\" points=\"724.22,1486.45 724.22,47.2441 \"/>\n",
       "<polyline clip-path=\"url(#clip652)\" style=\"stroke:#000000; stroke-linecap:round; stroke-linejoin:round; stroke-width:2; stroke-opacity:0.1; fill:none\" points=\"1136.43,1486.45 1136.43,47.2441 \"/>\n",
       "<polyline clip-path=\"url(#clip652)\" style=\"stroke:#000000; stroke-linecap:round; stroke-linejoin:round; stroke-width:2; stroke-opacity:0.1; fill:none\" points=\"1548.65,1486.45 1548.65,47.2441 \"/>\n",
       "<polyline clip-path=\"url(#clip652)\" style=\"stroke:#000000; stroke-linecap:round; stroke-linejoin:round; stroke-width:2; stroke-opacity:0.1; fill:none\" points=\"1960.86,1486.45 1960.86,47.2441 \"/>\n",
       "<polyline clip-path=\"url(#clip650)\" style=\"stroke:#000000; stroke-linecap:round; stroke-linejoin:round; stroke-width:4; stroke-opacity:1; fill:none\" points=\"224.098,1486.45 2352.76,1486.45 \"/>\n",
       "<polyline clip-path=\"url(#clip650)\" style=\"stroke:#000000; stroke-linecap:round; stroke-linejoin:round; stroke-width:4; stroke-opacity:1; fill:none\" points=\"312.005,1486.45 312.005,1467.55 \"/>\n",
       "<polyline clip-path=\"url(#clip650)\" style=\"stroke:#000000; stroke-linecap:round; stroke-linejoin:round; stroke-width:4; stroke-opacity:1; fill:none\" points=\"724.22,1486.45 724.22,1467.55 \"/>\n",
       "<polyline clip-path=\"url(#clip650)\" style=\"stroke:#000000; stroke-linecap:round; stroke-linejoin:round; stroke-width:4; stroke-opacity:1; fill:none\" points=\"1136.43,1486.45 1136.43,1467.55 \"/>\n",
       "<polyline clip-path=\"url(#clip650)\" style=\"stroke:#000000; stroke-linecap:round; stroke-linejoin:round; stroke-width:4; stroke-opacity:1; fill:none\" points=\"1548.65,1486.45 1548.65,1467.55 \"/>\n",
       "<polyline clip-path=\"url(#clip650)\" style=\"stroke:#000000; stroke-linecap:round; stroke-linejoin:round; stroke-width:4; stroke-opacity:1; fill:none\" points=\"1960.86,1486.45 1960.86,1467.55 \"/>\n",
       "<path clip-path=\"url(#clip650)\" d=\"M243.499 1532.02 L273.174 1532.02 L273.174 1535.95 L243.499 1535.95 L243.499 1532.02 Z\" fill=\"#000000\" fill-rule=\"nonzero\" fill-opacity=\"1\" /><path clip-path=\"url(#clip650)\" d=\"M293.267 1517.37 Q289.656 1517.37 287.827 1520.93 Q286.022 1524.47 286.022 1531.6 Q286.022 1538.71 287.827 1542.27 Q289.656 1545.82 293.267 1545.82 Q296.901 1545.82 298.707 1542.27 Q300.535 1538.71 300.535 1531.6 Q300.535 1524.47 298.707 1520.93 Q296.901 1517.37 293.267 1517.37 M293.267 1513.66 Q299.077 1513.66 302.133 1518.27 Q305.211 1522.85 305.211 1531.6 Q305.211 1540.33 302.133 1544.94 Q299.077 1549.52 293.267 1549.52 Q287.457 1549.52 284.378 1544.94 Q281.323 1540.33 281.323 1531.6 Q281.323 1522.85 284.378 1518.27 Q287.457 1513.66 293.267 1513.66 Z\" fill=\"#000000\" fill-rule=\"nonzero\" fill-opacity=\"1\" /><path clip-path=\"url(#clip650)\" d=\"M313.429 1542.97 L318.313 1542.97 L318.313 1548.85 L313.429 1548.85 L313.429 1542.97 Z\" fill=\"#000000\" fill-rule=\"nonzero\" fill-opacity=\"1\" /><path clip-path=\"url(#clip650)\" d=\"M341.345 1518.36 L329.54 1536.81 L341.345 1536.81 L341.345 1518.36 M340.118 1514.29 L345.998 1514.29 L345.998 1536.81 L350.929 1536.81 L350.929 1540.7 L345.998 1540.7 L345.998 1548.85 L341.345 1548.85 L341.345 1540.7 L325.744 1540.7 L325.744 1536.19 L340.118 1514.29 Z\" fill=\"#000000\" fill-rule=\"nonzero\" fill-opacity=\"1\" /><path clip-path=\"url(#clip650)\" d=\"M368.66 1532.44 Q365.327 1532.44 363.405 1534.22 Q361.507 1536 361.507 1539.13 Q361.507 1542.25 363.405 1544.03 Q365.327 1545.82 368.66 1545.82 Q371.993 1545.82 373.915 1544.03 Q375.836 1542.23 375.836 1539.13 Q375.836 1536 373.915 1534.22 Q372.016 1532.44 368.66 1532.44 M363.984 1530.45 Q360.975 1529.7 359.285 1527.64 Q357.618 1525.58 357.618 1522.62 Q357.618 1518.48 360.558 1516.07 Q363.521 1513.66 368.66 1513.66 Q373.822 1513.66 376.762 1516.07 Q379.702 1518.48 379.702 1522.62 Q379.702 1525.58 378.012 1527.64 Q376.345 1529.7 373.359 1530.45 Q376.739 1531.23 378.614 1533.52 Q380.512 1535.82 380.512 1539.13 Q380.512 1544.15 377.433 1546.83 Q374.378 1549.52 368.66 1549.52 Q362.942 1549.52 359.864 1546.83 Q356.808 1544.15 356.808 1539.13 Q356.808 1535.82 358.706 1533.52 Q360.604 1531.23 363.984 1530.45 M362.271 1523.06 Q362.271 1525.75 363.938 1527.25 Q365.628 1528.76 368.66 1528.76 Q371.669 1528.76 373.359 1527.25 Q375.072 1525.75 375.072 1523.06 Q375.072 1520.38 373.359 1518.87 Q371.669 1517.37 368.66 1517.37 Q365.628 1517.37 363.938 1518.87 Q362.271 1520.38 362.271 1523.06 Z\" fill=\"#000000\" fill-rule=\"nonzero\" fill-opacity=\"1\" /><path clip-path=\"url(#clip650)\" d=\"M655.586 1532.02 L685.261 1532.02 L685.261 1535.95 L655.586 1535.95 L655.586 1532.02 Z\" fill=\"#000000\" fill-rule=\"nonzero\" fill-opacity=\"1\" /><path clip-path=\"url(#clip650)\" d=\"M705.354 1517.37 Q701.743 1517.37 699.914 1520.93 Q698.109 1524.47 698.109 1531.6 Q698.109 1538.71 699.914 1542.27 Q701.743 1545.82 705.354 1545.82 Q708.988 1545.82 710.794 1542.27 Q712.622 1538.71 712.622 1531.6 Q712.622 1524.47 710.794 1520.93 Q708.988 1517.37 705.354 1517.37 M705.354 1513.66 Q711.164 1513.66 714.22 1518.27 Q717.298 1522.85 717.298 1531.6 Q717.298 1540.33 714.22 1544.94 Q711.164 1549.52 705.354 1549.52 Q699.544 1549.52 696.465 1544.94 Q693.41 1540.33 693.41 1531.6 Q693.41 1522.85 696.465 1518.27 Q699.544 1513.66 705.354 1513.66 Z\" fill=\"#000000\" fill-rule=\"nonzero\" fill-opacity=\"1\" /><path clip-path=\"url(#clip650)\" d=\"M725.516 1542.97 L730.4 1542.97 L730.4 1548.85 L725.516 1548.85 L725.516 1542.97 Z\" fill=\"#000000\" fill-rule=\"nonzero\" fill-opacity=\"1\" /><path clip-path=\"url(#clip650)\" d=\"M753.432 1518.36 L741.627 1536.81 L753.432 1536.81 L753.432 1518.36 M752.206 1514.29 L758.085 1514.29 L758.085 1536.81 L763.016 1536.81 L763.016 1540.7 L758.085 1540.7 L758.085 1548.85 L753.432 1548.85 L753.432 1540.7 L737.831 1540.7 L737.831 1536.19 L752.206 1514.29 Z\" fill=\"#000000\" fill-rule=\"nonzero\" fill-opacity=\"1\" /><path clip-path=\"url(#clip650)\" d=\"M781.326 1529.7 Q778.178 1529.7 776.326 1531.86 Q774.497 1534.01 774.497 1537.76 Q774.497 1541.49 776.326 1543.66 Q778.178 1545.82 781.326 1545.82 Q784.474 1545.82 786.303 1543.66 Q788.154 1541.49 788.154 1537.76 Q788.154 1534.01 786.303 1531.86 Q784.474 1529.7 781.326 1529.7 M790.608 1515.05 L790.608 1519.31 Q788.849 1518.48 787.043 1518.04 Q785.261 1517.6 783.502 1517.6 Q778.872 1517.6 776.418 1520.72 Q773.988 1523.85 773.641 1530.17 Q775.006 1528.15 777.067 1527.09 Q779.127 1526 781.604 1526 Q786.812 1526 789.821 1529.17 Q792.853 1532.32 792.853 1537.76 Q792.853 1543.08 789.705 1546.3 Q786.557 1549.52 781.326 1549.52 Q775.33 1549.52 772.159 1544.94 Q768.988 1540.33 768.988 1531.6 Q768.988 1523.41 772.877 1518.55 Q776.766 1513.66 783.316 1513.66 Q785.076 1513.66 786.858 1514.01 Q788.664 1514.36 790.608 1515.05 Z\" fill=\"#000000\" fill-rule=\"nonzero\" fill-opacity=\"1\" /><path clip-path=\"url(#clip650)\" d=\"M1067.64 1532.02 L1097.31 1532.02 L1097.31 1535.95 L1067.64 1535.95 L1067.64 1532.02 Z\" fill=\"#000000\" fill-rule=\"nonzero\" fill-opacity=\"1\" /><path clip-path=\"url(#clip650)\" d=\"M1117.41 1517.37 Q1113.8 1517.37 1111.97 1520.93 Q1110.16 1524.47 1110.16 1531.6 Q1110.16 1538.71 1111.97 1542.27 Q1113.8 1545.82 1117.41 1545.82 Q1121.04 1545.82 1122.85 1542.27 Q1124.67 1538.71 1124.67 1531.6 Q1124.67 1524.47 1122.85 1520.93 Q1121.04 1517.37 1117.41 1517.37 M1117.41 1513.66 Q1123.22 1513.66 1126.27 1518.27 Q1129.35 1522.85 1129.35 1531.6 Q1129.35 1540.33 1126.27 1544.94 Q1123.22 1549.52 1117.41 1549.52 Q1111.6 1549.52 1108.52 1544.94 Q1105.46 1540.33 1105.46 1531.6 Q1105.46 1522.85 1108.52 1518.27 Q1111.6 1513.66 1117.41 1513.66 Z\" fill=\"#000000\" fill-rule=\"nonzero\" fill-opacity=\"1\" /><path clip-path=\"url(#clip650)\" d=\"M1137.57 1542.97 L1142.45 1542.97 L1142.45 1548.85 L1137.57 1548.85 L1137.57 1542.97 Z\" fill=\"#000000\" fill-rule=\"nonzero\" fill-opacity=\"1\" /><path clip-path=\"url(#clip650)\" d=\"M1165.48 1518.36 L1153.68 1536.81 L1165.48 1536.81 L1165.48 1518.36 M1164.26 1514.29 L1170.14 1514.29 L1170.14 1536.81 L1175.07 1536.81 L1175.07 1540.7 L1170.14 1540.7 L1170.14 1548.85 L1165.48 1548.85 L1165.48 1540.7 L1149.88 1540.7 L1149.88 1536.19 L1164.26 1514.29 Z\" fill=\"#000000\" fill-rule=\"nonzero\" fill-opacity=\"1\" /><path clip-path=\"url(#clip650)\" d=\"M1195.65 1518.36 L1183.84 1536.81 L1195.65 1536.81 L1195.65 1518.36 M1194.42 1514.29 L1200.3 1514.29 L1200.3 1536.81 L1205.23 1536.81 L1205.23 1540.7 L1200.3 1540.7 L1200.3 1548.85 L1195.65 1548.85 L1195.65 1540.7 L1180.04 1540.7 L1180.04 1536.19 L1194.42 1514.29 Z\" fill=\"#000000\" fill-rule=\"nonzero\" fill-opacity=\"1\" /><path clip-path=\"url(#clip650)\" d=\"M1480.89 1532.02 L1510.57 1532.02 L1510.57 1535.95 L1480.89 1535.95 L1480.89 1532.02 Z\" fill=\"#000000\" fill-rule=\"nonzero\" fill-opacity=\"1\" /><path clip-path=\"url(#clip650)\" d=\"M1530.66 1517.37 Q1527.05 1517.37 1525.22 1520.93 Q1523.42 1524.47 1523.42 1531.6 Q1523.42 1538.71 1525.22 1542.27 Q1527.05 1545.82 1530.66 1545.82 Q1534.3 1545.82 1536.1 1542.27 Q1537.93 1538.71 1537.93 1531.6 Q1537.93 1524.47 1536.1 1520.93 Q1534.3 1517.37 1530.66 1517.37 M1530.66 1513.66 Q1536.47 1513.66 1539.53 1518.27 Q1542.61 1522.85 1542.61 1531.6 Q1542.61 1540.33 1539.53 1544.94 Q1536.47 1549.52 1530.66 1549.52 Q1524.85 1549.52 1521.77 1544.94 Q1518.72 1540.33 1518.72 1531.6 Q1518.72 1522.85 1521.77 1518.27 Q1524.85 1513.66 1530.66 1513.66 Z\" fill=\"#000000\" fill-rule=\"nonzero\" fill-opacity=\"1\" /><path clip-path=\"url(#clip650)\" d=\"M1550.82 1542.97 L1555.71 1542.97 L1555.71 1548.85 L1550.82 1548.85 L1550.82 1542.97 Z\" fill=\"#000000\" fill-rule=\"nonzero\" fill-opacity=\"1\" /><path clip-path=\"url(#clip650)\" d=\"M1578.74 1518.36 L1566.94 1536.81 L1578.74 1536.81 L1578.74 1518.36 M1577.51 1514.29 L1583.39 1514.29 L1583.39 1536.81 L1588.32 1536.81 L1588.32 1540.7 L1583.39 1540.7 L1583.39 1548.85 L1578.74 1548.85 L1578.74 1540.7 L1563.14 1540.7 L1563.14 1536.19 L1577.51 1514.29 Z\" fill=\"#000000\" fill-rule=\"nonzero\" fill-opacity=\"1\" /><path clip-path=\"url(#clip650)\" d=\"M1600.08 1544.91 L1616.4 1544.91 L1616.4 1548.85 L1594.46 1548.85 L1594.46 1544.91 Q1597.12 1542.16 1601.7 1537.53 Q1606.31 1532.88 1607.49 1531.53 Q1609.74 1529.01 1610.62 1527.27 Q1611.52 1525.51 1611.52 1523.82 Q1611.52 1521.07 1609.57 1519.33 Q1607.65 1517.6 1604.55 1517.6 Q1602.35 1517.6 1599.9 1518.36 Q1597.47 1519.13 1594.69 1520.68 L1594.69 1515.95 Q1597.51 1514.82 1599.97 1514.24 Q1602.42 1513.66 1604.46 1513.66 Q1609.83 1513.66 1613.02 1516.35 Q1616.22 1519.03 1616.22 1523.52 Q1616.22 1525.65 1615.41 1527.57 Q1614.62 1529.47 1612.51 1532.07 Q1611.93 1532.74 1608.83 1535.95 Q1605.73 1539.15 1600.08 1544.91 Z\" fill=\"#000000\" fill-rule=\"nonzero\" fill-opacity=\"1\" /><path clip-path=\"url(#clip650)\" d=\"M1892.31 1532.02 L1921.99 1532.02 L1921.99 1535.95 L1892.31 1535.95 L1892.31 1532.02 Z\" fill=\"#000000\" fill-rule=\"nonzero\" fill-opacity=\"1\" /><path clip-path=\"url(#clip650)\" d=\"M1942.08 1517.37 Q1938.47 1517.37 1936.64 1520.93 Q1934.83 1524.47 1934.83 1531.6 Q1934.83 1538.71 1936.64 1542.27 Q1938.47 1545.82 1942.08 1545.82 Q1945.71 1545.82 1947.52 1542.27 Q1949.35 1538.71 1949.35 1531.6 Q1949.35 1524.47 1947.52 1520.93 Q1945.71 1517.37 1942.08 1517.37 M1942.08 1513.66 Q1947.89 1513.66 1950.94 1518.27 Q1954.02 1522.85 1954.02 1531.6 Q1954.02 1540.33 1950.94 1544.94 Q1947.89 1549.52 1942.08 1549.52 Q1936.27 1549.52 1933.19 1544.94 Q1930.13 1540.33 1930.13 1531.6 Q1930.13 1522.85 1933.19 1518.27 Q1936.27 1513.66 1942.08 1513.66 Z\" fill=\"#000000\" fill-rule=\"nonzero\" fill-opacity=\"1\" /><path clip-path=\"url(#clip650)\" d=\"M1962.24 1542.97 L1967.12 1542.97 L1967.12 1548.85 L1962.24 1548.85 L1962.24 1542.97 Z\" fill=\"#000000\" fill-rule=\"nonzero\" fill-opacity=\"1\" /><path clip-path=\"url(#clip650)\" d=\"M1990.16 1518.36 L1978.35 1536.81 L1990.16 1536.81 L1990.16 1518.36 M1988.93 1514.29 L1994.81 1514.29 L1994.81 1536.81 L1999.74 1536.81 L1999.74 1540.7 L1994.81 1540.7 L1994.81 1548.85 L1990.16 1548.85 L1990.16 1540.7 L1974.55 1540.7 L1974.55 1536.19 L1988.93 1514.29 Z\" fill=\"#000000\" fill-rule=\"nonzero\" fill-opacity=\"1\" /><path clip-path=\"url(#clip650)\" d=\"M2017.47 1517.37 Q2013.86 1517.37 2012.03 1520.93 Q2010.23 1524.47 2010.23 1531.6 Q2010.23 1538.71 2012.03 1542.27 Q2013.86 1545.82 2017.47 1545.82 Q2021.11 1545.82 2022.91 1542.27 Q2024.74 1538.71 2024.74 1531.6 Q2024.74 1524.47 2022.91 1520.93 Q2021.11 1517.37 2017.47 1517.37 M2017.47 1513.66 Q2023.28 1513.66 2026.34 1518.27 Q2029.42 1522.85 2029.42 1531.6 Q2029.42 1540.33 2026.34 1544.94 Q2023.28 1549.52 2017.47 1549.52 Q2011.66 1549.52 2008.58 1544.94 Q2005.53 1540.33 2005.53 1531.6 Q2005.53 1522.85 2008.58 1518.27 Q2011.66 1513.66 2017.47 1513.66 Z\" fill=\"#000000\" fill-rule=\"nonzero\" fill-opacity=\"1\" /><polyline clip-path=\"url(#clip652)\" style=\"stroke:#000000; stroke-linecap:round; stroke-linejoin:round; stroke-width:2; stroke-opacity:0.1; fill:none\" points=\"224.098,1389.12 2352.76,1389.12 \"/>\n",
       "<polyline clip-path=\"url(#clip652)\" style=\"stroke:#000000; stroke-linecap:round; stroke-linejoin:round; stroke-width:2; stroke-opacity:0.1; fill:none\" points=\"224.098,1112.65 2352.76,1112.65 \"/>\n",
       "<polyline clip-path=\"url(#clip652)\" style=\"stroke:#000000; stroke-linecap:round; stroke-linejoin:round; stroke-width:2; stroke-opacity:0.1; fill:none\" points=\"224.098,836.177 2352.76,836.177 \"/>\n",
       "<polyline clip-path=\"url(#clip652)\" style=\"stroke:#000000; stroke-linecap:round; stroke-linejoin:round; stroke-width:2; stroke-opacity:0.1; fill:none\" points=\"224.098,559.708 2352.76,559.708 \"/>\n",
       "<polyline clip-path=\"url(#clip652)\" style=\"stroke:#000000; stroke-linecap:round; stroke-linejoin:round; stroke-width:2; stroke-opacity:0.1; fill:none\" points=\"224.098,283.238 2352.76,283.238 \"/>\n",
       "<polyline clip-path=\"url(#clip650)\" style=\"stroke:#000000; stroke-linecap:round; stroke-linejoin:round; stroke-width:4; stroke-opacity:1; fill:none\" points=\"224.098,1486.45 224.098,47.2441 \"/>\n",
       "<polyline clip-path=\"url(#clip650)\" style=\"stroke:#000000; stroke-linecap:round; stroke-linejoin:round; stroke-width:4; stroke-opacity:1; fill:none\" points=\"224.098,1389.12 242.996,1389.12 \"/>\n",
       "<polyline clip-path=\"url(#clip650)\" style=\"stroke:#000000; stroke-linecap:round; stroke-linejoin:round; stroke-width:4; stroke-opacity:1; fill:none\" points=\"224.098,1112.65 242.996,1112.65 \"/>\n",
       "<polyline clip-path=\"url(#clip650)\" style=\"stroke:#000000; stroke-linecap:round; stroke-linejoin:round; stroke-width:4; stroke-opacity:1; fill:none\" points=\"224.098,836.177 242.996,836.177 \"/>\n",
       "<polyline clip-path=\"url(#clip650)\" style=\"stroke:#000000; stroke-linecap:round; stroke-linejoin:round; stroke-width:4; stroke-opacity:1; fill:none\" points=\"224.098,559.708 242.996,559.708 \"/>\n",
       "<polyline clip-path=\"url(#clip650)\" style=\"stroke:#000000; stroke-linecap:round; stroke-linejoin:round; stroke-width:4; stroke-opacity:1; fill:none\" points=\"224.098,283.238 242.996,283.238 \"/>\n",
       "<path clip-path=\"url(#clip650)\" d=\"M51.9875 1389.57 L81.6633 1389.57 L81.6633 1393.5 L51.9875 1393.5 L51.9875 1389.57 Z\" fill=\"#000000\" fill-rule=\"nonzero\" fill-opacity=\"1\" /><path clip-path=\"url(#clip650)\" d=\"M101.756 1374.91 Q98.1447 1374.91 96.316 1378.48 Q94.5104 1382.02 94.5104 1389.15 Q94.5104 1396.26 96.316 1399.82 Q98.1447 1403.36 101.756 1403.36 Q105.39 1403.36 107.196 1399.82 Q109.024 1396.26 109.024 1389.15 Q109.024 1382.02 107.196 1378.48 Q105.39 1374.91 101.756 1374.91 M101.756 1371.21 Q107.566 1371.21 110.621 1375.82 Q113.7 1380.4 113.7 1389.15 Q113.7 1397.88 110.621 1402.48 Q107.566 1407.07 101.756 1407.07 Q95.9456 1407.07 92.8669 1402.48 Q89.8114 1397.88 89.8114 1389.15 Q89.8114 1380.4 92.8669 1375.82 Q95.9456 1371.21 101.756 1371.21 Z\" fill=\"#000000\" fill-rule=\"nonzero\" fill-opacity=\"1\" /><path clip-path=\"url(#clip650)\" d=\"M121.918 1400.52 L126.802 1400.52 L126.802 1406.4 L121.918 1406.4 L121.918 1400.52 Z\" fill=\"#000000\" fill-rule=\"nonzero\" fill-opacity=\"1\" /><path clip-path=\"url(#clip650)\" d=\"M135.806 1371.84 L158.029 1371.84 L158.029 1373.83 L145.482 1406.4 L140.598 1406.4 L152.404 1375.77 L135.806 1375.77 L135.806 1371.84 Z\" fill=\"#000000\" fill-rule=\"nonzero\" fill-opacity=\"1\" /><path clip-path=\"url(#clip650)\" d=\"M167.195 1371.84 L185.552 1371.84 L185.552 1375.77 L171.478 1375.77 L171.478 1384.24 Q172.496 1383.9 173.515 1383.73 Q174.533 1383.55 175.552 1383.55 Q181.339 1383.55 184.718 1386.72 Q188.098 1389.89 188.098 1395.31 Q188.098 1400.89 184.626 1403.99 Q181.153 1407.07 174.834 1407.07 Q172.658 1407.07 170.39 1406.7 Q168.144 1406.33 165.737 1405.59 L165.737 1400.89 Q167.82 1402.02 170.042 1402.58 Q172.265 1403.13 174.741 1403.13 Q178.746 1403.13 181.084 1401.03 Q183.422 1398.92 183.422 1395.31 Q183.422 1391.7 181.084 1389.59 Q178.746 1387.48 174.741 1387.48 Q172.866 1387.48 170.991 1387.9 Q169.14 1388.32 167.195 1389.2 L167.195 1371.84 Z\" fill=\"#000000\" fill-rule=\"nonzero\" fill-opacity=\"1\" /><path clip-path=\"url(#clip650)\" d=\"M50.9921 1113.1 L80.6679 1113.1 L80.6679 1117.03 L50.9921 1117.03 L50.9921 1113.1 Z\" fill=\"#000000\" fill-rule=\"nonzero\" fill-opacity=\"1\" /><path clip-path=\"url(#clip650)\" d=\"M100.76 1098.45 Q97.1493 1098.45 95.3206 1102.01 Q93.515 1105.55 93.515 1112.68 Q93.515 1119.79 95.3206 1123.35 Q97.1493 1126.89 100.76 1126.89 Q104.395 1126.89 106.2 1123.35 Q108.029 1119.79 108.029 1112.68 Q108.029 1105.55 106.2 1102.01 Q104.395 1098.45 100.76 1098.45 M100.76 1094.74 Q106.571 1094.74 109.626 1099.35 Q112.705 1103.93 112.705 1112.68 Q112.705 1121.41 109.626 1126.01 Q106.571 1130.6 100.76 1130.6 Q94.9502 1130.6 91.8715 1126.01 Q88.816 1121.41 88.816 1112.68 Q88.816 1103.93 91.8715 1099.35 Q94.9502 1094.74 100.76 1094.74 Z\" fill=\"#000000\" fill-rule=\"nonzero\" fill-opacity=\"1\" /><path clip-path=\"url(#clip650)\" d=\"M120.922 1124.05 L125.807 1124.05 L125.807 1129.93 L120.922 1129.93 L120.922 1124.05 Z\" fill=\"#000000\" fill-rule=\"nonzero\" fill-opacity=\"1\" /><path clip-path=\"url(#clip650)\" d=\"M136.038 1095.37 L154.394 1095.37 L154.394 1099.3 L140.32 1099.3 L140.32 1107.77 Q141.339 1107.43 142.357 1107.26 Q143.376 1107.08 144.394 1107.08 Q150.181 1107.08 153.561 1110.25 Q156.941 1113.42 156.941 1118.84 Q156.941 1124.42 153.468 1127.52 Q149.996 1130.6 143.677 1130.6 Q141.501 1130.6 139.232 1130.23 Q136.987 1129.86 134.58 1129.12 L134.58 1124.42 Q136.663 1125.55 138.885 1126.11 Q141.107 1126.66 143.584 1126.66 Q147.589 1126.66 149.927 1124.56 Q152.265 1122.45 152.265 1118.84 Q152.265 1115.23 149.927 1113.12 Q147.589 1111.01 143.584 1111.01 Q141.709 1111.01 139.834 1111.43 Q137.982 1111.85 136.038 1112.73 L136.038 1095.37 Z\" fill=\"#000000\" fill-rule=\"nonzero\" fill-opacity=\"1\" /><path clip-path=\"url(#clip650)\" d=\"M176.153 1098.45 Q172.542 1098.45 170.714 1102.01 Q168.908 1105.55 168.908 1112.68 Q168.908 1119.79 170.714 1123.35 Q172.542 1126.89 176.153 1126.89 Q179.788 1126.89 181.593 1123.35 Q183.422 1119.79 183.422 1112.68 Q183.422 1105.55 181.593 1102.01 Q179.788 1098.45 176.153 1098.45 M176.153 1094.74 Q181.964 1094.74 185.019 1099.35 Q188.098 1103.93 188.098 1112.68 Q188.098 1121.41 185.019 1126.01 Q181.964 1130.6 176.153 1130.6 Q170.343 1130.6 167.265 1126.01 Q164.209 1121.41 164.209 1112.68 Q164.209 1103.93 167.265 1099.35 Q170.343 1094.74 176.153 1094.74 Z\" fill=\"#000000\" fill-rule=\"nonzero\" fill-opacity=\"1\" /><path clip-path=\"url(#clip650)\" d=\"M51.9875 836.628 L81.6633 836.628 L81.6633 840.564 L51.9875 840.564 L51.9875 836.628 Z\" fill=\"#000000\" fill-rule=\"nonzero\" fill-opacity=\"1\" /><path clip-path=\"url(#clip650)\" d=\"M101.756 821.976 Q98.1447 821.976 96.316 825.54 Q94.5104 829.082 94.5104 836.212 Q94.5104 843.318 96.316 846.883 Q98.1447 850.425 101.756 850.425 Q105.39 850.425 107.196 846.883 Q109.024 843.318 109.024 836.212 Q109.024 829.082 107.196 825.54 Q105.39 821.976 101.756 821.976 M101.756 818.272 Q107.566 818.272 110.621 822.878 Q113.7 827.462 113.7 836.212 Q113.7 844.939 110.621 849.545 Q107.566 854.128 101.756 854.128 Q95.9456 854.128 92.8669 849.545 Q89.8114 844.939 89.8114 836.212 Q89.8114 827.462 92.8669 822.878 Q95.9456 818.272 101.756 818.272 Z\" fill=\"#000000\" fill-rule=\"nonzero\" fill-opacity=\"1\" /><path clip-path=\"url(#clip650)\" d=\"M121.918 847.577 L126.802 847.577 L126.802 853.457 L121.918 853.457 L121.918 847.577 Z\" fill=\"#000000\" fill-rule=\"nonzero\" fill-opacity=\"1\" /><path clip-path=\"url(#clip650)\" d=\"M141.015 849.522 L157.334 849.522 L157.334 853.457 L135.39 853.457 L135.39 849.522 Q138.052 846.767 142.635 842.138 Q147.242 837.485 148.422 836.142 Q150.668 833.619 151.547 831.883 Q152.45 830.124 152.45 828.434 Q152.45 825.679 150.505 823.943 Q148.584 822.207 145.482 822.207 Q143.283 822.207 140.83 822.971 Q138.399 823.735 135.621 825.286 L135.621 820.564 Q138.445 819.429 140.899 818.851 Q143.353 818.272 145.39 818.272 Q150.76 818.272 153.955 820.957 Q157.149 823.642 157.149 828.133 Q157.149 830.263 156.339 832.184 Q155.552 834.082 153.445 836.675 Q152.867 837.346 149.765 840.564 Q146.663 843.758 141.015 849.522 Z\" fill=\"#000000\" fill-rule=\"nonzero\" fill-opacity=\"1\" /><path clip-path=\"url(#clip650)\" d=\"M167.195 818.897 L185.552 818.897 L185.552 822.832 L171.478 822.832 L171.478 831.304 Q172.496 830.957 173.515 830.795 Q174.533 830.61 175.552 830.61 Q181.339 830.61 184.718 833.781 Q188.098 836.952 188.098 842.369 Q188.098 847.948 184.626 851.05 Q181.153 854.128 174.834 854.128 Q172.658 854.128 170.39 853.758 Q168.144 853.388 165.737 852.647 L165.737 847.948 Q167.82 849.082 170.042 849.638 Q172.265 850.193 174.741 850.193 Q178.746 850.193 181.084 848.087 Q183.422 845.98 183.422 842.369 Q183.422 838.758 181.084 836.652 Q178.746 834.545 174.741 834.545 Q172.866 834.545 170.991 834.962 Q169.14 835.378 167.195 836.258 L167.195 818.897 Z\" fill=\"#000000\" fill-rule=\"nonzero\" fill-opacity=\"1\" /><path clip-path=\"url(#clip650)\" d=\"M100.76 545.506 Q97.1493 545.506 95.3206 549.071 Q93.515 552.613 93.515 559.742 Q93.515 566.849 95.3206 570.414 Q97.1493 573.955 100.76 573.955 Q104.395 573.955 106.2 570.414 Q108.029 566.849 108.029 559.742 Q108.029 552.613 106.2 549.071 Q104.395 545.506 100.76 545.506 M100.76 541.803 Q106.571 541.803 109.626 546.409 Q112.705 550.992 112.705 559.742 Q112.705 568.469 109.626 573.076 Q106.571 577.659 100.76 577.659 Q94.9502 577.659 91.8715 573.076 Q88.816 568.469 88.816 559.742 Q88.816 550.992 91.8715 546.409 Q94.9502 541.803 100.76 541.803 Z\" fill=\"#000000\" fill-rule=\"nonzero\" fill-opacity=\"1\" /><path clip-path=\"url(#clip650)\" d=\"M120.922 571.108 L125.807 571.108 L125.807 576.988 L120.922 576.988 L120.922 571.108 Z\" fill=\"#000000\" fill-rule=\"nonzero\" fill-opacity=\"1\" /><path clip-path=\"url(#clip650)\" d=\"M145.992 545.506 Q142.381 545.506 140.552 549.071 Q138.746 552.613 138.746 559.742 Q138.746 566.849 140.552 570.414 Q142.381 573.955 145.992 573.955 Q149.626 573.955 151.431 570.414 Q153.26 566.849 153.26 559.742 Q153.26 552.613 151.431 549.071 Q149.626 545.506 145.992 545.506 M145.992 541.803 Q151.802 541.803 154.857 546.409 Q157.936 550.992 157.936 559.742 Q157.936 568.469 154.857 573.076 Q151.802 577.659 145.992 577.659 Q140.181 577.659 137.103 573.076 Q134.047 568.469 134.047 559.742 Q134.047 550.992 137.103 546.409 Q140.181 541.803 145.992 541.803 Z\" fill=\"#000000\" fill-rule=\"nonzero\" fill-opacity=\"1\" /><path clip-path=\"url(#clip650)\" d=\"M176.153 545.506 Q172.542 545.506 170.714 549.071 Q168.908 552.613 168.908 559.742 Q168.908 566.849 170.714 570.414 Q172.542 573.955 176.153 573.955 Q179.788 573.955 181.593 570.414 Q183.422 566.849 183.422 559.742 Q183.422 552.613 181.593 549.071 Q179.788 545.506 176.153 545.506 M176.153 541.803 Q181.964 541.803 185.019 546.409 Q188.098 550.992 188.098 559.742 Q188.098 568.469 185.019 573.076 Q181.964 577.659 176.153 577.659 Q170.343 577.659 167.265 573.076 Q164.209 568.469 164.209 559.742 Q164.209 550.992 167.265 546.409 Q170.343 541.803 176.153 541.803 Z\" fill=\"#000000\" fill-rule=\"nonzero\" fill-opacity=\"1\" /><path clip-path=\"url(#clip650)\" d=\"M101.756 269.037 Q98.1447 269.037 96.316 272.602 Q94.5104 276.143 94.5104 283.273 Q94.5104 290.379 96.316 293.944 Q98.1447 297.486 101.756 297.486 Q105.39 297.486 107.196 293.944 Q109.024 290.379 109.024 283.273 Q109.024 276.143 107.196 272.602 Q105.39 269.037 101.756 269.037 M101.756 265.333 Q107.566 265.333 110.621 269.94 Q113.7 274.523 113.7 283.273 Q113.7 292 110.621 296.606 Q107.566 301.189 101.756 301.189 Q95.9456 301.189 92.8669 296.606 Q89.8114 292 89.8114 283.273 Q89.8114 274.523 92.8669 269.94 Q95.9456 265.333 101.756 265.333 Z\" fill=\"#000000\" fill-rule=\"nonzero\" fill-opacity=\"1\" /><path clip-path=\"url(#clip650)\" d=\"M121.918 294.639 L126.802 294.639 L126.802 300.518 L121.918 300.518 L121.918 294.639 Z\" fill=\"#000000\" fill-rule=\"nonzero\" fill-opacity=\"1\" /><path clip-path=\"url(#clip650)\" d=\"M141.015 296.583 L157.334 296.583 L157.334 300.518 L135.39 300.518 L135.39 296.583 Q138.052 293.828 142.635 289.199 Q147.242 284.546 148.422 283.203 Q150.668 280.68 151.547 278.944 Q152.45 277.185 152.45 275.495 Q152.45 272.741 150.505 271.004 Q148.584 269.268 145.482 269.268 Q143.283 269.268 140.83 270.032 Q138.399 270.796 135.621 272.347 L135.621 267.625 Q138.445 266.491 140.899 265.912 Q143.353 265.333 145.39 265.333 Q150.76 265.333 153.955 268.018 Q157.149 270.704 157.149 275.194 Q157.149 277.324 156.339 279.245 Q155.552 281.143 153.445 283.736 Q152.867 284.407 149.765 287.625 Q146.663 290.819 141.015 296.583 Z\" fill=\"#000000\" fill-rule=\"nonzero\" fill-opacity=\"1\" /><path clip-path=\"url(#clip650)\" d=\"M167.195 265.958 L185.552 265.958 L185.552 269.893 L171.478 269.893 L171.478 278.366 Q172.496 278.018 173.515 277.856 Q174.533 277.671 175.552 277.671 Q181.339 277.671 184.718 280.842 Q188.098 284.014 188.098 289.43 Q188.098 295.009 184.626 298.111 Q181.153 301.189 174.834 301.189 Q172.658 301.189 170.39 300.819 Q168.144 300.449 165.737 299.708 L165.737 295.009 Q167.82 296.143 170.042 296.699 Q172.265 297.254 174.741 297.254 Q178.746 297.254 181.084 295.148 Q183.422 293.041 183.422 289.43 Q183.422 285.819 181.084 283.713 Q178.746 281.606 174.741 281.606 Q172.866 281.606 170.991 282.023 Q169.14 282.44 167.195 283.319 L167.195 265.958 Z\" fill=\"#000000\" fill-rule=\"nonzero\" fill-opacity=\"1\" /><circle clip-path=\"url(#clip652)\" cx=\"2292.51\" cy=\"1445.72\" r=\"14.4\" fill=\"#009af9\" fill-rule=\"evenodd\" fill-opacity=\"1\" stroke=\"#000000\" stroke-opacity=\"1\" stroke-width=\"3.2\"/>\n",
       "<circle clip-path=\"url(#clip652)\" cx=\"383.155\" cy=\"233.095\" r=\"14.4\" fill=\"#009af9\" fill-rule=\"evenodd\" fill-opacity=\"1\" stroke=\"#000000\" stroke-opacity=\"1\" stroke-width=\"3.2\"/>\n",
       "<circle clip-path=\"url(#clip652)\" cx=\"1399.99\" cy=\"842.276\" r=\"14.4\" fill=\"#009af9\" fill-rule=\"evenodd\" fill-opacity=\"1\" stroke=\"#000000\" stroke-opacity=\"1\" stroke-width=\"3.2\"/>\n",
       "<circle clip-path=\"url(#clip652)\" cx=\"284.343\" cy=\"87.9763\" r=\"14.4\" fill=\"#009af9\" fill-rule=\"evenodd\" fill-opacity=\"1\" stroke=\"#000000\" stroke-opacity=\"1\" stroke-width=\"3.2\"/>\n",
       "<circle clip-path=\"url(#clip652)\" cx=\"730.602\" cy=\"389.696\" r=\"14.4\" fill=\"#009af9\" fill-rule=\"evenodd\" fill-opacity=\"1\" stroke=\"#000000\" stroke-opacity=\"1\" stroke-width=\"3.2\"/>\n",
       "</svg>\n"
      ]
     },
     "metadata": {},
     "output_type": "display_data"
    }
   ],
   "source": [
    "## Letra B\n",
    "x = U_approx[:, 1]\n",
    "y = U_approx[:, 2]\n",
    "\n",
    "\n",
    "#Plotar os filmes\n",
    "scatter(x, y, legend=false)"
   ]
  },
  {
   "cell_type": "code",
   "execution_count": 13,
   "metadata": {},
   "outputs": [
    {
     "name": "stdout",
     "output_type": "stream",
     "text": [
      "Os valores de i, j e a distância euclidiana são: (1, 3, 0.5932958789676531)\n",
      "Os valores de i, j e a distância euclidiana são: (1, 5, 1.038267788193393)\n",
      "Os valores de i, j e a distância euclidiana são: (1, 2, 1.186591757935306)\n",
      "Os valores de i, j e a distância euclidiana são: (1, 4, 1.3349157276772194)\n"
     ]
    }
   ],
   "source": [
    "##  Letra C\n",
    "for tupla in sort_tuples_sorted\n",
    "    println(\"Os valores de i, j e a distância euclidiana são: \", tupla)\n",
    "end"
   ]
  },
  {
   "attachments": {},
   "cell_type": "markdown",
   "metadata": {},
   "source": [
    "## Questão 12"
   ]
  },
  {
   "cell_type": "code",
   "execution_count": 14,
   "metadata": {},
   "outputs": [
    {
     "data": {
      "image/png": "[encoded data removed]",
      "text/html": [
       "<img src=\"data:image/png;base64,iVBORw0KGgoAAAANSUhEUgAAAGQAAABkCAAAAABVicqIAAAABGdBTUEAALGPC/xhBQAAAAFzUkdCAK7OHOkAAAAgY0hSTQAAeiYAAICEAAD6AAAAgOgAAHUwAADqYAAAOpgAABdwnLpRPAAAAL9JREFUaAW9wbENw0AMwEA+wDI7G9nZvTKAXBgpeOewHbZhO2zDJgEJSEACEpCABCQgAQlIQAISkIAEJCABCUhAAhKQgAQkIAEJSEACEpCABCQgAQlIQAISkIAE5MGwfdmGdyQgAQlIQAISkIAEJCABCUhAAhKQgAQkIAEJ+GG72S7eOWwSkIAEJCABCUhAAhKQgAQkIAEJSEACEpCABLzZDv8bNglIQAISkIAEJCABCUhAAhKQgAQkIAEJSEACP1v4CoMiMBA/AAAAAElFTkSuQmCC\">"
      ],
      "text/plain": [
       "5×5 Array{Gray{N0f8},2} with eltype Gray{N0f8}:\n",
       " Gray{N0f8}(1.0)    Gray{N0f8}(0.0)  …  Gray{N0f8}(0.0)  Gray{N0f8}(1.0)\n",
       " Gray{N0f8}(1.0)    Gray{N0f8}(0.0)     Gray{N0f8}(0.0)  Gray{N0f8}(1.0)\n",
       " Gray{N0f8}(1.0)    Gray{N0f8}(1.0)     Gray{N0f8}(1.0)  Gray{N0f8}(1.0)\n",
       " Gray{N0f8}(0.043)  Gray{N0f8}(1.0)     Gray{N0f8}(1.0)  Gray{N0f8}(0.0)\n",
       " Gray{N0f8}(1.0)    Gray{N0f8}(0.0)     Gray{N0f8}(0.0)  Gray{N0f8}(1.0)"
      ]
     },
     "metadata": {},
     "output_type": "display_data"
    },
    {
     "name": "stdout",
     "output_type": "stream",
     "text": [
      "(5, 5)"
     ]
    }
   ],
   "source": [
    "img = load(\"carinha.png\"); ## Letra A\n",
    "carinha_redimensionada = imresize(img, (5, 5))\n",
    "carinha = channelview(Gray.(carinha_redimensionada[:,:]));\n",
    "display(Gray.(carinha))\n",
    "print(size(carinha))"
   ]
  },
  {
   "cell_type": "code",
   "execution_count": 15,
   "metadata": {},
   "outputs": [
    {
     "name": "stdout",
     "output_type": "stream",
     "text": [
      "Erro com 1 componente(s): 2.0520043\n",
      "Taxa de proximidade em relação ao original -> 47.45524%\n",
      "\n",
      "Erro com 2 componente(s): 0.97952956\n",
      "Taxa de proximidade em relação ao original -> 74.917625%\n",
      "\n",
      "Erro com 3 componente(s): 0.014700866\n",
      "Taxa de proximidade em relação ao original -> 99.62356%\n",
      "\n",
      "Erro com 4 componente(s): 9.0101474e-7\n",
      "Taxa de proximidade em relação ao original -> 99.99998%\n",
      "\n",
      "Erro com 5 componente(s): 9.013054e-7\n",
      "Taxa de proximidade em relação ao original -> 99.99998%\n",
      "\n"
     ]
    }
   ],
   "source": [
    "for i in 1:5\n",
    "    U, Σ, V  =svd(carinha) \n",
    "    U_approx = U[:, 1:i]\n",
    "    Σ_approx = Diagonal(Σ[1:i])\n",
    "    V_approx = V[:, 1:i]'\n",
    "    imagemComprimida = U_approx * Σ_approx * V_approx\n",
    "    println(\"Erro com $i componente(s): $(norm(carinha - imagemComprimida))\\nTaxa de proximidade em relação ao original -> $(100 - ((norm(carinha  - imagemComprimida)/norm(carinha)) * 100))%\\n\")\n",
    "end"
   ]
  },
  {
   "attachments": {},
   "cell_type": "markdown",
   "metadata": {},
   "source": [
    "Podemos observar que conforme o número de componentes aumenta, significa que temos um aumento de \"informação\" disponivel, com isso diminuindo nosso erro e nos aproximando da imagem original"
   ]
  },
  {
   "attachments": {},
   "cell_type": "markdown",
   "metadata": {},
   "source": [
    "## Questão 13"
   ]
  },
  {
   "attachments": {},
   "cell_type": "markdown",
   "metadata": {},
   "source": [
    "### Letra A"
   ]
  },
  {
   "cell_type": "code",
   "execution_count": 114,
   "metadata": {},
   "outputs": [
    {
     "data": {
      "image/png": "[encoded data removed]",
      "text/html": [
       "<img src=\"data:image/png;base64,iVBORw0KGgoAAAANSUhEUgAAAQAAAAEACAAAAAB5Gfe6AAAABGdBTUEAALGPC/xhBQAAAAFzUkdCAK7OHOkAAAAgY0hSTQAAeiYAAICEAAD6AAAAgOgAAHUwAADqYAAAOpgAABdwnLpRPAAAAcJJREFUeAHlwbENgzAAAMEvfjGmsjuLzkyV0ZKaBSDS3/kFBs+7uNs8bwLCoGozkUHYnhLnIG1LnMRJnMRJnMRJnMRJnMRJnMRJnMRJnMRJnMRJnMRJnMRJnMRJnMRJnMRJnMRJnMRJnMRJnMRJnMRJnMRJnMRJnMRJnMRJnMRJnMRJnMRJnMRJnMRJnMRJnMRJnMRJnMRJnMRJnMRJnMRJnMRJnMRJnMRJnMRJnMRJnMRJnMRJnMRJnMRJnMRJnMRJnMRJnMRJnMRJnMRJnMRJnMRJnMRJnMRJnMRJnMRJnMRJnBf/YfIOiZM4iZM4iZM4iZM4iZM4iZM4iZM4iXPxjpO7D++QOImTOImTOImTOImTOImTOImTOImTOImTOImTOImTOImTOImTOImTOImTOImTOImTOImTOImTOImTOImTOImTOImTOImTOImTOImTOImTOImTOImTOImTOImTOImTOImTOImTOImTOImTOImTOImTOImTOImTOImTOImTOImTOImTOImTOImTOImTOImTOImTOImTOImTOImTOImTOImTOImTOImTOImTOImTOM9F2SFxci66DoSTRdMB/AAgChFwhQSMuQAAAABJRU5ErkJg\">"
      ],
      "text/plain": [
       "256×256 Array{Gray{N0f8},2} with eltype Gray{N0f8}:\n",
       " Gray{N0f8}(1.0)    Gray{N0f8}(1.0)    …  Gray{N0f8}(1.0)\n",
       " Gray{N0f8}(1.0)    Gray{N0f8}(1.0)       Gray{N0f8}(1.0)\n",
       " Gray{N0f8}(1.0)    Gray{N0f8}(0.463)     Gray{N0f8}(1.0)\n",
       " Gray{N0f8}(1.0)    Gray{N0f8}(0.463)     Gray{N0f8}(1.0)\n",
       " Gray{N0f8}(0.463)  Gray{N0f8}(0.463)     Gray{N0f8}(0.529)\n",
       " Gray{N0f8}(0.463)  Gray{N0f8}(0.463)  …  Gray{N0f8}(0.529)\n",
       " Gray{N0f8}(0.463)  Gray{N0f8}(0.463)     Gray{N0f8}(0.529)\n",
       " Gray{N0f8}(0.463)  Gray{N0f8}(0.463)     Gray{N0f8}(0.529)\n",
       " Gray{N0f8}(0.463)  Gray{N0f8}(0.463)     Gray{N0f8}(0.529)\n",
       " Gray{N0f8}(0.463)  Gray{N0f8}(0.463)     Gray{N0f8}(0.529)\n",
       " ⋮                                     ⋱  ⋮\n",
       " Gray{N0f8}(0.494)  Gray{N0f8}(0.494)     Gray{N0f8}(0.745)\n",
       " Gray{N0f8}(0.494)  Gray{N0f8}(0.494)     Gray{N0f8}(0.745)\n",
       " Gray{N0f8}(0.494)  Gray{N0f8}(0.494)     Gray{N0f8}(0.745)\n",
       " Gray{N0f8}(0.494)  Gray{N0f8}(0.494)  …  Gray{N0f8}(0.745)\n",
       " Gray{N0f8}(0.494)  Gray{N0f8}(0.494)     Gray{N0f8}(0.745)\n",
       " Gray{N0f8}(1.0)    Gray{N0f8}(0.494)     Gray{N0f8}(1.0)\n",
       " Gray{N0f8}(1.0)    Gray{N0f8}(0.494)     Gray{N0f8}(1.0)\n",
       " Gray{N0f8}(1.0)    Gray{N0f8}(1.0)       Gray{N0f8}(1.0)\n",
       " Gray{N0f8}(1.0)    Gray{N0f8}(1.0)    …  Gray{N0f8}(1.0)"
      ]
     },
     "metadata": {},
     "output_type": "display_data"
    },
    {
     "name": "stdout",
     "output_type": "stream",
     "text": [
      "(256, 256)"
     ]
    }
   ],
   "source": [
    "img = load(\"microsoft.png\"); ## Letra A\n",
    "display(Gray.(img))\n",
    "microsoft = channelview(Gray.(img[:,:]));\n",
    "print(size(microsoft))"
   ]
  },
  {
   "cell_type": "code",
   "execution_count": 115,
   "metadata": {},
   "outputs": [
    {
     "data": {
      "image/png": "[encoded data removed]",
      "text/html": [
       "<img src=\"data:image/png;base64,iVBORw0KGgoAAAANSUhEUgAAAQAAAAEACAAAAAB5Gfe6AAAABGdBTUEAALGPC/xhBQAAAAFzUkdCAK7OHOkAAAAgY0hSTQAAeiYAAICEAAD6AAAAgOgAAHUwAADqYAAAOpgAABdwnLpRPAAAAcJJREFUeAHlwbENgzAAAMEvfjGmsjuLzkyV0ZKaBSDS3/kFBs+7uNs8bwLCoGozkUHYnhLnIG1LnMRJnMRJnMRJnMRJnMRJnMRJnMRJnMRJnMRJnMRJnMRJnMRJnMRJnMRJnMRJnMRJnMRJnMRJnMRJnMRJnMRJnMRJnMRJnMRJnMRJnMRJnMRJnMRJnMRJnMRJnMRJnMRJnMRJnMRJnMRJnMRJnMRJnMRJnMRJnMRJnMRJnMRJnMRJnMRJnMRJnMRJnMRJnMRJnMRJnMRJnMRJnMRJnMRJnMRJnMRJnMRJnMRJnBf/YfIOiZM4iZM4iZM4iZM4iZM4iZM4iZM4iXPxjpO7D++QOImTOImTOImTOImTOImTOImTOImTOImTOImTOImTOImTOImTOImTOImTOImTOImTOImTOImTOImTOImTOImTOImTOImTOImTOImTOImTOImTOImTOImTOImTOImTOImTOImTOImTOImTOImTOImTOImTOImTOImTOImTOImTOImTOImTOImTOImTOImTOImTOImTOImTOImTOImTOImTOImTOImTOImTOImTOM9F2SFxci66DoSTRdMB/AAgChFwhQSMuQAAAABJRU5ErkJg\">"
      ],
      "text/plain": [
       "256×256 Array{Gray{N0f8},2} with eltype Gray{N0f8}:\n",
       " Gray{N0f8}(1.0)    Gray{N0f8}(1.0)    …  Gray{N0f8}(1.0)\n",
       " Gray{N0f8}(1.0)    Gray{N0f8}(1.0)       Gray{N0f8}(1.0)\n",
       " Gray{N0f8}(1.0)    Gray{N0f8}(0.463)     Gray{N0f8}(1.0)\n",
       " Gray{N0f8}(1.0)    Gray{N0f8}(0.463)     Gray{N0f8}(1.0)\n",
       " Gray{N0f8}(0.463)  Gray{N0f8}(0.463)     Gray{N0f8}(0.529)\n",
       " Gray{N0f8}(0.463)  Gray{N0f8}(0.463)  …  Gray{N0f8}(0.529)\n",
       " Gray{N0f8}(0.463)  Gray{N0f8}(0.463)     Gray{N0f8}(0.529)\n",
       " Gray{N0f8}(0.463)  Gray{N0f8}(0.463)     Gray{N0f8}(0.529)\n",
       " Gray{N0f8}(0.463)  Gray{N0f8}(0.463)     Gray{N0f8}(0.529)\n",
       " Gray{N0f8}(0.463)  Gray{N0f8}(0.463)     Gray{N0f8}(0.529)\n",
       " ⋮                                     ⋱  ⋮\n",
       " Gray{N0f8}(0.494)  Gray{N0f8}(0.494)     Gray{N0f8}(0.745)\n",
       " Gray{N0f8}(0.494)  Gray{N0f8}(0.494)     Gray{N0f8}(0.745)\n",
       " Gray{N0f8}(0.494)  Gray{N0f8}(0.494)     Gray{N0f8}(0.745)\n",
       " Gray{N0f8}(0.494)  Gray{N0f8}(0.494)  …  Gray{N0f8}(0.745)\n",
       " Gray{N0f8}(0.494)  Gray{N0f8}(0.494)     Gray{N0f8}(0.745)\n",
       " Gray{N0f8}(1.0)    Gray{N0f8}(0.494)     Gray{N0f8}(1.0)\n",
       " Gray{N0f8}(1.0)    Gray{N0f8}(0.494)     Gray{N0f8}(1.0)\n",
       " Gray{N0f8}(1.0)    Gray{N0f8}(1.0)       Gray{N0f8}(1.0)\n",
       " Gray{N0f8}(1.0)    Gray{N0f8}(1.0)    …  Gray{N0f8}(1.0)"
      ]
     },
     "metadata": {},
     "output_type": "display_data"
    },
    {
     "name": "stdout",
     "output_type": "stream",
     "text": [
      "99.22567"
     ]
    }
   ],
   "source": [
    "U, Σ, V  =svd(microsoft) ## posto 3 cerca de 98, acima chega a 99 )\n",
    "U_approx = U[:, 1:3]\n",
    "Σ_approx = Diagonal(Σ[1:3])\n",
    "V_approx = V[:, 1:3]'\n",
    "imagemComprimida = U_approx * Σ_approx * V_approx\n",
    "display(Gray.(microsoft))\n",
    "print(100 - ((norm(microsoft  - imagemComprimida)/norm(microsoft)) * 100))"
   ]
  },
  {
   "cell_type": "code",
   "execution_count": 119,
   "metadata": {},
   "outputs": [
    {
     "name": "stdout",
     "output_type": "stream",
     "text": [
      "99.22567"
     ]
    }
   ],
   "source": [
    "U, Σ, V  =svd(microsoft) ## posto 3 cerca de 98, acima chega a 99 )\n",
    "U_approx = U[:, 1:4]\n",
    "Σ_approx = Diagonal(Σ[1:4])\n",
    "V_approx = V[:, 1:4]'\n",
    "imagemComprimida = U_approx * Σ_approx * V_approx\n",
    "print(100 - ((norm(microsoft  - imagemComprimida)/norm(microsoft)) * 100))"
   ]
  },
  {
   "attachments": {},
   "cell_type": "markdown",
   "metadata": {},
   "source": [
    "### Letra B"
   ]
  },
  {
   "cell_type": "code",
   "execution_count": 116,
   "metadata": {},
   "outputs": [
    {
     "data": {
      "image/png": "[encoded data removed]",
      "text/html": [
       "<img src=\"data:image/png;base64,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\">"
      ],
      "text/plain": [
       "200×200 Array{Gray{N0f8},2} with eltype Gray{N0f8}:\n",
       " Gray{N0f8}(1.0)  Gray{N0f8}(1.0)  …  Gray{N0f8}(1.0)  Gray{N0f8}(1.0)\n",
       " Gray{N0f8}(1.0)  Gray{N0f8}(1.0)     Gray{N0f8}(1.0)  Gray{N0f8}(1.0)\n",
       " Gray{N0f8}(1.0)  Gray{N0f8}(1.0)     Gray{N0f8}(1.0)  Gray{N0f8}(1.0)\n",
       " Gray{N0f8}(1.0)  Gray{N0f8}(1.0)     Gray{N0f8}(1.0)  Gray{N0f8}(1.0)\n",
       " Gray{N0f8}(1.0)  Gray{N0f8}(1.0)     Gray{N0f8}(1.0)  Gray{N0f8}(1.0)\n",
       " Gray{N0f8}(1.0)  Gray{N0f8}(1.0)  …  Gray{N0f8}(1.0)  Gray{N0f8}(1.0)\n",
       " Gray{N0f8}(1.0)  Gray{N0f8}(1.0)     Gray{N0f8}(1.0)  Gray{N0f8}(1.0)\n",
       " Gray{N0f8}(1.0)  Gray{N0f8}(1.0)     Gray{N0f8}(1.0)  Gray{N0f8}(1.0)\n",
       " Gray{N0f8}(1.0)  Gray{N0f8}(1.0)     Gray{N0f8}(1.0)  Gray{N0f8}(1.0)\n",
       " Gray{N0f8}(1.0)  Gray{N0f8}(1.0)     Gray{N0f8}(1.0)  Gray{N0f8}(1.0)\n",
       " ⋮                                 ⋱                   \n",
       " Gray{N0f8}(1.0)  Gray{N0f8}(1.0)     Gray{N0f8}(1.0)  Gray{N0f8}(1.0)\n",
       " Gray{N0f8}(1.0)  Gray{N0f8}(1.0)     Gray{N0f8}(1.0)  Gray{N0f8}(1.0)\n",
       " Gray{N0f8}(1.0)  Gray{N0f8}(1.0)     Gray{N0f8}(1.0)  Gray{N0f8}(1.0)\n",
       " Gray{N0f8}(1.0)  Gray{N0f8}(1.0)     Gray{N0f8}(1.0)  Gray{N0f8}(1.0)\n",
       " Gray{N0f8}(1.0)  Gray{N0f8}(1.0)  …  Gray{N0f8}(1.0)  Gray{N0f8}(1.0)\n",
       " Gray{N0f8}(1.0)  Gray{N0f8}(1.0)     Gray{N0f8}(1.0)  Gray{N0f8}(1.0)\n",
       " Gray{N0f8}(1.0)  Gray{N0f8}(1.0)     Gray{N0f8}(1.0)  Gray{N0f8}(1.0)\n",
       " Gray{N0f8}(1.0)  Gray{N0f8}(1.0)     Gray{N0f8}(1.0)  Gray{N0f8}(1.0)\n",
       " Gray{N0f8}(1.0)  Gray{N0f8}(1.0)     Gray{N0f8}(1.0)  Gray{N0f8}(1.0)"
      ]
     },
     "metadata": {},
     "output_type": "display_data"
    },
    {
     "name": "stdout",
     "output_type": "stream",
     "text": [
      "(200, 200)"
     ]
    }
   ],
   "source": [
    "img = load(\"instagram.png\"); ## Letra B\n",
    "display(Gray.(img))\n",
    "instagram = channelview(Gray.(img[:,:]));\n",
    "print(size(instagram))\n"
   ]
  },
  {
   "cell_type": "code",
   "execution_count": 117,
   "metadata": {},
   "outputs": [
    {
     "data": {
      "image/png": "[encoded data removed]",
      "text/html": [
       "<img src=\"data:image/png;base64,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\">"
      ],
      "text/plain": [
       "200×200 Array{Gray{Float32},2} with eltype Gray{Float32}:\n",
       " Gray{Float32}(1.0)       Gray{Float32}(1.0)       …  Gray{Float32}(1.0)\n",
       " Gray{Float32}(0.999999)  Gray{Float32}(0.999998)     Gray{Float32}(0.999999)\n",
       " Gray{Float32}(1.0)       Gray{Float32}(0.999998)     Gray{Float32}(1.0)\n",
       " Gray{Float32}(1.0)       Gray{Float32}(0.999998)     Gray{Float32}(1.0)\n",
       " Gray{Float32}(1.0)       Gray{Float32}(0.999999)     Gray{Float32}(1.0)\n",
       " Gray{Float32}(0.999999)  Gray{Float32}(0.999998)  …  Gray{Float32}(0.999999)\n",
       " Gray{Float32}(0.999999)  Gray{Float32}(0.999998)     Gray{Float32}(0.999999)\n",
       " Gray{Float32}(0.999999)  Gray{Float32}(0.999998)     Gray{Float32}(0.999999)\n",
       " Gray{Float32}(1.0)       Gray{Float32}(0.999999)     Gray{Float32}(0.999999)\n",
       " Gray{Float32}(1.0)       Gray{Float32}(0.999998)     Gray{Float32}(0.999999)\n",
       " ⋮                                                 ⋱  \n",
       " Gray{Float32}(1.0)       Gray{Float32}(0.999999)     Gray{Float32}(0.999999)\n",
       " Gray{Float32}(1.0)       Gray{Float32}(0.999999)     Gray{Float32}(0.999999)\n",
       " Gray{Float32}(1.0)       Gray{Float32}(0.999999)     Gray{Float32}(0.999999)\n",
       " Gray{Float32}(1.0)       Gray{Float32}(0.999999)     Gray{Float32}(0.999999)\n",
       " Gray{Float32}(1.0)       Gray{Float32}(0.999999)  …  Gray{Float32}(0.999999)\n",
       " Gray{Float32}(1.0)       Gray{Float32}(0.999999)     Gray{Float32}(0.999999)\n",
       " Gray{Float32}(1.0)       Gray{Float32}(0.999998)     Gray{Float32}(0.999999)\n",
       " Gray{Float32}(1.0)       Gray{Float32}(0.999999)     Gray{Float32}(0.999999)\n",
       " Gray{Float32}(1.0)       Gray{Float32}(0.999999)     Gray{Float32}(0.999999)"
      ]
     },
     "metadata": {},
     "output_type": "display_data"
    },
    {
     "name": "stdout",
     "output_type": "stream",
     "text": [
      "98.46823"
     ]
    }
   ],
   "source": [
    "U, Σ, V  =svd(instagram) ## posto 40 cerca de 98, 50 chega a 99\n",
    "U_approx = U[:, 1:40]\n",
    "Σ_approx = Diagonal(Σ[1:40])\n",
    "V_approx = V[:, 1:40]'\n",
    "imagemComprimida = U_approx * Σ_approx * V_approx\n",
    "display(Gray.(imagemComprimida))\n",
    "print(100 - ((norm(instagram  - imagemComprimida)/norm(instagram)) * 100))\n",
    "\n"
   ]
  },
  {
   "cell_type": "code",
   "execution_count": 118,
   "metadata": {},
   "outputs": [
    {
     "name": "stdout",
     "output_type": "stream",
     "text": [
      "99.05251"
     ]
    }
   ],
   "source": [
    "U, Σ, V  =svd(instagram) ## posto 40 cerca de 98, 50 chega a 99\n",
    "U_approx = U[:, 1:50]\n",
    "Σ_approx = Diagonal(Σ[1:50])\n",
    "V_approx = V[:, 1:50]'\n",
    "imagemComprimida = U_approx * Σ_approx * V_approx\n",
    "print(100 - ((norm(instagram  - (U_approx * Σ_approx * V_approx))/norm(instagram)) * 100))"
   ]
  }
 ],
 "metadata": {
  "kernelspec": {
   "display_name": "Julia 1.8.0",
   "language": "julia",
   "name": "julia-1.8"
  },
  "language_info": {
   "file_extension": ".jl",
   "mimetype": "application/julia",
   "name": "julia",
   "version": "1.8.0"
  },
  "orig_nbformat": 4
 },
 "nbformat": 4,
 "nbformat_minor": 2
}
