{
 "cells": [
  {
   "cell_type": "code",
   "execution_count": 9,
   "metadata": {},
   "outputs": [],
   "source": [
    "import numpy as np"
   ]
  },
  {
   "cell_type": "code",
   "execution_count": 10,
   "metadata": {},
   "outputs": [],
   "source": [
    "## Questão 1"
   ]
  },
  {
   "cell_type": "code",
   "execution_count": 35,
   "metadata": {},
   "outputs": [
    {
     "name": "stdout",
     "output_type": "stream",
     "text": [
      "55.27864045000277\n"
     ]
    }
   ],
   "source": [
    "## Letra A e Letra B\n",
    "pop = np.array([100,100])\n",
    "matriz_A = np.array([[0.7,0.2],[0.8,0.3]])\n",
    "\n",
    "for i in range(10):\n",
    "    pop = matriz_A @ pop\n",
    "print((pop[1]/sum(pop)) * 100)"
   ]
  },
  {
   "cell_type": "code",
   "execution_count": 34,
   "metadata": {},
   "outputs": [
    {
     "name": "stdout",
     "output_type": "stream",
     "text": [
      "Republicanos: 54.166666666666664\n",
      "Monarquistas: 45.833333333333336\n"
     ]
    }
   ],
   "source": [
    "# Letra C\n",
    "pop = np.array([100,100])\n",
    "matriz_A = np.array([[0.7,0.2],[0.8,0.3]])\n",
    "\n",
    "for i in range(10000000):\n",
    "    pop = matriz_A @ pop\n",
    "print(f\"Republicanos: {(pop[1]/sum(pop)) * 100}\\nMonarquistas: {100 - ((pop[1]/sum(pop)) * 100)}\")"
   ]
  }
 ],
 "metadata": {
  "kernelspec": {
   "display_name": "Python 3",
   "language": "python",
   "name": "python3"
  },
  "language_info": {
   "codemirror_mode": {
    "name": "ipython",
    "version": 3
   },
   "file_extension": ".py",
   "mimetype": "text/x-python",
   "name": "python",
   "nbconvert_exporter": "python",
   "pygments_lexer": "ipython3",
   "version": "3.11.4"
  },
  "orig_nbformat": 4
 },
 "nbformat": 4,
 "nbformat_minor": 2
}
