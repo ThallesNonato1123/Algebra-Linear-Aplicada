{
 "cells": [
  {
   "cell_type": "code",
   "execution_count": 65,
   "metadata": {},
   "outputs": [],
   "source": [
    "import pandas as pd\n",
    "from sklearn.preprocessing import StandardScaler\n",
    "from sklearn.cluster import KMeans\n",
    "import numpy as np\n",
    "import matplotlib.pyplot as plt\n",
    "import seaborn as sns\n",
    "import colorcet as cc"
   ]
  },
  {
   "cell_type": "code",
   "execution_count": 3,
   "metadata": {},
   "outputs": [],
   "source": [
    "df = pd.read_csv('data_by_genres.csv')"
   ]
  },
  {
   "cell_type": "code",
   "execution_count": 4,
   "metadata": {},
   "outputs": [
    {
     "name": "stdout",
     "output_type": "stream",
     "text": [
      "<class 'pandas.core.frame.DataFrame'>\n",
      "RangeIndex: 2973 entries, 0 to 2972\n",
      "Data columns (total 14 columns):\n",
      " #   Column            Non-Null Count  Dtype  \n",
      "---  ------            --------------  -----  \n",
      " 0   mode              2973 non-null   int64  \n",
      " 1   genres            2973 non-null   object \n",
      " 2   acousticness      2973 non-null   float64\n",
      " 3   danceability      2973 non-null   float64\n",
      " 4   duration_ms       2973 non-null   float64\n",
      " 5   energy            2973 non-null   float64\n",
      " 6   instrumentalness  2973 non-null   float64\n",
      " 7   liveness          2973 non-null   float64\n",
      " 8   loudness          2973 non-null   float64\n",
      " 9   speechiness       2973 non-null   float64\n",
      " 10  tempo             2973 non-null   float64\n",
      " 11  valence           2973 non-null   float64\n",
      " 12  popularity        2973 non-null   float64\n",
      " 13  key               2973 non-null   int64  \n",
      "dtypes: float64(11), int64(2), object(1)\n",
      "memory usage: 325.3+ KB\n"
     ]
    }
   ],
   "source": [
    "df.info()"
   ]
  },
  {
   "cell_type": "code",
   "execution_count": 5,
   "metadata": {},
   "outputs": [
    {
     "data": {
      "text/html": [
       "<div>\n",
       "<style scoped>\n",
       "    .dataframe tbody tr th:only-of-type {\n",
       "        vertical-align: middle;\n",
       "    }\n",
       "\n",
       "    .dataframe tbody tr th {\n",
       "        vertical-align: top;\n",
       "    }\n",
       "\n",
       "    .dataframe thead th {\n",
       "        text-align: right;\n",
       "    }\n",
       "</style>\n",
       "<table border=\"1\" class=\"dataframe\">\n",
       "  <thead>\n",
       "    <tr style=\"text-align: right;\">\n",
       "      <th></th>\n",
       "      <th>mode</th>\n",
       "      <th>acousticness</th>\n",
       "      <th>danceability</th>\n",
       "      <th>duration_ms</th>\n",
       "      <th>energy</th>\n",
       "      <th>instrumentalness</th>\n",
       "      <th>liveness</th>\n",
       "      <th>loudness</th>\n",
       "      <th>speechiness</th>\n",
       "      <th>tempo</th>\n",
       "      <th>valence</th>\n",
       "      <th>popularity</th>\n",
       "      <th>key</th>\n",
       "    </tr>\n",
       "  </thead>\n",
       "  <tbody>\n",
       "    <tr>\n",
       "      <th>count</th>\n",
       "      <td>2973.000000</td>\n",
       "      <td>2973.000000</td>\n",
       "      <td>2973.000000</td>\n",
       "      <td>2.973000e+03</td>\n",
       "      <td>2973.000000</td>\n",
       "      <td>2973.000000</td>\n",
       "      <td>2973.000000</td>\n",
       "      <td>2973.000000</td>\n",
       "      <td>2973.000000</td>\n",
       "      <td>2973.000000</td>\n",
       "      <td>2973.000000</td>\n",
       "      <td>2973.000000</td>\n",
       "      <td>2973.000000</td>\n",
       "    </tr>\n",
       "    <tr>\n",
       "      <th>mean</th>\n",
       "      <td>0.833165</td>\n",
       "      <td>0.401241</td>\n",
       "      <td>0.537187</td>\n",
       "      <td>2.517209e+05</td>\n",
       "      <td>0.561143</td>\n",
       "      <td>0.211366</td>\n",
       "      <td>0.192800</td>\n",
       "      <td>-10.509848</td>\n",
       "      <td>0.083588</td>\n",
       "      <td>119.018723</td>\n",
       "      <td>0.492748</td>\n",
       "      <td>39.919185</td>\n",
       "      <td>5.938782</td>\n",
       "    </tr>\n",
       "    <tr>\n",
       "      <th>std</th>\n",
       "      <td>0.372891</td>\n",
       "      <td>0.319760</td>\n",
       "      <td>0.150668</td>\n",
       "      <td>9.465686e+04</td>\n",
       "      <td>0.234486</td>\n",
       "      <td>0.267329</td>\n",
       "      <td>0.092356</td>\n",
       "      <td>5.369202</td>\n",
       "      <td>0.080483</td>\n",
       "      <td>17.469188</td>\n",
       "      <td>0.201820</td>\n",
       "      <td>16.748723</td>\n",
       "      <td>3.368110</td>\n",
       "    </tr>\n",
       "    <tr>\n",
       "      <th>min</th>\n",
       "      <td>0.000000</td>\n",
       "      <td>0.000003</td>\n",
       "      <td>0.056900</td>\n",
       "      <td>3.094600e+04</td>\n",
       "      <td>0.001002</td>\n",
       "      <td>0.000000</td>\n",
       "      <td>0.022200</td>\n",
       "      <td>-41.825000</td>\n",
       "      <td>0.023800</td>\n",
       "      <td>47.135722</td>\n",
       "      <td>0.003353</td>\n",
       "      <td>0.000000</td>\n",
       "      <td>0.000000</td>\n",
       "    </tr>\n",
       "    <tr>\n",
       "      <th>25%</th>\n",
       "      <td>1.000000</td>\n",
       "      <td>0.119050</td>\n",
       "      <td>0.441202</td>\n",
       "      <td>2.063788e+05</td>\n",
       "      <td>0.395058</td>\n",
       "      <td>0.004835</td>\n",
       "      <td>0.137687</td>\n",
       "      <td>-12.427656</td>\n",
       "      <td>0.044900</td>\n",
       "      <td>109.198143</td>\n",
       "      <td>0.348578</td>\n",
       "      <td>32.491279</td>\n",
       "      <td>3.000000</td>\n",
       "    </tr>\n",
       "    <tr>\n",
       "      <th>50%</th>\n",
       "      <td>1.000000</td>\n",
       "      <td>0.321745</td>\n",
       "      <td>0.546496</td>\n",
       "      <td>2.375453e+05</td>\n",
       "      <td>0.601195</td>\n",
       "      <td>0.080700</td>\n",
       "      <td>0.178764</td>\n",
       "      <td>-9.221817</td>\n",
       "      <td>0.059457</td>\n",
       "      <td>119.194167</td>\n",
       "      <td>0.500048</td>\n",
       "      <td>43.056569</td>\n",
       "      <td>7.000000</td>\n",
       "    </tr>\n",
       "    <tr>\n",
       "      <th>75%</th>\n",
       "      <td>1.000000</td>\n",
       "      <td>0.673991</td>\n",
       "      <td>0.647500</td>\n",
       "      <td>2.772720e+05</td>\n",
       "      <td>0.730127</td>\n",
       "      <td>0.343333</td>\n",
       "      <td>0.220856</td>\n",
       "      <td>-6.920125</td>\n",
       "      <td>0.091000</td>\n",
       "      <td>127.508750</td>\n",
       "      <td>0.640257</td>\n",
       "      <td>51.138889</td>\n",
       "      <td>9.000000</td>\n",
       "    </tr>\n",
       "    <tr>\n",
       "      <th>max</th>\n",
       "      <td>1.000000</td>\n",
       "      <td>0.996000</td>\n",
       "      <td>0.929000</td>\n",
       "      <td>2.382587e+06</td>\n",
       "      <td>0.994667</td>\n",
       "      <td>0.992000</td>\n",
       "      <td>0.960000</td>\n",
       "      <td>0.060000</td>\n",
       "      <td>0.946219</td>\n",
       "      <td>204.212000</td>\n",
       "      <td>0.980000</td>\n",
       "      <td>80.666667</td>\n",
       "      <td>11.000000</td>\n",
       "    </tr>\n",
       "  </tbody>\n",
       "</table>\n",
       "</div>"
      ],
      "text/plain": [
       "              mode  acousticness  danceability   duration_ms       energy  \\\n",
       "count  2973.000000   2973.000000   2973.000000  2.973000e+03  2973.000000   \n",
       "mean      0.833165      0.401241      0.537187  2.517209e+05     0.561143   \n",
       "std       0.372891      0.319760      0.150668  9.465686e+04     0.234486   \n",
       "min       0.000000      0.000003      0.056900  3.094600e+04     0.001002   \n",
       "25%       1.000000      0.119050      0.441202  2.063788e+05     0.395058   \n",
       "50%       1.000000      0.321745      0.546496  2.375453e+05     0.601195   \n",
       "75%       1.000000      0.673991      0.647500  2.772720e+05     0.730127   \n",
       "max       1.000000      0.996000      0.929000  2.382587e+06     0.994667   \n",
       "\n",
       "       instrumentalness     liveness     loudness  speechiness        tempo  \\\n",
       "count       2973.000000  2973.000000  2973.000000  2973.000000  2973.000000   \n",
       "mean           0.211366     0.192800   -10.509848     0.083588   119.018723   \n",
       "std            0.267329     0.092356     5.369202     0.080483    17.469188   \n",
       "min            0.000000     0.022200   -41.825000     0.023800    47.135722   \n",
       "25%            0.004835     0.137687   -12.427656     0.044900   109.198143   \n",
       "50%            0.080700     0.178764    -9.221817     0.059457   119.194167   \n",
       "75%            0.343333     0.220856    -6.920125     0.091000   127.508750   \n",
       "max            0.992000     0.960000     0.060000     0.946219   204.212000   \n",
       "\n",
       "           valence   popularity          key  \n",
       "count  2973.000000  2973.000000  2973.000000  \n",
       "mean      0.492748    39.919185     5.938782  \n",
       "std       0.201820    16.748723     3.368110  \n",
       "min       0.003353     0.000000     0.000000  \n",
       "25%       0.348578    32.491279     3.000000  \n",
       "50%       0.500048    43.056569     7.000000  \n",
       "75%       0.640257    51.138889     9.000000  \n",
       "max       0.980000    80.666667    11.000000  "
      ]
     },
     "execution_count": 5,
     "metadata": {},
     "output_type": "execute_result"
    }
   ],
   "source": [
    "df.describe()"
   ]
  },
  {
   "cell_type": "code",
   "execution_count": 6,
   "metadata": {},
   "outputs": [
    {
     "data": {
      "text/html": [
       "<div>\n",
       "<style scoped>\n",
       "    .dataframe tbody tr th:only-of-type {\n",
       "        vertical-align: middle;\n",
       "    }\n",
       "\n",
       "    .dataframe tbody tr th {\n",
       "        vertical-align: top;\n",
       "    }\n",
       "\n",
       "    .dataframe thead th {\n",
       "        text-align: right;\n",
       "    }\n",
       "</style>\n",
       "<table border=\"1\" class=\"dataframe\">\n",
       "  <thead>\n",
       "    <tr style=\"text-align: right;\">\n",
       "      <th></th>\n",
       "      <th>mode</th>\n",
       "      <th>genres</th>\n",
       "      <th>acousticness</th>\n",
       "      <th>danceability</th>\n",
       "      <th>duration_ms</th>\n",
       "      <th>energy</th>\n",
       "      <th>instrumentalness</th>\n",
       "      <th>liveness</th>\n",
       "      <th>loudness</th>\n",
       "      <th>speechiness</th>\n",
       "      <th>tempo</th>\n",
       "      <th>valence</th>\n",
       "      <th>popularity</th>\n",
       "      <th>key</th>\n",
       "    </tr>\n",
       "  </thead>\n",
       "  <tbody>\n",
       "    <tr>\n",
       "      <th>0</th>\n",
       "      <td>1</td>\n",
       "      <td>21st century classical</td>\n",
       "      <td>0.979333</td>\n",
       "      <td>0.162883</td>\n",
       "      <td>1.602977e+05</td>\n",
       "      <td>0.071317</td>\n",
       "      <td>0.606834</td>\n",
       "      <td>0.361600</td>\n",
       "      <td>-31.514333</td>\n",
       "      <td>0.040567</td>\n",
       "      <td>75.336500</td>\n",
       "      <td>0.103783</td>\n",
       "      <td>27.833333</td>\n",
       "      <td>6</td>\n",
       "    </tr>\n",
       "    <tr>\n",
       "      <th>1</th>\n",
       "      <td>1</td>\n",
       "      <td>432hz</td>\n",
       "      <td>0.494780</td>\n",
       "      <td>0.299333</td>\n",
       "      <td>1.048887e+06</td>\n",
       "      <td>0.450678</td>\n",
       "      <td>0.477762</td>\n",
       "      <td>0.131000</td>\n",
       "      <td>-16.854000</td>\n",
       "      <td>0.076817</td>\n",
       "      <td>120.285667</td>\n",
       "      <td>0.221750</td>\n",
       "      <td>52.500000</td>\n",
       "      <td>5</td>\n",
       "    </tr>\n",
       "    <tr>\n",
       "      <th>2</th>\n",
       "      <td>1</td>\n",
       "      <td>8-bit</td>\n",
       "      <td>0.762000</td>\n",
       "      <td>0.712000</td>\n",
       "      <td>1.151770e+05</td>\n",
       "      <td>0.818000</td>\n",
       "      <td>0.876000</td>\n",
       "      <td>0.126000</td>\n",
       "      <td>-9.180000</td>\n",
       "      <td>0.047000</td>\n",
       "      <td>133.444000</td>\n",
       "      <td>0.975000</td>\n",
       "      <td>48.000000</td>\n",
       "      <td>7</td>\n",
       "    </tr>\n",
       "    <tr>\n",
       "      <th>3</th>\n",
       "      <td>1</td>\n",
       "      <td>[]</td>\n",
       "      <td>0.651417</td>\n",
       "      <td>0.529093</td>\n",
       "      <td>2.328809e+05</td>\n",
       "      <td>0.419146</td>\n",
       "      <td>0.205309</td>\n",
       "      <td>0.218696</td>\n",
       "      <td>-12.288965</td>\n",
       "      <td>0.107872</td>\n",
       "      <td>112.857352</td>\n",
       "      <td>0.513604</td>\n",
       "      <td>20.859882</td>\n",
       "      <td>7</td>\n",
       "    </tr>\n",
       "    <tr>\n",
       "      <th>4</th>\n",
       "      <td>1</td>\n",
       "      <td>a cappella</td>\n",
       "      <td>0.676557</td>\n",
       "      <td>0.538961</td>\n",
       "      <td>1.906285e+05</td>\n",
       "      <td>0.316434</td>\n",
       "      <td>0.003003</td>\n",
       "      <td>0.172254</td>\n",
       "      <td>-12.479387</td>\n",
       "      <td>0.082851</td>\n",
       "      <td>112.110362</td>\n",
       "      <td>0.448249</td>\n",
       "      <td>45.820071</td>\n",
       "      <td>7</td>\n",
       "    </tr>\n",
       "  </tbody>\n",
       "</table>\n",
       "</div>"
      ],
      "text/plain": [
       "   mode                  genres  acousticness  danceability   duration_ms  \\\n",
       "0     1  21st century classical      0.979333      0.162883  1.602977e+05   \n",
       "1     1                   432hz      0.494780      0.299333  1.048887e+06   \n",
       "2     1                   8-bit      0.762000      0.712000  1.151770e+05   \n",
       "3     1                      []      0.651417      0.529093  2.328809e+05   \n",
       "4     1              a cappella      0.676557      0.538961  1.906285e+05   \n",
       "\n",
       "     energy  instrumentalness  liveness   loudness  speechiness       tempo  \\\n",
       "0  0.071317          0.606834  0.361600 -31.514333     0.040567   75.336500   \n",
       "1  0.450678          0.477762  0.131000 -16.854000     0.076817  120.285667   \n",
       "2  0.818000          0.876000  0.126000  -9.180000     0.047000  133.444000   \n",
       "3  0.419146          0.205309  0.218696 -12.288965     0.107872  112.857352   \n",
       "4  0.316434          0.003003  0.172254 -12.479387     0.082851  112.110362   \n",
       "\n",
       "    valence  popularity  key  \n",
       "0  0.103783   27.833333    6  \n",
       "1  0.221750   52.500000    5  \n",
       "2  0.975000   48.000000    7  \n",
       "3  0.513604   20.859882    7  \n",
       "4  0.448249   45.820071    7  "
      ]
     },
     "execution_count": 6,
     "metadata": {},
     "output_type": "execute_result"
    }
   ],
   "source": [
    "df.head()"
   ]
  },
  {
   "attachments": {},
   "cell_type": "markdown",
   "metadata": {},
   "source": [
    "Padronizando os dados"
   ]
  },
  {
   "cell_type": "code",
   "execution_count": 7,
   "metadata": {},
   "outputs": [
    {
     "data": {
      "text/plain": [
       "mode                1.015744e-17\n",
       "acousticness       -1.386192e-16\n",
       "danceability        4.779971e-18\n",
       "duration_ms        -2.115137e-16\n",
       "energy             -3.226481e-16\n",
       "instrumentalness   -9.559943e-18\n",
       "liveness            6.213963e-17\n",
       "loudness           -2.198787e-16\n",
       "speechiness        -8.723448e-17\n",
       "tempo               4.684372e-16\n",
       "valence             8.603948e-17\n",
       "popularity         -3.656678e-16\n",
       "key                -1.194993e-16\n",
       "dtype: float64"
      ]
     },
     "execution_count": 7,
     "metadata": {},
     "output_type": "execute_result"
    }
   ],
   "source": [
    "scaler = StandardScaler()\n",
    "atributos = ['mode', 'acousticness', 'danceability', 'duration_ms',\t'energy',\t'instrumentalness',\t'liveness' , 'loudness', 'speechiness', 'tempo', 'valence' , 'popularity', 'key']\n",
    "df[atributos] = scaler.fit_transform(df[atributos])\n",
    "df[atributos].mean()"
   ]
  },
  {
   "cell_type": "code",
   "execution_count": 8,
   "metadata": {},
   "outputs": [
    {
     "data": {
      "text/plain": [
       "array([[ 0.44748433,  1.80819676, -2.48471886, ..., -1.92760907,\n",
       "        -0.72171978,  0.01817872],\n",
       "       [ 0.44748433,  0.29257799, -1.57893122, ..., -1.34299618,\n",
       "         0.7512771 , -0.27877364],\n",
       "       [ 0.44748433,  1.12840682,  1.16044852, ...,  2.38991988,\n",
       "         0.4825547 ,  0.31513108],\n",
       "       ...,\n",
       "       [ 0.44748433, -0.43158249,  1.40532576, ...,  1.6421528 ,\n",
       "         0.40293325, -0.27877364],\n",
       "       [-2.23471511,  1.85094428,  1.11840634, ...,  1.22036371,\n",
       "        -2.38381762,  0.31513108],\n",
       "       [ 0.44748433,  0.0619243 ,  0.61218797, ...,  1.56500441,\n",
       "        -0.57669499,  0.31513108]])"
      ]
     },
     "execution_count": 8,
     "metadata": {},
     "output_type": "execute_result"
    }
   ],
   "source": [
    "U, S, V = np.linalg.svd(df[atributos], full_matrices= False) ## Fazendo o SVD\n",
    "U @ np.diag(S) @ V"
   ]
  },
  {
   "cell_type": "code",
   "execution_count": 9,
   "metadata": {},
   "outputs": [
    {
     "data": {
      "text/plain": [
       "2.4229192338281295e-13"
      ]
     },
     "execution_count": 9,
     "metadata": {},
     "output_type": "execute_result"
    }
   ],
   "source": [
    "np.linalg.norm((U @ np.diag(S) @ V) - df[atributos]) ## De acordo com a norma de Frobenius, as matrizes são praticamente iguais"
   ]
  },
  {
   "attachments": {},
   "cell_type": "markdown",
   "metadata": {},
   "source": [
    "Vendo a relevância de cada componente principal"
   ]
  },
  {
   "cell_type": "code",
   "execution_count": 10,
   "metadata": {},
   "outputs": [
    {
     "data": {
      "text/plain": [
       "array([16.56336512, 10.57028663,  9.47052047,  8.65686273,  8.51108941,\n",
       "        7.89738923,  7.8045844 ,  7.36327996,  6.70396008,  6.190363  ,\n",
       "        4.56209679,  3.56792531,  2.13827688])"
      ]
     },
     "execution_count": 10,
     "metadata": {},
     "output_type": "execute_result"
    }
   ],
   "source": [
    "S/S.sum() * 100"
   ]
  },
  {
   "cell_type": "code",
   "execution_count": 11,
   "metadata": {},
   "outputs": [
    {
     "data": {
      "text/plain": [
       "(13, 13)"
      ]
     },
     "execution_count": 11,
     "metadata": {},
     "output_type": "execute_result"
    }
   ],
   "source": [
    "(U[0:2].T @ np.diag(S[0:2]) @ V[0:2]).shape"
   ]
  },
  {
   "cell_type": "code",
   "execution_count": 20,
   "metadata": {},
   "outputs": [
    {
     "data": {
      "text/plain": [
       "(0.95, 2.0)"
      ]
     },
     "execution_count": 20,
     "metadata": {},
     "output_type": "execute_result"
    },
    {
     "data": {
      "image/png": "[encoded data removed]",
      "text/plain": [
       "<Figure size 640x480 with 1 Axes>"
      ]
     },
     "metadata": {},
     "output_type": "display_data"
    }
   ],
   "source": [
    "\n",
    "sns.scatterplot(x =V[0] * S[0] , y = [1] * 13, hue = atributos, palette= sns.color_palette(cc.glasbey_bw,13))\n",
    "plt.ylim([0.95,2])"
   ]
  },
  {
   "cell_type": "code",
   "execution_count": 19,
   "metadata": {},
   "outputs": [
    {
     "data": {
      "image/png": "[encoded data removed]",
      "text/plain": [
       "<Figure size 640x480 with 1 Axes>"
      ]
     },
     "metadata": {},
     "output_type": "display_data"
    }
   ],
   "source": [
    "ax = sns.scatterplot(x = V[0] * S[0] , y = V[1] * S[1], hue = atributos, palette= sns.color_palette(cc.glasbey_bw,13))\n",
    "sns.move_legend(ax,'upper left', bbox_to_anchor = (1,1) )"
   ]
  },
  {
   "cell_type": "code",
   "execution_count": 40,
   "metadata": {},
   "outputs": [
    {
     "name": "stderr",
     "output_type": "stream",
     "text": [
      "/home/thalles/.local/lib/python3.11/site-packages/sklearn/cluster/_kmeans.py:870: FutureWarning: The default value of `n_init` will change from 10 to 'auto' in 1.4. Set the value of `n_init` explicitly to suppress the warning\n",
      "  warnings.warn(\n"
     ]
    },
    {
     "data": {
      "text/plain": [
       "array([0, 2, 1, 0, 3, 2, 0, 3, 0, 1, 1, 1, 0], dtype=int32)"
      ]
     },
     "execution_count": 40,
     "metadata": {},
     "output_type": "execute_result"
    }
   ],
   "source": [
    "kmeans = KMeans(n_clusters= 4)\n",
    "kmeans.fit(X = (V[0] * S[0]).reshape(-1,1) , y = V[1] * S[1])\n",
    "kmeans.labels_"
   ]
  },
  {
   "cell_type": "code",
   "execution_count": 41,
   "metadata": {},
   "outputs": [
    {
     "data": {
      "text/plain": [
       "<AxesSubplot: >"
      ]
     },
     "execution_count": 41,
     "metadata": {},
     "output_type": "execute_result"
    },
    {
     "data": {
      "image/png": "[encoded data removed]",
      "text/plain": [
       "<Figure size 640x480 with 1 Axes>"
      ]
     },
     "metadata": {},
     "output_type": "display_data"
    }
   ],
   "source": [
    "sns.scatterplot(x = V[0] * S[0] , y = V[1] * S[1], hue = kmeans.labels_, palette= 'tab10')"
   ]
  },
  {
   "cell_type": "code",
   "execution_count": 66,
   "metadata": {},
   "outputs": [
    {
     "name": "stderr",
     "output_type": "stream",
     "text": [
      "/home/thalles/.local/lib/python3.11/site-packages/sklearn/cluster/_kmeans.py:870: FutureWarning: The default value of `n_init` will change from 10 to 'auto' in 1.4. Set the value of `n_init` explicitly to suppress the warning\n",
      "  warnings.warn(\n"
     ]
    },
    {
     "data": {
      "text/plain": [
       "array([1, 2, 1, 5, 1, 3, 0, 1, 1, 2, 2, 4, 4], dtype=int32)"
      ]
     },
     "execution_count": 66,
     "metadata": {},
     "output_type": "execute_result"
    }
   ],
   "source": [
    "kmeans = KMeans(n_clusters= 6)\n",
    "kmeans.fit(V @ np.diag(S))\n",
    "kmeans.labels_"
   ]
  },
  {
   "cell_type": "code",
   "execution_count": 67,
   "metadata": {},
   "outputs": [
    {
     "data": {
      "text/plain": [
       "[['liveness'],\n",
       " ['mode', 'danceability', 'energy', 'loudness', 'speechiness'],\n",
       " ['acousticness', 'tempo', 'valence'],\n",
       " ['instrumentalness'],\n",
       " ['popularity', 'key'],\n",
       " ['duration_ms']]"
      ]
     },
     "execution_count": 67,
     "metadata": {},
     "output_type": "execute_result"
    }
   ],
   "source": [
    "clusters = [[] for i in range(6)]\n",
    "for atributo, cluster in zip(atributos, kmeans.labels_):\n",
    "    clusters[cluster].append(atributo)\n",
    "clusters\n"
   ]
  }
 ],
 "metadata": {
  "kernelspec": {
   "display_name": "Python 3",
   "language": "python",
   "name": "python3"
  },
  "language_info": {
   "codemirror_mode": {
    "name": "ipython",
    "version": 3
   },
   "file_extension": ".py",
   "mimetype": "text/x-python",
   "name": "python",
   "nbconvert_exporter": "python",
   "pygments_lexer": "ipython3",
   "version": "3.11.3"
  },
  "orig_nbformat": 4
 },
 "nbformat": 4,
 "nbformat_minor": 2
}
